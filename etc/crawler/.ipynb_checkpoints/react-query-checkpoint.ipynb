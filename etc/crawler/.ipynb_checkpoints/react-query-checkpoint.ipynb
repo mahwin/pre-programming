{
 "cells": [
  {
   "cell_type": "code",
   "execution_count": 13,
   "id": "0c470fc9",
   "metadata": {},
   "outputs": [],
   "source": [
    "import requests\n",
    "from bs4 import BeautifulSoup as bs\n",
    "from selenium import webdriver\n",
    "import time"
   ]
  },
  {
   "cell_type": "code",
   "execution_count": 14,
   "id": "e1f5e786",
   "metadata": {},
   "outputs": [],
   "source": [
    "def getHtmlToSoup(url):\n",
    "    webdriverhtml = requests.get(url)\n",
    "    return bs(webdriverhtml.text,'html.parser')"
   ]
  },
  {
   "cell_type": "code",
   "execution_count": 17,
   "id": "42dd0527",
   "metadata": {},
   "outputs": [],
   "source": [
    "homeUrl = 'https://tanstack.com/query/v4/docs/overview'\n",
    "totalUrlArray = [homeUrl]\n",
    "# react, solid, vue를 한 웹에서 다루고 있음.\n",
    "# url도 deps가 깊고 내용도 상당히 많아서 학습자 입장에서 필요한 GUIDES & CONCEPTS 부분만 url 가져오기로 함."
   ]
  },
  {
   "cell_type": "code",
   "execution_count": 19,
   "id": "2999cf13",
   "metadata": {},
   "outputs": [],
   "source": [
    "soup = getHtmlToSoup(homeUrl)"
   ]
  },
  {
   "cell_type": "code",
   "execution_count": null,
   "id": "ac62559c",
   "metadata": {},
   "outputs": [],
   "source": []
  }
 ],
 "metadata": {
  "kernelspec": {
   "display_name": "Python 3",
   "language": "python",
   "name": "python3"
  },
  "language_info": {
   "codemirror_mode": {
    "name": "ipython",
    "version": 3
   },
   "file_extension": ".py",
   "mimetype": "text/x-python",
   "name": "python",
   "nbconvert_exporter": "python",
   "pygments_lexer": "ipython3",
   "version": "3.8.8"
  }
 },
 "nbformat": 4,
 "nbformat_minor": 5
}
