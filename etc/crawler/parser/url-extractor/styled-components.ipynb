{
 "cells": [
  {
   "cell_type": "code",
   "execution_count": 1,
   "id": "4d9eb822",
   "metadata": {},
   "outputs": [],
   "source": [
    "import requests\n",
    "from bs4 import BeautifulSoup as bs\n",
    "from selenium import webdriver\n",
    "import time"
   ]
  },
  {
   "cell_type": "code",
   "execution_count": 2,
   "id": "ff094af6",
   "metadata": {},
   "outputs": [],
   "source": [
    "def getHtmlToSoup(url):\n",
    "    webdriverhtml = requests.get(url)\n",
    "    return bs(webdriverhtml.text,'html.parser')"
   ]
  },
  {
   "cell_type": "code",
   "execution_count": 3,
   "id": "7f031944",
   "metadata": {},
   "outputs": [],
   "source": [
    "# css 관련 프레임워크라서 사용 예시가 많음, 대부분의 학습 내용은 docs에 있어서 여기 부분만 크롤링하기로 함."
   ]
  },
  {
   "cell_type": "code",
   "execution_count": 4,
   "id": "63a5ad35",
   "metadata": {},
   "outputs": [],
   "source": [
    "homeUrl = 'https://styled-components.com/docs'"
   ]
  },
  {
   "cell_type": "code",
   "execution_count": 5,
   "id": "9d45972c",
   "metadata": {},
   "outputs": [],
   "source": [
    "soup = getHtmlToSoup(homeUrl)\n",
    "totalUrlArray = [homeUrl]"
   ]
  },
  {
   "cell_type": "code",
   "execution_count": 6,
   "id": "cc2bc192",
   "metadata": {},
   "outputs": [],
   "source": [
    "for element in soup.select('h3 > a'):\n",
    "    totalUrlArray += ['https://styled-components.com' + element.attrs['href']]"
   ]
  },
  {
   "cell_type": "code",
   "execution_count": 7,
   "id": "552131a9",
   "metadata": {},
   "outputs": [
    {
     "name": "stdout",
     "output_type": "stream",
     "text": [
      "https://styled-components.com/docs\n",
      "https://styled-components.com/docs/basics#motivation\n",
      "https://styled-components.com/docs/basics#installation\n",
      "https://styled-components.com/docs/basics#getting-started\n",
      "https://styled-components.com/docs/basics#adapting-based-on-props\n",
      "https://styled-components.com/docs/basics#extending-styles\n",
      "https://styled-components.com/docs/basics#styling-any-component\n",
      "https://styled-components.com/docs/basics#passed-props\n",
      "https://styled-components.com/docs/basics#coming-from-css\n",
      "https://styled-components.com/docs/basics#attaching-additional-props\n",
      "...\n",
      "51개의 detail url로 구성\n"
     ]
    }
   ],
   "source": [
    "print(*totalUrlArray[:10],sep='\\n')\n",
    "print('...')\n",
    "print('{}개의 detail url로 구성'.format(len(totalUrlArray)))"
   ]
  },
  {
   "cell_type": "code",
   "execution_count": 8,
   "id": "f0ceedda",
   "metadata": {},
   "outputs": [],
   "source": [
    "import pickle\n",
    "f = open('styled-components.pkl','wb')\n",
    "pickle.dump(totalUrlArray, f)\n",
    "f.close()"
   ]
  },
  {
   "cell_type": "code",
   "execution_count": null,
   "id": "62032a44",
   "metadata": {},
   "outputs": [],
   "source": []
  }
 ],
 "metadata": {
  "kernelspec": {
   "display_name": "Python 3",
   "language": "python",
   "name": "python3"
  },
  "language_info": {
   "codemirror_mode": {
    "name": "ipython",
    "version": 3
   },
   "file_extension": ".py",
   "mimetype": "text/x-python",
   "name": "python",
   "nbconvert_exporter": "python",
   "pygments_lexer": "ipython3",
   "version": "3.8.8"
  }
 },
 "nbformat": 4,
 "nbformat_minor": 5
}
