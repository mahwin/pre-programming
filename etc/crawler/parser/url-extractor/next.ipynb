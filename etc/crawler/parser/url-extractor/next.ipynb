{
 "cells": [
  {
   "cell_type": "code",
   "execution_count": 1,
   "id": "b9f63e43",
   "metadata": {},
   "outputs": [],
   "source": [
    "import requests\n",
    "from bs4 import BeautifulSoup as bs\n",
    "from selenium import webdriver\n",
    "import time"
   ]
  },
  {
   "cell_type": "code",
   "execution_count": 2,
   "id": "c2745187",
   "metadata": {},
   "outputs": [],
   "source": [
    "def getHtmlToSoup(url):\n",
    "    webdriverhtml = requests.get(url)\n",
    "    return bs(webdriverhtml.text,'html.parser')"
   ]
  },
  {
   "cell_type": "code",
   "execution_count": 3,
   "id": "d09a5c55",
   "metadata": {},
   "outputs": [],
   "source": [
    "# homepage에 docs에 대부분의 학습내용이 있어서 docs만 크롤링함. 나머지는 템플릿, 사용처, 사용자 경험 수치 등임."
   ]
  },
  {
   "cell_type": "code",
   "execution_count": 4,
   "id": "fbd04600",
   "metadata": {},
   "outputs": [],
   "source": [
    "homeUrl='https://nextjs.org/docs'\n",
    "totalUrlArray=[]"
   ]
  },
  {
   "cell_type": "code",
   "execution_count": 5,
   "id": "0fba1f92",
   "metadata": {},
   "outputs": [],
   "source": [
    "soup = getHtmlToSoup(homeUrl)\n",
    "for element in soup.select('nav')[1].select('div')[0].select('a'):\n",
    "    totalUrlArray += [ 'https://nextjs.org'+element.attrs['href']]"
   ]
  },
  {
   "cell_type": "code",
   "execution_count": 6,
   "id": "8eb218cb",
   "metadata": {},
   "outputs": [
    {
     "name": "stdout",
     "output_type": "stream",
     "text": [
      "https://nextjs.org/docs/getting-started\n",
      "https://nextjs.org/docs/basic-features/pages\n",
      "https://nextjs.org/docs/basic-features/data-fetching/overview\n",
      "https://nextjs.org/docs/basic-features/data-fetching/get-server-side-props\n",
      "https://nextjs.org/docs/basic-features/data-fetching/get-static-paths\n",
      "https://nextjs.org/docs/basic-features/data-fetching/get-static-props\n",
      "https://nextjs.org/docs/basic-features/data-fetching/incremental-static-regeneration\n",
      "https://nextjs.org/docs/basic-features/data-fetching/client-side\n",
      "https://nextjs.org/docs/basic-features/built-in-css-support\n",
      "https://nextjs.org/docs/basic-features/layouts\n",
      "...\n",
      "74개의 detail url로 구성되어 있다.\n"
     ]
    }
   ],
   "source": [
    "print(*totalUrlArray[:10], sep='\\n')\n",
    "print('...')\n",
    "print('{}개의 detail url로 구성되어 있다.'.format(len(totalUrlArray)))"
   ]
  },
  {
   "cell_type": "code",
   "execution_count": 7,
   "id": "86d6fc0b",
   "metadata": {},
   "outputs": [],
   "source": [
    "import pickle\n",
    "f = open('next.pkl','wb')\n",
    "pickle.dump(totalUrlArray, f)\n",
    "f.close()"
   ]
  }
 ],
 "metadata": {
  "kernelspec": {
   "display_name": "Python 3",
   "language": "python",
   "name": "python3"
  },
  "language_info": {
   "codemirror_mode": {
    "name": "ipython",
    "version": 3
   },
   "file_extension": ".py",
   "mimetype": "text/x-python",
   "name": "python",
   "nbconvert_exporter": "python",
   "pygments_lexer": "ipython3",
   "version": "3.8.8"
  }
 },
 "nbformat": 4,
 "nbformat_minor": 5
}
