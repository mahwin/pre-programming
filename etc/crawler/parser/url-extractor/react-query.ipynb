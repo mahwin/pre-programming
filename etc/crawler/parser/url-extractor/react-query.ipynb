{
 "cells": [
  {
   "cell_type": "code",
   "execution_count": 1,
   "id": "7df0f524",
   "metadata": {},
   "outputs": [],
   "source": [
    "import requests\n",
    "from bs4 import BeautifulSoup as bs\n",
    "import time"
   ]
  },
  {
   "cell_type": "code",
   "execution_count": 2,
   "id": "ebff361e",
   "metadata": {},
   "outputs": [],
   "source": [
    "def getHtmlToSoup(url):\n",
    "    webdriverhtml = requests.get(url)\n",
    "    return bs(webdriverhtml.text,'html.parser')"
   ]
  },
  {
   "cell_type": "code",
   "execution_count": 3,
   "id": "250e518e",
   "metadata": {},
   "outputs": [],
   "source": [
    "# react, solid, vue를 한 웹에서 다루고 있고, 또 부차적인 내용도 많이 담고 있어 필터해서 갖고 오기로 결정. \n",
    "# 8개의 큰 url로 구성\n",
    "\n",
    "# menu                => 무시  0\n",
    "# Getting started     => 필요  1\n",
    "# adaters             => 무시  2\n",
    "# GUIDES & CONCEPTS   => 필요  3\n",
    "# COMMUNITY RESOURCES => 무시  4\n",
    "# EXAMPLES            => 필요  5 \n",
    "# PLUGINS             => 무시  6\n",
    "# API REFERENCE       => 필요  7\n",
    "# [1,3,5,7] 필요"
   ]
  },
  {
   "cell_type": "code",
   "execution_count": 4,
   "id": "d35267b6",
   "metadata": {},
   "outputs": [],
   "source": [
    "homeUrl = 'https://tanstack.com/query/v4/docs'\n",
    "totalUrlArray = [homeUrl]"
   ]
  },
  {
   "cell_type": "code",
   "execution_count": 5,
   "id": "d88400f3",
   "metadata": {},
   "outputs": [],
   "source": [
    "soup = getHtmlToSoup(homeUrl)\n",
    "\n",
    "idx = 0\n",
    "# element type 이 html tag라서 index로 접근 x해서 idx로 그냥 카운팅함.\n",
    "for element in soup.select('#docs-details > div')[0]:\n",
    "    if idx % 2== 1:\n",
    "        for detail in element.select('a'):\n",
    "            totalUrlArray += [ 'https://tanstack.com' + detail.attrs['href']]\n",
    "    idx += 1 "
   ]
  },
  {
   "cell_type": "code",
   "execution_count": 6,
   "id": "4c9ab761",
   "metadata": {},
   "outputs": [
    {
     "name": "stdout",
     "output_type": "stream",
     "text": [
      "https://tanstack.com/query/v4/docs\n",
      "https://tanstack.com/query/v4/docs/overview\n",
      "https://tanstack.com/query/v4/docs/installation\n",
      "https://tanstack.com/query/v4/docs/quick-start\n",
      "https://tanstack.com/query/v4/docs/devtools\n",
      "https://tanstack.com/query/v4/docs/videos\n",
      "https://tanstack.com/query/v4/docs/comparison\n",
      "https://tanstack.com/query/v4/docs/typescript\n",
      "https://tanstack.com/query/v4/docs/graphql\n",
      "https://tanstack.com/query/v4/docs/react-native\n",
      "...\n",
      "79개의 detail url이 존재합니다\n"
     ]
    }
   ],
   "source": [
    "print(*totalUrlArray[:10],sep='\\n')\n",
    "print('...')\n",
    "print('{}개의 detail url이 존재합니다'.format(len(totalUrlArray)))"
   ]
  },
  {
   "cell_type": "code",
   "execution_count": 6,
   "id": "f5724b85",
   "metadata": {},
   "outputs": [],
   "source": [
    "import pickle\n",
    "f = open('react-query.pkl','wb')\n",
    "pickle.dump(totalUrlArray, f)\n",
    "f.close()"
   ]
  }
 ],
 "metadata": {
  "kernelspec": {
   "display_name": "Python 3",
   "language": "python",
   "name": "python3"
  },
  "language_info": {
   "codemirror_mode": {
    "name": "ipython",
    "version": 3
   },
   "file_extension": ".py",
   "mimetype": "text/x-python",
   "name": "python",
   "nbconvert_exporter": "python",
   "pygments_lexer": "ipython3",
   "version": "3.8.8"
  }
 },
 "nbformat": 4,
 "nbformat_minor": 5
}
