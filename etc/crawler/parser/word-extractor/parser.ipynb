{
 "cells": [
  {
   "cell_type": "code",
   "execution_count": 1,
   "id": "37d75ce9",
   "metadata": {},
   "outputs": [],
   "source": [
    "from nltk.tokenize import word_tokenize\n",
    "from nltk.tag import pos_tag\n",
    "from nltk.corpus import words \n",
    "# nltk.download('punkt')\n",
    "# nltk.download('averaged_perceptron_tagger')\n",
    "# nltk.download('words')\n",
    "import pickle\n",
    "import pandas as pd\n",
    "import re\n",
    "from tqdm import tqdm\n",
    "import json"
   ]
  },
  {
   "cell_type": "code",
   "execution_count": 2,
   "id": "52b0cfd6",
   "metadata": {},
   "outputs": [],
   "source": [
    "specialReg = r'[\\{\\}\\[\\]\\/?.,;:|\\)*~`!^\\-_+<>@\\#$%&\\\\\\=\\(\\'\\\"]'\n",
    "RegHangleAndNumber = r'[ㄱ-ㅎ가-힣0-9]'\n",
    "RegBlank =r'[ ]+'"
   ]
  },
  {
   "cell_type": "code",
   "execution_count": 3,
   "id": "7bcb13af",
   "metadata": {},
   "outputs": [],
   "source": [
    "def dataCleaner(rawData): # 특수문자제거,문자열 앞,뒤 공백 제거,중복 공백을 하나로\n",
    "    cleanData = []\n",
    "    for idx,text in enumerate(rawData):\n",
    "        tmpData = re.sub(specialReg,' ',text)\n",
    "        tmpData = re.sub(RegHangleAndNumber,' ',tmpData)\n",
    "        tmpData = re.sub(RegBlank,' ',tmpData)\n",
    "        tmpData.strip()\n",
    "        cleanData += [tmpData]\n",
    "    return cleanData"
   ]
  },
  {
   "cell_type": "code",
   "execution_count": 4,
   "id": "251b2a6e",
   "metadata": {},
   "outputs": [],
   "source": [
    "# NNP => 일반 명사, NN => 명사\n",
    "# VV => 동사\n",
    "# VB => 일반동사,VBD => 과거동사, VBN => 과거분사\n",
    "# JJ => 형용사, JJR =>형용사 비교급, JJS => 형용사 최상급\n",
    "def posTagger(datas):\n",
    "    for idx,data in enumerate(datas):\n",
    "        tmp = []\n",
    "        wordAndTaggers = pos_tag(word_tokenize(data))\n",
    "        for wordAndTagger in wordAndTaggers:\n",
    "            (word,tagger) = wordAndTagger\n",
    "            if tagger in ['NNP','NN','VV','VB','VBD','VBN','JJ','JJR','JJS']:\n",
    "                tmp += [word.lower()]\n",
    "        if tmp:\n",
    "            datas[idx] = tmp\n",
    "    return datas"
   ]
  },
  {
   "cell_type": "code",
   "execution_count": 5,
   "id": "3af376fb",
   "metadata": {},
   "outputs": [],
   "source": [
    "#word가 등장하는 수를 센다 ex) {'apple':15,'banana':15}\n",
    "#value값을 기준으로 다시 정렬한다 ex {'15':['apple','banana']}\n",
    "\n",
    "def frequencyObj(datas):\n",
    "    tmpObj = {}\n",
    "    for data in datas:\n",
    "        for word in data:\n",
    "            if len(word) >= 3:\n",
    "                if word in tmpObj:\n",
    "                    tmpObj[word] += 1\n",
    "                else :\n",
    "                    tmpObj[word] = 1\n",
    "    frequencyObj = {}\n",
    "    for key,value in tmpObj.items():\n",
    "        if value in frequencyObj:\n",
    "            frequencyObj[value] += [key]\n",
    "        else:\n",
    "            frequencyObj[value] = [key]\n",
    "    \n",
    "    return frequencyObj"
   ]
  },
  {
   "cell_type": "code",
   "execution_count": 6,
   "id": "f0a54b21",
   "metadata": {},
   "outputs": [],
   "source": [
    "def sortor(dic):\n",
    "    sortObj ={}\n",
    "    keys = list(dic.keys())\n",
    "    keys.sort(reverse=True)\n",
    "    for key in keys:\n",
    "        sortObj[key] = dic[key]\n",
    "    return sortObj"
   ]
  },
  {
   "cell_type": "code",
   "execution_count": 7,
   "id": "507a3c67",
   "metadata": {},
   "outputs": [],
   "source": [
    "def sumAllWords(dic):\n",
    "    wordList = list(dic.values())\n",
    "    totalWord =[] \n",
    "    for words in wordList:\n",
    "        totalWord += [*words]    \n",
    "    return totalWord"
   ]
  },
  {
   "cell_type": "code",
   "execution_count": 8,
   "id": "b2511564",
   "metadata": {},
   "outputs": [],
   "source": [
    "def presentationList(arr):\n",
    "    print(*arr[:10],sep='\\n')\n",
    "    print('...')\n",
    "    print('총 {}개의 단어로 구성'.format(len(arr)))"
   ]
  },
  {
   "cell_type": "code",
   "execution_count": 9,
   "id": "54fb68e2",
   "metadata": {},
   "outputs": [],
   "source": [
    "\n",
    "# 영어단어가 진짜 영어사전 안에 존재하는지 확인\n",
    "def RealWordArray(totalWord):\n",
    "    realword = []\n",
    "    for word in tqdm(totalWord):\n",
    "        if word in words.words():\n",
    "            realword += [word]\n",
    "    return realword"
   ]
  },
  {
   "cell_type": "code",
   "execution_count": 10,
   "id": "862ebaff",
   "metadata": {},
   "outputs": [],
   "source": [
    "# 위의 함수 총 집합\n",
    "def dataParser(name):\n",
    "    with open('../../data/inner-text/{}InnerText.pkl'.format(name), 'rb') as f:\n",
    "        texts = pickle.load(f)\n",
    "        # span에 쓸모없는 내용이 많아서 제외\n",
    "        texts = texts[texts['tag'] != 'span']\n",
    "        rawData = texts['text']\n",
    "    \n",
    "    # 반복해서 등장하는 수 카운팅 \n",
    "    freObj = frequencyObj(posTagger(dataCleaner(rawData)))\n",
    "    with open('../../data/words/fre/{}.json'.format(name), 'w') as f:\n",
    "        json.dump(freObj, f, ensure_ascii=False, indent=4)\n",
    "    \n",
    "    totalWord = sumAllWords(sortor(freObj))\n",
    "    realWord = RealWordArray(totalWord)\n",
    "    presentationList(realWord)\n",
    "    f = open('../../data/words/{}.pkl'.format(name),'wb')\n",
    "    pickle.dump(realWord, f)"
   ]
  },
  {
   "cell_type": "markdown",
   "id": "3a11ae3c",
   "metadata": {},
   "source": [
    "# axios inner text "
   ]
  },
  {
   "cell_type": "code",
   "execution_count": 11,
   "id": "d257e690",
   "metadata": {},
   "outputs": [
    {
     "name": "stderr",
     "output_type": "stream",
     "text": [
      "100%|██████████| 233/233 [00:08<00:00, 27.23it/s]"
     ]
    },
    {
     "name": "stdout",
     "output_type": "stream",
     "text": [
      "other\n",
      "request\n",
      "instance\n",
      "use\n",
      "language\n",
      "node\n",
      "example\n",
      "browser\n",
      "cancel\n",
      "following\n",
      "...\n",
      "총 175개의 단어로 구성\n"
     ]
    },
    {
     "name": "stderr",
     "output_type": "stream",
     "text": [
      "\n"
     ]
    }
   ],
   "source": [
    "dataParser('axios')"
   ]
  },
  {
   "cell_type": "markdown",
   "id": "cfc02ca5",
   "metadata": {},
   "source": [
    "\n",
    "# tailwind  inner text "
   ]
  },
  {
   "cell_type": "code",
   "execution_count": 12,
   "id": "d763fafb",
   "metadata": {},
   "outputs": [
    {
     "name": "stderr",
     "output_type": "stream",
     "text": [
      "100%|██████████| 1127/1127 [00:41<00:00, 27.37it/s]\n"
     ]
    },
    {
     "name": "stdout",
     "output_type": "stream",
     "text": [
      "use\n",
      "class\n",
      "custom\n",
      "file\n",
      "modifier\n",
      "style\n",
      "utility\n",
      "example\n",
      "content\n",
      "add\n",
      "...\n",
      "총 857개의 단어로 구성\n"
     ]
    }
   ],
   "source": [
    "dataParser('tailwind')"
   ]
  },
  {
   "cell_type": "markdown",
   "id": "149be9d7",
   "metadata": {},
   "source": [
    "# react-router inner text"
   ]
  },
  {
   "cell_type": "code",
   "execution_count": 13,
   "id": "36ccf291",
   "metadata": {},
   "outputs": [
    {
     "name": "stderr",
     "output_type": "stream",
     "text": [
      "100%|██████████| 1190/1190 [00:43<00:00, 27.42it/s]"
     ]
    },
    {
     "name": "stdout",
     "output_type": "stream",
     "text": [
      "route\n",
      "router\n",
      "react\n",
      "component\n",
      "render\n",
      "new\n",
      "form\n",
      "path\n",
      "use\n",
      "history\n",
      "...\n",
      "총 941개의 단어로 구성\n"
     ]
    },
    {
     "name": "stderr",
     "output_type": "stream",
     "text": [
      "\n"
     ]
    }
   ],
   "source": [
    "dataParser('reactRouter')"
   ]
  },
  {
   "cell_type": "markdown",
   "id": "394275c3",
   "metadata": {},
   "source": [
    "# react-hook-form inner text"
   ]
  },
  {
   "cell_type": "code",
   "execution_count": 14,
   "id": "92ff0fd3",
   "metadata": {},
   "outputs": [
    {
     "name": "stderr",
     "output_type": "stream",
     "text": [
      "100%|██████████| 750/750 [00:27<00:00, 27.36it/s]"
     ]
    },
    {
     "name": "stdout",
     "output_type": "stream",
     "text": [
      "form\n",
      "react\n",
      "hook\n",
      "input\n",
      "validation\n",
      "state\n",
      "component\n",
      "value\n",
      "support\n",
      "field\n",
      "...\n",
      "총 576개의 단어로 구성\n"
     ]
    },
    {
     "name": "stderr",
     "output_type": "stream",
     "text": [
      "\n"
     ]
    }
   ],
   "source": [
    "dataParser('reactHookForm')"
   ]
  },
  {
   "cell_type": "markdown",
   "id": "229226ea",
   "metadata": {},
   "source": [
    "# react-query inner text"
   ]
  },
  {
   "cell_type": "code",
   "execution_count": 15,
   "id": "0e2e31e9",
   "metadata": {},
   "outputs": [
    {
     "name": "stderr",
     "output_type": "stream",
     "text": [
      "100%|██████████| 558/558 [00:20<00:00, 27.84it/s]"
     ]
    },
    {
     "name": "stdout",
     "output_type": "stream",
     "text": [
      "query\n",
      "react\n",
      "state\n",
      "time\n",
      "mode\n",
      "server\n",
      "track\n",
      "learning\n",
      "free\n",
      "function\n",
      "...\n",
      "총 433개의 단어로 구성\n"
     ]
    },
    {
     "name": "stderr",
     "output_type": "stream",
     "text": [
      "\n"
     ]
    }
   ],
   "source": [
    "dataParser('reactQuery')"
   ]
  },
  {
   "cell_type": "markdown",
   "id": "84bb1034",
   "metadata": {},
   "source": [
    "\n",
    "# styled-components inner text"
   ]
  },
  {
   "cell_type": "code",
   "execution_count": 16,
   "id": "b2dc6d78",
   "metadata": {},
   "outputs": [
    {
     "name": "stderr",
     "output_type": "stream",
     "text": [
      "100%|██████████| 577/577 [00:20<00:00, 27.81it/s]"
     ]
    },
    {
     "name": "stdout",
     "output_type": "stream",
     "text": [
      "component\n",
      "react\n",
      "use\n",
      "native\n",
      "style\n",
      "example\n",
      "prop\n",
      "element\n",
      "single\n",
      "used\n",
      "...\n",
      "총 455개의 단어로 구성\n"
     ]
    },
    {
     "name": "stderr",
     "output_type": "stream",
     "text": [
      "\n"
     ]
    }
   ],
   "source": [
    "dataParser('styledComponents')"
   ]
  },
  {
   "cell_type": "markdown",
   "id": "f8c2621a",
   "metadata": {},
   "source": [
    "\n",
    "# react-redux inner text"
   ]
  },
  {
   "cell_type": "code",
   "execution_count": 17,
   "id": "1ec70088",
   "metadata": {},
   "outputs": [
    {
     "name": "stderr",
     "output_type": "stream",
     "text": [
      "100%|██████████| 927/927 [00:33<00:00, 27.79it/s]"
     ]
    },
    {
     "name": "stdout",
     "output_type": "stream",
     "text": [
      "redux\n",
      "react\n",
      "store\n",
      "component\n",
      "function\n",
      "state\n",
      "dispatch\n",
      "connect\n",
      "use\n",
      "object\n",
      "...\n",
      "총 630개의 단어로 구성\n"
     ]
    },
    {
     "name": "stderr",
     "output_type": "stream",
     "text": [
      "\n"
     ]
    }
   ],
   "source": [
    "dataParser('reactRedux')"
   ]
  },
  {
   "cell_type": "markdown",
   "id": "a2302547",
   "metadata": {},
   "source": [
    "\n",
    "# recoil inner text"
   ]
  },
  {
   "cell_type": "code",
   "execution_count": 18,
   "id": "3d0f99f2",
   "metadata": {
    "scrolled": true
   },
   "outputs": [
    {
     "name": "stderr",
     "output_type": "stream",
     "text": [
      "100%|██████████| 678/678 [00:24<00:00, 27.72it/s]"
     ]
    },
    {
     "name": "stdout",
     "output_type": "stream",
     "text": [
      "state\n",
      "atom\n",
      "selector\n",
      "value\n",
      "recoil\n",
      "react\n",
      "use\n",
      "component\n",
      "example\n",
      "function\n",
      "...\n",
      "총 482개의 단어로 구성\n"
     ]
    },
    {
     "name": "stderr",
     "output_type": "stream",
     "text": [
      "\n"
     ]
    }
   ],
   "source": [
    "dataParser('recoil')"
   ]
  },
  {
   "cell_type": "markdown",
   "id": "da29964a",
   "metadata": {},
   "source": [
    "\n",
    "# Next inner text"
   ]
  },
  {
   "cell_type": "code",
   "execution_count": 19,
   "id": "228c85d9",
   "metadata": {},
   "outputs": [
    {
     "name": "stderr",
     "output_type": "stream",
     "text": [
      "100%|██████████| 2058/2058 [01:18<00:00, 26.12it/s]"
     ]
    },
    {
     "name": "stdout",
     "output_type": "stream",
     "text": [
      "next\n",
      "custom\n",
      "static\n",
      "react\n",
      "build\n",
      "page\n",
      "server\n",
      "optimization\n",
      "image\n",
      "introduction\n",
      "...\n",
      "총 1331개의 단어로 구성\n"
     ]
    },
    {
     "name": "stderr",
     "output_type": "stream",
     "text": [
      "\n"
     ]
    }
   ],
   "source": [
    "dataParser('next')"
   ]
  },
  {
   "cell_type": "markdown",
   "id": "e9177a01",
   "metadata": {},
   "source": [
    "\n",
    "# react inner text"
   ]
  },
  {
   "cell_type": "code",
   "execution_count": 20,
   "id": "9bd61e99",
   "metadata": {},
   "outputs": [
    {
     "name": "stderr",
     "output_type": "stream",
     "text": [
      "100%|██████████| 3623/3623 [02:08<00:00, 28.14it/s]"
     ]
    },
    {
     "name": "stdout",
     "output_type": "stream",
     "text": [
      "react\n",
      "component\n",
      "state\n",
      "board\n",
      "game\n",
      "square\n",
      "code\n",
      "render\n",
      "method\n",
      "function\n",
      "...\n",
      "총 2328개의 단어로 구성\n"
     ]
    },
    {
     "name": "stderr",
     "output_type": "stream",
     "text": [
      "\n"
     ]
    }
   ],
   "source": [
    "dataParser('react')"
   ]
  },
  {
   "cell_type": "code",
   "execution_count": null,
   "id": "9469f856",
   "metadata": {},
   "outputs": [],
   "source": []
  }
 ],
 "metadata": {
  "kernelspec": {
   "display_name": "Python 3.8.10 64-bit ('mlp': conda)",
   "language": "python",
   "name": "python3810jvsc74a57bd0ce52bf728390bdc3e82d628f52f7f321bd0929be221c9428aa5f31873b71f1ee"
  },
  "language_info": {
   "codemirror_mode": {
    "name": "ipython",
    "version": 3
   },
   "file_extension": ".py",
   "mimetype": "text/x-python",
   "name": "python",
   "nbconvert_exporter": "python",
   "pygments_lexer": "ipython3",
   "version": "3.8.10"
  }
 },
 "nbformat": 4,
 "nbformat_minor": 5
}
