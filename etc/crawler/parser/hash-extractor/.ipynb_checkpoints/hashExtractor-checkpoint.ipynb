{
 "cells": [
  {
   "cell_type": "code",
   "execution_count": 2,
   "id": "49409ed4",
   "metadata": {},
   "outputs": [],
   "source": [
    "import pickle\n",
    "import requests\n",
    "from bs4 import BeautifulSoup as bs\n",
    "import time\n",
    "from selenium import webdriver\n",
    "import re"
   ]
  },
  {
   "cell_type": "code",
   "execution_count": 263,
   "id": "3a72b9f6",
   "metadata": {},
   "outputs": [],
   "source": [
    "def makeNaverDicUrl(word):\n",
    "    return 'https://en.dict.naver.com/#/search?query={}'.format(word)"
   ]
  },
  {
   "cell_type": "code",
   "execution_count": 277,
   "id": "4bda456c",
   "metadata": {},
   "outputs": [],
   "source": [
    "#페이지가 로드된 후에 html이 그려져서 selenium없이는 아무것도 크롤링 x\n",
    "def getSoupWithSelenium(driver,url):\n",
    "    driver.get(url)\n",
    "    time.sleep(2)\n",
    "    pageSource = driver.page_source\n",
    "    bsObj =  bs(pageSource,'html.parser')\n",
    "    aTag = bsObj.select('#searchPage_entry > div > div:nth-child(1) > div.origin > a')\n",
    "    hashValue = aTag[0].attrs['href']\n",
    "    return hashValue"
   ]
  },
  {
   "cell_type": "code",
   "execution_count": 295,
   "id": "4925e641",
   "metadata": {},
   "outputs": [],
   "source": [
    "def presetationDic(dic):\n",
    "    keys = list(dic.keys())\n",
    "    for key in keys[:10]:\n",
    "        print(dic[key])\n",
    "    print('...')\n",
    "    print('총 {}개의 hash url'.format(len(keys)))"
   ]
  },
  {
   "cell_type": "markdown",
   "id": "0155ea19",
   "metadata": {},
   "source": [
    "\n",
    "# axios hash url"
   ]
  },
  {
   "cell_type": "code",
   "execution_count": 278,
   "id": "469b6198",
   "metadata": {},
   "outputs": [],
   "source": [
    "f = open('../../data/words/axios.pkl','rb')\n",
    "words = pickle.load(f)"
   ]
  },
  {
   "cell_type": "code",
   "execution_count": 279,
   "id": "ed4e222a",
   "metadata": {},
   "outputs": [],
   "source": [
    "driver = webdriver.Chrome('/Users/jeong-youseock/Downloads/chromedriver')\n",
    "driver.implicitly_wait(3)\n",
    "hashDic = {}\n",
    "for word in words:\n",
    "    time.sleep(1)\n",
    "    url = makeNaverDicUrl(word)\n",
    "    hashValue = getSoupWithSelenium(driver,url)\n",
    "    hashDic[word] = hashValue"
   ]
  },
  {
   "cell_type": "code",
   "execution_count": 3,
   "id": "c9399664",
   "metadata": {},
   "outputs": [
    {
     "ename": "NameError",
     "evalue": "name 'presetationDic' is not defined",
     "output_type": "error",
     "traceback": [
      "\u001b[0;31m---------------------------------------------------------------------------\u001b[0m",
      "\u001b[0;31mNameError\u001b[0m                                 Traceback (most recent call last)",
      "\u001b[0;32m<ipython-input-3-c7518b0d9f46>\u001b[0m in \u001b[0;36m<module>\u001b[0;34m\u001b[0m\n\u001b[0;32m----> 1\u001b[0;31m \u001b[0mpresetationDic\u001b[0m\u001b[0;34m(\u001b[0m\u001b[0mhashDic\u001b[0m\u001b[0;34m)\u001b[0m\u001b[0;34m\u001b[0m\u001b[0;34m\u001b[0m\u001b[0m\n\u001b[0m",
      "\u001b[0;31mNameError\u001b[0m: name 'presetationDic' is not defined"
     ]
    }
   ],
   "source": [
    "presetationDic(hashDic)"
   ]
  },
  {
   "cell_type": "code",
   "execution_count": 1,
   "id": "9c9380a1",
   "metadata": {},
   "outputs": [
    {
     "ename": "NameError",
     "evalue": "name 'pickle' is not defined",
     "output_type": "error",
     "traceback": [
      "\u001b[0;31m---------------------------------------------------------------------------\u001b[0m",
      "\u001b[0;31mNameError\u001b[0m                                 Traceback (most recent call last)",
      "\u001b[0;32m<ipython-input-1-8ff746177030>\u001b[0m in \u001b[0;36m<module>\u001b[0;34m\u001b[0m\n\u001b[1;32m      1\u001b[0m \u001b[0mf\u001b[0m \u001b[0;34m=\u001b[0m \u001b[0mopen\u001b[0m\u001b[0;34m(\u001b[0m\u001b[0;34m'../../data/hashUrl/axios.pkl'\u001b[0m\u001b[0;34m,\u001b[0m\u001b[0;34m'wb'\u001b[0m\u001b[0;34m)\u001b[0m\u001b[0;34m\u001b[0m\u001b[0;34m\u001b[0m\u001b[0m\n\u001b[0;32m----> 2\u001b[0;31m \u001b[0mpickle\u001b[0m\u001b[0;34m.\u001b[0m\u001b[0mdump\u001b[0m\u001b[0;34m(\u001b[0m\u001b[0mhashDic\u001b[0m\u001b[0;34m,\u001b[0m \u001b[0mf\u001b[0m\u001b[0;34m)\u001b[0m\u001b[0;34m\u001b[0m\u001b[0;34m\u001b[0m\u001b[0m\n\u001b[0m\u001b[1;32m      3\u001b[0m \u001b[0mf\u001b[0m\u001b[0;34m.\u001b[0m\u001b[0mclose\u001b[0m\u001b[0;34m(\u001b[0m\u001b[0;34m)\u001b[0m\u001b[0;34m\u001b[0m\u001b[0;34m\u001b[0m\u001b[0m\n",
      "\u001b[0;31mNameError\u001b[0m: name 'pickle' is not defined"
     ]
    }
   ],
   "source": [
    "f = open('../../data/hashUrl/axios.pkl','wb')\n",
    "pickle.dump(hashDic, f)\n",
    "f.close()"
   ]
  },
  {
   "cell_type": "code",
   "execution_count": null,
   "id": "edf13db7",
   "metadata": {},
   "outputs": [],
   "source": []
  }
 ],
 "metadata": {
  "kernelspec": {
   "display_name": "Python 3.8.10 64-bit ('mlp': conda)",
   "language": "python",
   "name": "python3810jvsc74a57bd0ce52bf728390bdc3e82d628f52f7f321bd0929be221c9428aa5f31873b71f1ee"
  },
  "language_info": {
   "codemirror_mode": {
    "name": "ipython",
    "version": 3
   },
   "file_extension": ".py",
   "mimetype": "text/x-python",
   "name": "python",
   "nbconvert_exporter": "python",
   "pygments_lexer": "ipython3",
   "version": "3.8.10"
  }
 },
 "nbformat": 4,
 "nbformat_minor": 5
}
