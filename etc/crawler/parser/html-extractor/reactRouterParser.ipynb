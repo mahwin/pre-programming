{
 "cells": [
  {
   "cell_type": "code",
   "execution_count": 1,
   "id": "0a467e08",
   "metadata": {},
   "outputs": [],
   "source": [
    "import pandas as pd\n",
    "import requests\n",
    "import pickle\n",
    "import time\n",
    "from bs4 import BeautifulSoup as bs\n",
    "from tqdm import tqdm"
   ]
  },
  {
   "cell_type": "code",
   "execution_count": 2,
   "id": "d628c1c6",
   "metadata": {},
   "outputs": [],
   "source": [
    "def getHtmlToSoup(url):\n",
    "    webdriverhtml = requests.get(url)\n",
    "    return bs(webdriverhtml.text,'html.parser')"
   ]
  },
  {
   "cell_type": "code",
   "execution_count": 4,
   "id": "e4c119f9",
   "metadata": {},
   "outputs": [
    {
     "name": "stdout",
     "output_type": "stream",
     "text": [
      "https://reactrouter.com\n",
      "https://reactrouter.com/en/main/start/overview\n",
      "https://reactrouter.com/en/main/start/tutorial\n",
      "https://reactrouter.com/en/main/start/examples\n",
      "https://reactrouter.com/en/main/start/faq\n",
      "...\n"
     ]
    }
   ],
   "source": [
    "#찾을 urls\n",
    "f = open('../../data/urls/react-router.pkl','rb')\n",
    "urls = pickle.load(f)\n",
    "print(*urls[:5], sep='\\n')\n",
    "print('...')"
   ]
  },
  {
   "cell_type": "code",
   "execution_count": 5,
   "id": "b7c219df",
   "metadata": {},
   "outputs": [],
   "source": [
    "def textParser(url,tags):\n",
    "    bsObj = getHtmlToSoup(url)\n",
    "    for tag in tags:\n",
    "        nameList = bsObj.find_all(tag)\n",
    "        nameList = [i.text for i in nameList]\n",
    "        tagInterText[tag] += nameList\n",
    "    return tagInterText"
   ]
  },
  {
   "cell_type": "code",
   "execution_count": 6,
   "id": "11455b1c",
   "metadata": {},
   "outputs": [],
   "source": [
    "def dataToTable(data):\n",
    "    tmp = []\n",
    "    for key, texts in data.items():\n",
    "        for text in texts:\n",
    "            tmp.append([key,text])\n",
    "    df = pd.DataFrame(data=tmp,columns=['tag','text'])\n",
    "    return df"
   ]
  },
  {
   "cell_type": "code",
   "execution_count": 7,
   "id": "7854585d",
   "metadata": {},
   "outputs": [
    {
     "name": "stderr",
     "output_type": "stream",
     "text": [
      "100%|██████████| 15/15 [00:18<00:00,  1.24s/it]\n"
     ]
    }
   ],
   "source": [
    "tagInterText = {'p':[],'h1':[],'h2':[],'h3':[]}\n",
    "tags = ['p','h1','h2','h3']\n",
    "for url in tqdm(urls[:15]):\n",
    "    df = dataToTable(textParser(url,tags))\n",
    "    time.sleep(1)"
   ]
  },
  {
   "cell_type": "code",
   "execution_count": 8,
   "id": "386cbd38",
   "metadata": {},
   "outputs": [
    {
     "data": {
      "text/html": [
       "<div>\n",
       "<style scoped>\n",
       "    .dataframe tbody tr th:only-of-type {\n",
       "        vertical-align: middle;\n",
       "    }\n",
       "\n",
       "    .dataframe tbody tr th {\n",
       "        vertical-align: top;\n",
       "    }\n",
       "\n",
       "    .dataframe thead th {\n",
       "        text-align: right;\n",
       "    }\n",
       "</style>\n",
       "<table border=\"1\" class=\"dataframe\">\n",
       "  <thead>\n",
       "    <tr style=\"text-align: right;\">\n",
       "      <th></th>\n",
       "      <th>tag</th>\n",
       "      <th>text</th>\n",
       "    </tr>\n",
       "  </thead>\n",
       "  <tbody>\n",
       "    <tr>\n",
       "      <th>0</th>\n",
       "      <td>p</td>\n",
       "      <td>v6.4 is our most exciting release yet with new...</td>\n",
       "    </tr>\n",
       "    <tr>\n",
       "      <th>1</th>\n",
       "      <td>p</td>\n",
       "      <td>Start with the tutorial. It will quickly intro...</td>\n",
       "    </tr>\n",
       "    <tr>\n",
       "      <th>2</th>\n",
       "      <td>p</td>\n",
       "      <td>The migration guide will help you migrate incr...</td>\n",
       "    </tr>\n",
       "    <tr>\n",
       "      <th>3</th>\n",
       "      <td>p</td>\n",
       "      <td>Running into a problem? Chances are you're not...</td>\n",
       "    </tr>\n",
       "    <tr>\n",
       "      <th>4</th>\n",
       "      <td>p</td>\n",
       "      <td>990,977,570Downloads on npm</td>\n",
       "    </tr>\n",
       "    <tr>\n",
       "      <th>...</th>\n",
       "      <td>...</td>\n",
       "      <td>...</td>\n",
       "    </tr>\n",
       "    <tr>\n",
       "      <th>779</th>\n",
       "      <td>h3</td>\n",
       "      <td>&lt;Redirect/&gt;, redirectTo, isRedirect</td>\n",
       "    </tr>\n",
       "    <tr>\n",
       "      <th>780</th>\n",
       "      <td>h3</td>\n",
       "      <td>&lt;Link getProps /&gt;</td>\n",
       "    </tr>\n",
       "    <tr>\n",
       "      <th>781</th>\n",
       "      <td>h3</td>\n",
       "      <td>useMatch</td>\n",
       "    </tr>\n",
       "    <tr>\n",
       "      <th>782</th>\n",
       "      <td>h3</td>\n",
       "      <td>&lt;Match /&gt;</td>\n",
       "    </tr>\n",
       "    <tr>\n",
       "      <th>783</th>\n",
       "      <td>h3</td>\n",
       "      <td>&lt;ServerLocation /&gt;</td>\n",
       "    </tr>\n",
       "  </tbody>\n",
       "</table>\n",
       "<p>784 rows × 2 columns</p>\n",
       "</div>"
      ],
      "text/plain": [
       "    tag                                               text\n",
       "0     p  v6.4 is our most exciting release yet with new...\n",
       "1     p  Start with the tutorial. It will quickly intro...\n",
       "2     p  The migration guide will help you migrate incr...\n",
       "3     p  Running into a problem? Chances are you're not...\n",
       "4     p                        990,977,570Downloads on npm\n",
       "..   ..                                                ...\n",
       "779  h3                <Redirect/>, redirectTo, isRedirect\n",
       "780  h3                                  <Link getProps />\n",
       "781  h3                                           useMatch\n",
       "782  h3                                          <Match />\n",
       "783  h3                                 <ServerLocation />\n",
       "\n",
       "[784 rows x 2 columns]"
      ]
     },
     "execution_count": 8,
     "metadata": {},
     "output_type": "execute_result"
    }
   ],
   "source": [
    "df"
   ]
  },
  {
   "cell_type": "code",
   "execution_count": 10,
   "id": "49b79660",
   "metadata": {},
   "outputs": [],
   "source": [
    "df.to_pickle(\"../../data/inner-text/reactRouterInnerText.pkl\")"
   ]
  },
  {
   "cell_type": "code",
   "execution_count": null,
   "id": "82675c00",
   "metadata": {},
   "outputs": [],
   "source": []
  }
 ],
 "metadata": {
  "kernelspec": {
   "display_name": "Python 3.8.10 64-bit ('mlp': conda)",
   "language": "python",
   "name": "python3810jvsc74a57bd0ce52bf728390bdc3e82d628f52f7f321bd0929be221c9428aa5f31873b71f1ee"
  },
  "language_info": {
   "codemirror_mode": {
    "name": "ipython",
    "version": 3
   },
   "file_extension": ".py",
   "mimetype": "text/x-python",
   "name": "python",
   "nbconvert_exporter": "python",
   "pygments_lexer": "ipython3",
   "version": "3.8.10"
  }
 },
 "nbformat": 4,
 "nbformat_minor": 5
}
