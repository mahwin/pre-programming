{
 "cells": [
  {
   "cell_type": "code",
   "execution_count": 81,
   "id": "e0f06195",
   "metadata": {},
   "outputs": [],
   "source": [
    "import pickle\n",
    "import json\n",
    "import time\n",
    "from tqdm import tqdm\n",
    "import re"
   ]
  },
  {
   "cell_type": "code",
   "execution_count": 13,
   "id": "12a63b31",
   "metadata": {},
   "outputs": [],
   "source": [
    "categories = ['react','next','reactRouter','reactHookForm','styledComponents','reactQuery','tailwind','reactRedux','axios','recoil']"
   ]
  },
  {
   "cell_type": "code",
   "execution_count": 90,
   "id": "dc20009a",
   "metadata": {},
   "outputs": [],
   "source": [
    "for category in categories:\n",
    "    f = open('../../../data/words/fre/{}.json'.format(category),'rb')\n",
    "    freObj = json.load(f)\n",
    "    f = open('../../../data/complete-dictionarys/1/preprocessing/{}.json'.format(category),'rb')\n",
    "    dicObj = json.load(f)\n",
    "    for idx,dic in enumerate(dicObj):\n",
    "        word = dic['word']\n",
    "        for key,values in freObj.items():\n",
    "            if word in values:\n",
    "                mean = dic['mean']\n",
    "                mean = list(map(lambda string: re.sub('[0-9].','',string).strip(), mean))\n",
    "                tmp ={'word':word,'mean':mean,'frequency':key}\n",
    "                dicObj[idx] = tmp\n",
    "    with open('../../../data/complete-dictionarys/1/mean-word-frequency/{}.json'.format(category),'w') as f:\n",
    "        json.dump(dicObj, f, ensure_ascii=False, indent=4)"
   ]
  }
 ],
 "metadata": {
  "kernelspec": {
   "display_name": "Python 3",
   "language": "python",
   "name": "python3"
  },
  "language_info": {
   "codemirror_mode": {
    "name": "ipython",
    "version": 3
   },
   "file_extension": ".py",
   "mimetype": "text/x-python",
   "name": "python",
   "nbconvert_exporter": "python",
   "pygments_lexer": "ipython3",
   "version": "3.8.8"
  }
 },
 "nbformat": 4,
 "nbformat_minor": 5
}
