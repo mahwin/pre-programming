{
 "cells": [
  {
   "cell_type": "code",
   "execution_count": 2,
   "id": "03b9eb37",
   "metadata": {},
   "outputs": [],
   "source": [
    "import pickle\n",
    "import json\n",
    "import time\n",
    "from tqdm import tqdm\n",
    "import re\n"
   ]
  },
  {
   "cell_type": "code",
   "execution_count": 12,
   "id": "91a18a1a",
   "metadata": {},
   "outputs": [],
   "source": [
    "categories = ['next','reactRouter','reactHookForm','styledComponents','reactQuery','tailwind','reactRedux','axios','recoil']"
   ]
  },
  {
   "cell_type": "code",
   "execution_count": 17,
   "id": "29564d36",
   "metadata": {},
   "outputs": [],
   "source": [
    "with open('../../../data/complete-dictionarys/1/mean-word-frequency-level/react.json') as f:\n",
    "    react = json.load(f)\n",
    "\n",
    "total={}\n",
    "for r in react:\n",
    "    total[r['word']]= r['mean']\n",
    "totalKeys = list(total.keys())\n",
    "\n",
    "for category in categories:\n",
    "    with open('../../../data/complete-dictionarys/1/mean-word-frequency-level/{}.json'.format(category)) as f:\n",
    "        dics = json.load(f)\n",
    "        \n",
    "        for idx,dic in enumerate(dics):\n",
    "            word = dic['word']\n",
    "            if word in totalKeys:\n",
    "                tmp = {**dics[idx],'mean': total[word]}\n",
    "                dics[idx] = tmp\n",
    "               \n",
    "    f = open('../../../data/complete-dictionarys/1/mean-word-frequency-level/{}.json'.format(category),'w')\n",
    "    json.dump(dics, f, ensure_ascii=False, indent=4)"
   ]
  }
 ],
 "metadata": {
  "kernelspec": {
   "display_name": "Python 3",
   "language": "python",
   "name": "python3"
  },
  "language_info": {
   "codemirror_mode": {
    "name": "ipython",
    "version": 3
   },
   "file_extension": ".py",
   "mimetype": "text/x-python",
   "name": "python",
   "nbconvert_exporter": "python",
   "pygments_lexer": "ipython3",
   "version": "3.8.8"
  }
 },
 "nbformat": 4,
 "nbformat_minor": 5
}
