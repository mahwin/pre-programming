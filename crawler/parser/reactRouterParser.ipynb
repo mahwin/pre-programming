{
 "cells": [
  {
   "cell_type": "code",
   "execution_count": 1,
   "id": "23647237",
   "metadata": {},
   "outputs": [],
   "source": [
    "import pandas as pd\n",
    "import requests\n",
    "import pickle\n",
    "import time\n",
    "from bs4 import BeautifulSoup as bs\n",
    "from tqdm import tqdm"
   ]
  },
  {
   "cell_type": "code",
   "execution_count": 2,
   "id": "ad590b90",
   "metadata": {},
   "outputs": [],
   "source": [
    "def getHtmlToSoup(url):\n",
    "    webdriverhtml = requests.get(url)\n",
    "    return bs(webdriverhtml.text,'html.parser')"
   ]
  },
  {
   "cell_type": "code",
   "execution_count": 3,
   "id": "100cf23d",
   "metadata": {},
   "outputs": [
    {
     "name": "stdout",
     "output_type": "stream",
     "text": [
      "https://reactrouter.com\n",
      "https://reactrouter.com/en/main/start/overview\n",
      "https://reactrouter.com/en/main/start/tutorial\n",
      "https://reactrouter.com/en/main/start/examples\n",
      "https://reactrouter.com/en/main/start/faq\n",
      "...\n"
     ]
    }
   ],
   "source": [
    "#찾을 urls\n",
    "f = open('../data/urls/react-router.pkl','rb')\n",
    "urls = pickle.load(f)\n",
    "print(*urls[:5], sep='\\n')\n",
    "print('...')"
   ]
  },
  {
   "cell_type": "code",
   "execution_count": 4,
   "id": "b9b44e82",
   "metadata": {},
   "outputs": [],
   "source": [
    "def textParser(url,tags):\n",
    "    bsObj = getHtmlToSoup(url)\n",
    "    for tag in tags:\n",
    "        nameList = bsObj.find_all(tag)\n",
    "        nameList = [i.text for i in nameList]\n",
    "        tagInterText[tag] += nameList\n",
    "    return tagInterText"
   ]
  },
  {
   "cell_type": "code",
   "execution_count": 5,
   "id": "333494a9",
   "metadata": {},
   "outputs": [],
   "source": [
    "def dataToTable(data):\n",
    "    tmp = []\n",
    "    for key, texts in data.items():\n",
    "        for text in texts:\n",
    "            tmp.append([key,text])\n",
    "    df = pd.DataFrame(data=tmp,columns=['tag','text'])\n",
    "    return df"
   ]
  },
  {
   "cell_type": "code",
   "execution_count": 13,
   "id": "999ec29c",
   "metadata": {},
   "outputs": [
    {
     "name": "stderr",
     "output_type": "stream",
     "text": [
      "100%|██████████| 15/15 [00:03<00:00,  3.94it/s]\n"
     ]
    }
   ],
   "source": [
    "tagInterText = {'p':[],'h1':[],'h2':[],'h3':[]}\n",
    "tags = ['p','h1','h2','h3']\n",
    "for url in tqdm(urls[:15]):\n",
    "    df = dataToTable(textParser(url,tags))"
   ]
  },
  {
   "cell_type": "code",
   "execution_count": 15,
   "id": "ebe00c71",
   "metadata": {},
   "outputs": [],
   "source": [
    "df.to_pickle(\"../data/inner-text/reactRouterInnerText.pkl\")"
   ]
  }
 ],
 "metadata": {
  "kernelspec": {
   "display_name": "Python 3.8.10 64-bit ('mlp': conda)",
   "language": "python",
   "name": "python3810jvsc74a57bd0ce52bf728390bdc3e82d628f52f7f321bd0929be221c9428aa5f31873b71f1ee"
  },
  "language_info": {
   "codemirror_mode": {
    "name": "ipython",
    "version": 3
   },
   "file_extension": ".py",
   "mimetype": "text/x-python",
   "name": "python",
   "nbconvert_exporter": "python",
   "pygments_lexer": "ipython3",
   "version": "3.8.10"
  }
 },
 "nbformat": 4,
 "nbformat_minor": 5
}
