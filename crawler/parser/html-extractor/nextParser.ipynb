{
 "cells": [
  {
   "cell_type": "code",
   "execution_count": 10,
   "id": "f0467f1c",
   "metadata": {},
   "outputs": [],
   "source": [
    "import pandas as pd\n",
    "import requests\n",
    "import pickle\n",
    "import time\n",
    "from bs4 import BeautifulSoup as bs\n",
    "from tqdm import tqdm"
   ]
  },
  {
   "cell_type": "code",
   "execution_count": 11,
   "id": "d2bfe04d",
   "metadata": {},
   "outputs": [],
   "source": [
    "def getHtmlToSoup(url):\n",
    "    webdriverhtml = requests.get(url)\n",
    "    return bs(webdriverhtml.text,'html.parser')"
   ]
  },
  {
   "cell_type": "code",
   "execution_count": 14,
   "id": "08ad3b36",
   "metadata": {},
   "outputs": [
    {
     "name": "stdout",
     "output_type": "stream",
     "text": [
      "https://nextjs.org/docs/getting-started\n",
      "https://nextjs.org/docs/basic-features/pages\n",
      "https://nextjs.org/docs/basic-features/data-fetching/overview\n",
      "https://nextjs.org/docs/basic-features/data-fetching/get-server-side-props\n",
      "https://nextjs.org/docs/basic-features/data-fetching/get-static-paths\n",
      "...\n"
     ]
    }
   ],
   "source": [
    "#찾을 urls\n",
    "f = open('../../data/urls/next.pkl','rb')\n",
    "urls = pickle.load(f)\n",
    "print(*urls[:5], sep='\\n')\n",
    "print('...')"
   ]
  },
  {
   "cell_type": "code",
   "execution_count": 15,
   "id": "c0bead49",
   "metadata": {},
   "outputs": [],
   "source": [
    "def textParser(url,tags):\n",
    "    bsObj = getHtmlToSoup(url)\n",
    "    for tag in tags:\n",
    "        nameList = bsObj.find_all(tag)\n",
    "        nameList = [i.text for i in nameList]\n",
    "        tagInterText[tag] += nameList\n",
    "    return tagInterText"
   ]
  },
  {
   "cell_type": "code",
   "execution_count": 16,
   "id": "349633cf",
   "metadata": {},
   "outputs": [],
   "source": [
    "def dataToTable(data):\n",
    "    tmp = []\n",
    "    for key, texts in data.items():\n",
    "        for text in texts:\n",
    "            tmp.append([key,text])\n",
    "    df = pd.DataFrame(data=tmp,columns=['tag','text'])\n",
    "    return df"
   ]
  },
  {
   "cell_type": "code",
   "execution_count": 17,
   "id": "0e399ad7",
   "metadata": {},
   "outputs": [
    {
     "name": "stderr",
     "output_type": "stream",
     "text": [
      "100%|██████████| 74/74 [01:41<00:00,  1.37s/it]\n"
     ]
    }
   ],
   "source": [
    "#next는 li ,a 에도 내용이 많기 때문에 추가\n",
    "tagInterText = {'li':[],'a':[],'p':[],'h1':[],'h2':[],'h3':[]}\n",
    "tags = ['p','h1','h2','h3','li','a']\n",
    "for url in tqdm(urls):\n",
    "    df = dataToTable(textParser(url,tags))\n",
    "    time.sleep(1)"
   ]
  },
  {
   "cell_type": "code",
   "execution_count": 18,
   "id": "c82e37e4",
   "metadata": {},
   "outputs": [
    {
     "data": {
      "text/html": [
       "<div>\n",
       "<style scoped>\n",
       "    .dataframe tbody tr th:only-of-type {\n",
       "        vertical-align: middle;\n",
       "    }\n",
       "\n",
       "    .dataframe tbody tr th {\n",
       "        vertical-align: top;\n",
       "    }\n",
       "\n",
       "    .dataframe thead th {\n",
       "        text-align: right;\n",
       "    }\n",
       "</style>\n",
       "<table border=\"1\" class=\"dataframe\">\n",
       "  <thead>\n",
       "    <tr style=\"text-align: right;\">\n",
       "      <th></th>\n",
       "      <th>tag</th>\n",
       "      <th>text</th>\n",
       "    </tr>\n",
       "  </thead>\n",
       "  <tbody>\n",
       "    <tr>\n",
       "      <th>0</th>\n",
       "      <td>li</td>\n",
       "      <td>Node.js 12.22.0 or later</td>\n",
       "    </tr>\n",
       "    <tr>\n",
       "      <th>1</th>\n",
       "      <td>li</td>\n",
       "      <td>MacOS, Windows (including WSL), and Linux are ...</td>\n",
       "    </tr>\n",
       "    <tr>\n",
       "      <th>2</th>\n",
       "      <td>li</td>\n",
       "      <td>Run npm run dev or yarn dev or pnpm dev to sta...</td>\n",
       "    </tr>\n",
       "    <tr>\n",
       "      <th>3</th>\n",
       "      <td>li</td>\n",
       "      <td>Visit http://localhost:3000 to view your appli...</td>\n",
       "    </tr>\n",
       "    <tr>\n",
       "      <th>4</th>\n",
       "      <td>li</td>\n",
       "      <td>Edit pages/index.js and see the updated result...</td>\n",
       "    </tr>\n",
       "    <tr>\n",
       "      <th>...</th>\n",
       "      <td>...</td>\n",
       "      <td>...</td>\n",
       "    </tr>\n",
       "    <tr>\n",
       "      <th>22648</th>\n",
       "      <td>h3</td>\n",
       "      <td>Breaking Changes\\n\\n\\n\\n\\n</td>\n",
       "    </tr>\n",
       "    <tr>\n",
       "      <th>22649</th>\n",
       "      <td>h3</td>\n",
       "      <td>Subpath\\n\\n\\n\\n\\n</td>\n",
       "    </tr>\n",
       "    <tr>\n",
       "      <th>22650</th>\n",
       "      <td>h3</td>\n",
       "      <td>Rewrites\\n\\n\\n\\n\\n</td>\n",
       "    </tr>\n",
       "    <tr>\n",
       "      <th>22651</th>\n",
       "      <td>h3</td>\n",
       "      <td>Micro-Frontends with Monorepos and Subdomains\\...</td>\n",
       "    </tr>\n",
       "    <tr>\n",
       "      <th>22652</th>\n",
       "      <td>h3</td>\n",
       "      <td>Migrating from Gatsby Image\\n\\n\\n\\n\\n</td>\n",
       "    </tr>\n",
       "  </tbody>\n",
       "</table>\n",
       "<p>22653 rows × 2 columns</p>\n",
       "</div>"
      ],
      "text/plain": [
       "      tag                                               text\n",
       "0      li                           Node.js 12.22.0 or later\n",
       "1      li  MacOS, Windows (including WSL), and Linux are ...\n",
       "2      li  Run npm run dev or yarn dev or pnpm dev to sta...\n",
       "3      li  Visit http://localhost:3000 to view your appli...\n",
       "4      li  Edit pages/index.js and see the updated result...\n",
       "...    ..                                                ...\n",
       "22648  h3                         Breaking Changes\\n\\n\\n\\n\\n\n",
       "22649  h3                                  Subpath\\n\\n\\n\\n\\n\n",
       "22650  h3                                 Rewrites\\n\\n\\n\\n\\n\n",
       "22651  h3  Micro-Frontends with Monorepos and Subdomains\\...\n",
       "22652  h3              Migrating from Gatsby Image\\n\\n\\n\\n\\n\n",
       "\n",
       "[22653 rows x 2 columns]"
      ]
     },
     "execution_count": 18,
     "metadata": {},
     "output_type": "execute_result"
    }
   ],
   "source": [
    "df"
   ]
  },
  {
   "cell_type": "code",
   "execution_count": 19,
   "id": "3d17c405",
   "metadata": {},
   "outputs": [],
   "source": [
    "df.to_pickle(\"../../data/inner-text/nextInnerText.pkl\")"
   ]
  }
 ],
 "metadata": {
  "kernelspec": {
   "display_name": "Python 3.8.10 64-bit ('mlp': conda)",
   "language": "python",
   "name": "python3810jvsc74a57bd0ce52bf728390bdc3e82d628f52f7f321bd0929be221c9428aa5f31873b71f1ee"
  },
  "language_info": {
   "codemirror_mode": {
    "name": "ipython",
    "version": 3
   },
   "file_extension": ".py",
   "mimetype": "text/x-python",
   "name": "python",
   "nbconvert_exporter": "python",
   "pygments_lexer": "ipython3",
   "version": "3.8.10"
  }
 },
 "nbformat": 4,
 "nbformat_minor": 5
}
