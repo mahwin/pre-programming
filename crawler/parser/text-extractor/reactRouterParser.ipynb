{
 "cells": [
  {
   "cell_type": "code",
   "execution_count": 1,
   "id": "0a467e08",
   "metadata": {},
   "outputs": [],
   "source": [
    "import pandas as pd\n",
    "import requests\n",
    "import pickle\n",
    "import time\n",
    "from bs4 import BeautifulSoup as bs\n",
    "from tqdm import tqdm"
   ]
  },
  {
   "cell_type": "code",
   "execution_count": 2,
   "id": "d628c1c6",
   "metadata": {},
   "outputs": [],
   "source": [
    "def getHtmlToSoup(url):\n",
    "    webdriverhtml = requests.get(url)\n",
    "    return bs(webdriverhtml.text,'html.parser')"
   ]
  },
  {
   "cell_type": "code",
   "execution_count": 3,
   "id": "e4c119f9",
   "metadata": {},
   "outputs": [
    {
     "name": "stdout",
     "output_type": "stream",
     "text": [
      "https://styled-components.com/docs\n",
      "https://styled-components.com/docs/basics#motivation\n",
      "https://styled-components.com/docs/basics#installation\n",
      "https://styled-components.com/docs/basics#getting-started\n",
      "https://styled-components.com/docs/basics#adapting-based-on-props\n",
      "...\n"
     ]
    }
   ],
   "source": [
    "#찾을 urls\n",
    "f = open('../data/urls/styled-components.pkl','rb')\n",
    "urls = pickle.load(f)\n",
    "print(*urls[:5], sep='\\n')\n",
    "print('...')"
   ]
  },
  {
   "cell_type": "code",
   "execution_count": 4,
   "id": "b7c219df",
   "metadata": {},
   "outputs": [],
   "source": [
    "def textParser(url,tags):\n",
    "    bsObj = getHtmlToSoup(url)\n",
    "    for tag in tags:\n",
    "        nameList = bsObj.find_all(tag)\n",
    "        nameList = [i.text for i in nameList]\n",
    "        tagInterText[tag] += nameList\n",
    "    return tagInterText"
   ]
  },
  {
   "cell_type": "code",
   "execution_count": 5,
   "id": "11455b1c",
   "metadata": {},
   "outputs": [],
   "source": [
    "def dataToTable(data):\n",
    "    tmp = []\n",
    "    for key, texts in data.items():\n",
    "        for text in texts:\n",
    "            tmp.append([key,text])\n",
    "    df = pd.DataFrame(data=tmp,columns=['tag','text'])\n",
    "    return df"
   ]
  },
  {
   "cell_type": "code",
   "execution_count": 6,
   "id": "7854585d",
   "metadata": {},
   "outputs": [
    {
     "name": "stderr",
     "output_type": "stream",
     "text": [
      "100%|██████████| 15/15 [00:19<00:00,  1.31s/it]\n"
     ]
    }
   ],
   "source": [
    "tagInterText = {'p':[],'h1':[],'h2':[],'h3':[]}\n",
    "tags = ['p','h1','h2','h3']\n",
    "for url in tqdm(urls[:15]):\n",
    "    df = dataToTable(textParser(url,tags))\n",
    "    time.sleep(1)"
   ]
  },
  {
   "cell_type": "code",
   "execution_count": 7,
   "id": "386cbd38",
   "metadata": {},
   "outputs": [
    {
     "data": {
      "text/html": [
       "<div>\n",
       "<style scoped>\n",
       "    .dataframe tbody tr th:only-of-type {\n",
       "        vertical-align: middle;\n",
       "    }\n",
       "\n",
       "    .dataframe tbody tr th {\n",
       "        vertical-align: top;\n",
       "    }\n",
       "\n",
       "    .dataframe thead th {\n",
       "        text-align: right;\n",
       "    }\n",
       "</style>\n",
       "<table border=\"1\" class=\"dataframe\">\n",
       "  <thead>\n",
       "    <tr style=\"text-align: right;\">\n",
       "      <th></th>\n",
       "      <th>tag</th>\n",
       "      <th>text</th>\n",
       "    </tr>\n",
       "  </thead>\n",
       "  <tbody>\n",
       "    <tr>\n",
       "      <th>0</th>\n",
       "      <td>p</td>\n",
       "      <td>Utilising tagged template literals (a recent a...</td>\n",
       "    </tr>\n",
       "    <tr>\n",
       "      <th>1</th>\n",
       "      <td>p</td>\n",
       "      <td>styled-components is the result of wondering h...</td>\n",
       "    </tr>\n",
       "    <tr>\n",
       "      <th>2</th>\n",
       "      <td>p</td>\n",
       "      <td>Apart from the improved experience for develop...</td>\n",
       "    </tr>\n",
       "    <tr>\n",
       "      <th>3</th>\n",
       "      <td>p</td>\n",
       "      <td>You get all of these benefits while still writ...</td>\n",
       "    </tr>\n",
       "    <tr>\n",
       "      <th>4</th>\n",
       "      <td>p</td>\n",
       "      <td>Installing styled-components only takes a sing...</td>\n",
       "    </tr>\n",
       "    <tr>\n",
       "      <th>...</th>\n",
       "      <td>...</td>\n",
       "      <td>...</td>\n",
       "    </tr>\n",
       "    <tr>\n",
       "      <th>1237</th>\n",
       "      <td>h3</td>\n",
       "      <td>Next.js</td>\n",
       "    </tr>\n",
       "    <tr>\n",
       "      <th>1238</th>\n",
       "      <td>h3</td>\n",
       "      <td>Gatsby</td>\n",
       "    </tr>\n",
       "    <tr>\n",
       "      <th>1239</th>\n",
       "      <td>h3</td>\n",
       "      <td>Streaming Rendering</td>\n",
       "    </tr>\n",
       "    <tr>\n",
       "      <th>1240</th>\n",
       "      <td>h3</td>\n",
       "      <td>Caveat</td>\n",
       "    </tr>\n",
       "    <tr>\n",
       "      <th>1241</th>\n",
       "      <td>h3</td>\n",
       "      <td>Continue on the next page</td>\n",
       "    </tr>\n",
       "  </tbody>\n",
       "</table>\n",
       "<p>1242 rows × 2 columns</p>\n",
       "</div>"
      ],
      "text/plain": [
       "     tag                                               text\n",
       "0      p  Utilising tagged template literals (a recent a...\n",
       "1      p  styled-components is the result of wondering h...\n",
       "2      p  Apart from the improved experience for develop...\n",
       "3      p  You get all of these benefits while still writ...\n",
       "4      p  Installing styled-components only takes a sing...\n",
       "...   ..                                                ...\n",
       "1237  h3                                            Next.js\n",
       "1238  h3                                             Gatsby\n",
       "1239  h3                                Streaming Rendering\n",
       "1240  h3                                             Caveat\n",
       "1241  h3                          Continue on the next page\n",
       "\n",
       "[1242 rows x 2 columns]"
      ]
     },
     "execution_count": 7,
     "metadata": {},
     "output_type": "execute_result"
    }
   ],
   "source": [
    "df"
   ]
  },
  {
   "cell_type": "code",
   "execution_count": 8,
   "id": "49b79660",
   "metadata": {},
   "outputs": [],
   "source": [
    "df.to_pickle(\"../data/inner-text/reactRouterInnerText.pkl\")"
   ]
  },
  {
   "cell_type": "code",
   "execution_count": null,
   "id": "82675c00",
   "metadata": {},
   "outputs": [],
   "source": []
  }
 ],
 "metadata": {
  "kernelspec": {
   "display_name": "Python 3.8.10 64-bit ('mlp': conda)",
   "language": "python",
   "name": "python3810jvsc74a57bd0ce52bf728390bdc3e82d628f52f7f321bd0929be221c9428aa5f31873b71f1ee"
  },
  "language_info": {
   "codemirror_mode": {
    "name": "ipython",
    "version": 3
   },
   "file_extension": ".py",
   "mimetype": "text/x-python",
   "name": "python",
   "nbconvert_exporter": "python",
   "pygments_lexer": "ipython3",
   "version": "3.8.10"
  }
 },
 "nbformat": 4,
 "nbformat_minor": 5
}
