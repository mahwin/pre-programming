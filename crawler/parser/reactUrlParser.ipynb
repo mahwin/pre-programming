{
 "cells": [
  {
   "cell_type": "code",
   "execution_count": 1,
   "id": "61da2ae2",
   "metadata": {},
   "outputs": [],
   "source": [
    "import pandas as pd\n",
    "import requests\n",
    "import pickle\n",
    "import time\n",
    "from bs4 import BeautifulSoup as bs\n",
    "from tqdm import tqdm"
   ]
  },
  {
   "cell_type": "code",
   "execution_count": 2,
   "id": "b11fb099",
   "metadata": {},
   "outputs": [],
   "source": [
    "def getHtmlToSoup(url):\n",
    "    webdriverhtml = requests.get(url)\n",
    "    return bs(webdriverhtml.text,'html.parser')"
   ]
  },
  {
   "cell_type": "code",
   "execution_count": 3,
   "id": "3b59a7f5",
   "metadata": {},
   "outputs": [
    {
     "name": "stdout",
     "output_type": "stream",
     "text": [
      "https://reactjs.org\n",
      "https://reactjs.org/docs/getting-started.html\n",
      "https://reactjs.org/tutorial/tutorial.html\n",
      "https://reactjs.org/blog/\n",
      "https://reactjs.org/community/support.html\n",
      "...\n"
     ]
    }
   ],
   "source": [
    "#찾을 urls\n",
    "f = open('../data/urls/react.pkl','rb')\n",
    "urls = pickle.load(f)\n",
    "print(*urls[:5], sep='\\n')\n",
    "print('...')"
   ]
  },
  {
   "cell_type": "code",
   "execution_count": 4,
   "id": "468b771c",
   "metadata": {},
   "outputs": [],
   "source": [
    "#https://reactjs.org/blog/ 제외\n",
    "urls = urls[0:3] + urls[4:]"
   ]
  },
  {
   "cell_type": "code",
   "execution_count": 5,
   "id": "61cbd21e",
   "metadata": {},
   "outputs": [],
   "source": [
    "def textParser(url,tags):\n",
    "    bsObj = getHtmlToSoup(url)\n",
    "    for tag in tags:\n",
    "        nameList = bsObj.find_all(tag)\n",
    "        nameList = [i.text for i in nameList]\n",
    "        tagInterText[tag] += nameList\n",
    "    return tagInterText"
   ]
  },
  {
   "cell_type": "code",
   "execution_count": 6,
   "id": "121299be",
   "metadata": {},
   "outputs": [],
   "source": [
    "def dataToTable(data):\n",
    "    tmp = []\n",
    "    for key, texts in data.items():\n",
    "        for text in texts:\n",
    "            tmp.append([key,text])\n",
    "    df = pd.DataFrame(data=tmp,columns=['tag','text'])\n",
    "    return df"
   ]
  },
  {
   "cell_type": "code",
   "execution_count": 7,
   "id": "0b3189e3",
   "metadata": {},
   "outputs": [
    {
     "data": {
      "text/html": [
       "<div>\n",
       "<style scoped>\n",
       "    .dataframe tbody tr th:only-of-type {\n",
       "        vertical-align: middle;\n",
       "    }\n",
       "\n",
       "    .dataframe tbody tr th {\n",
       "        vertical-align: top;\n",
       "    }\n",
       "\n",
       "    .dataframe thead th {\n",
       "        text-align: right;\n",
       "    }\n",
       "</style>\n",
       "<table border=\"1\" class=\"dataframe\">\n",
       "  <thead>\n",
       "    <tr style=\"text-align: right;\">\n",
       "      <th></th>\n",
       "      <th>tag</th>\n",
       "      <th>text</th>\n",
       "    </tr>\n",
       "  </thead>\n",
       "  <tbody>\n",
       "    <tr>\n",
       "      <th>0</th>\n",
       "      <td>div</td>\n",
       "      <td>We want to hear from you!Take our 2021 Communi...</td>\n",
       "    </tr>\n",
       "    <tr>\n",
       "      <th>1</th>\n",
       "      <td>div</td>\n",
       "      <td>We want to hear from you!Take our 2021 Communi...</td>\n",
       "    </tr>\n",
       "    <tr>\n",
       "      <th>2</th>\n",
       "      <td>div</td>\n",
       "      <td>We want to hear from you!Take our 2021 Communi...</td>\n",
       "    </tr>\n",
       "    <tr>\n",
       "      <th>3</th>\n",
       "      <td>div</td>\n",
       "      <td>We want to hear from you!Take our 2021 Communi...</td>\n",
       "    </tr>\n",
       "    <tr>\n",
       "      <th>4</th>\n",
       "      <td>div</td>\n",
       "      <td>We want to hear from you!Take our 2021 Communi...</td>\n",
       "    </tr>\n",
       "    <tr>\n",
       "      <th>...</th>\n",
       "      <td>...</td>\n",
       "      <td>...</td>\n",
       "    </tr>\n",
       "    <tr>\n",
       "      <th>80</th>\n",
       "      <td>h3</td>\n",
       "      <td>Learn Once, Write Anywhere</td>\n",
       "    </tr>\n",
       "    <tr>\n",
       "      <th>81</th>\n",
       "      <td>h3</td>\n",
       "      <td>A Simple Component</td>\n",
       "    </tr>\n",
       "    <tr>\n",
       "      <th>82</th>\n",
       "      <td>h3</td>\n",
       "      <td>A Stateful Component</td>\n",
       "    </tr>\n",
       "    <tr>\n",
       "      <th>83</th>\n",
       "      <td>h3</td>\n",
       "      <td>An Application</td>\n",
       "    </tr>\n",
       "    <tr>\n",
       "      <th>84</th>\n",
       "      <td>h3</td>\n",
       "      <td>A Component Using External Plugins</td>\n",
       "    </tr>\n",
       "  </tbody>\n",
       "</table>\n",
       "<p>85 rows × 2 columns</p>\n",
       "</div>"
      ],
      "text/plain": [
       "    tag                                               text\n",
       "0   div  We want to hear from you!Take our 2021 Communi...\n",
       "1   div  We want to hear from you!Take our 2021 Communi...\n",
       "2   div  We want to hear from you!Take our 2021 Communi...\n",
       "3   div  We want to hear from you!Take our 2021 Communi...\n",
       "4   div  We want to hear from you!Take our 2021 Communi...\n",
       "..  ...                                                ...\n",
       "80   h3                         Learn Once, Write Anywhere\n",
       "81   h3                                 A Simple Component\n",
       "82   h3                               A Stateful Component\n",
       "83   h3                                     An Application\n",
       "84   h3                 A Component Using External Plugins\n",
       "\n",
       "[85 rows x 2 columns]"
      ]
     },
     "execution_count": 7,
     "metadata": {},
     "output_type": "execute_result"
    }
   ],
   "source": [
    "tagInterText = {'div':[],'p':[],'h1':[],'h2':[],'h3':[]}\n",
    "dataToTable(textParser(urls[0],['div','p','h1','h2','h3']))"
   ]
  },
  {
   "cell_type": "code",
   "execution_count": 8,
   "id": "00697925",
   "metadata": {},
   "outputs": [],
   "source": [
    "#div는 사실 학습 내용과는 상관없고 반복적으로 같은 내용을 포함하고 있어, div제외한 p, h1, h2 tag의 내용을 모으기로 함."
   ]
  },
  {
   "cell_type": "code",
   "execution_count": 9,
   "id": "8bfe9375",
   "metadata": {},
   "outputs": [
    {
     "name": "stderr",
     "output_type": "stream",
     "text": [
      "100%|██████████| 121/121 [02:37<00:00,  1.30s/it]\n"
     ]
    }
   ],
   "source": [
    "tagInterText = {'p':[],'h1':[],'h2':[],'h3':[]}\n",
    "tags = ['p','h1','h2','h3']\n",
    "for url in tqdm(urls):\n",
    "    df = dataToTable(textParser(url,tags))\n",
    "    time.sleep(1)"
   ]
  },
  {
   "cell_type": "code",
   "execution_count": 10,
   "id": "ee7324d4",
   "metadata": {},
   "outputs": [
    {
     "data": {
      "text/html": [
       "<div>\n",
       "<style scoped>\n",
       "    .dataframe tbody tr th:only-of-type {\n",
       "        vertical-align: middle;\n",
       "    }\n",
       "\n",
       "    .dataframe tbody tr th {\n",
       "        vertical-align: top;\n",
       "    }\n",
       "\n",
       "    .dataframe thead th {\n",
       "        text-align: right;\n",
       "    }\n",
       "</style>\n",
       "<table border=\"1\" class=\"dataframe\">\n",
       "  <thead>\n",
       "    <tr style=\"text-align: right;\">\n",
       "      <th></th>\n",
       "      <th>tag</th>\n",
       "      <th>text</th>\n",
       "    </tr>\n",
       "  </thead>\n",
       "  <tbody>\n",
       "    <tr>\n",
       "      <th>0</th>\n",
       "      <td>p</td>\n",
       "      <td>A JavaScript library for building user interfaces</td>\n",
       "    </tr>\n",
       "    <tr>\n",
       "      <th>1</th>\n",
       "      <td>p</td>\n",
       "      <td>React makes it painless to create interactive ...</td>\n",
       "    </tr>\n",
       "    <tr>\n",
       "      <th>2</th>\n",
       "      <td>p</td>\n",
       "      <td>Declarative views make your code more predicta...</td>\n",
       "    </tr>\n",
       "    <tr>\n",
       "      <th>3</th>\n",
       "      <td>p</td>\n",
       "      <td>Build encapsulated components that manage thei...</td>\n",
       "    </tr>\n",
       "    <tr>\n",
       "      <th>4</th>\n",
       "      <td>p</td>\n",
       "      <td>Since component logic is written in JavaScript...</td>\n",
       "    </tr>\n",
       "    <tr>\n",
       "      <th>...</th>\n",
       "      <td>...</td>\n",
       "      <td>...</td>\n",
       "    </tr>\n",
       "    <tr>\n",
       "      <th>10072</th>\n",
       "      <td>h3</td>\n",
       "      <td>Going Big with React</td>\n",
       "    </tr>\n",
       "    <tr>\n",
       "      <th>10073</th>\n",
       "      <td>h3</td>\n",
       "      <td>Rethinking Best Practices</td>\n",
       "    </tr>\n",
       "    <tr>\n",
       "      <th>10074</th>\n",
       "      <td>h3</td>\n",
       "      <td>High Performance Functional DOM Programming</td>\n",
       "    </tr>\n",
       "    <tr>\n",
       "      <th>10075</th>\n",
       "      <td>h3</td>\n",
       "      <td>Developing User Interfaces With React</td>\n",
       "    </tr>\n",
       "    <tr>\n",
       "      <th>10076</th>\n",
       "      <td>h3</td>\n",
       "      <td>Introduction to React</td>\n",
       "    </tr>\n",
       "  </tbody>\n",
       "</table>\n",
       "<p>10077 rows × 2 columns</p>\n",
       "</div>"
      ],
      "text/plain": [
       "      tag                                               text\n",
       "0       p  A JavaScript library for building user interfaces\n",
       "1       p  React makes it painless to create interactive ...\n",
       "2       p  Declarative views make your code more predicta...\n",
       "3       p  Build encapsulated components that manage thei...\n",
       "4       p  Since component logic is written in JavaScript...\n",
       "...    ..                                                ...\n",
       "10072  h3                              Going Big with React \n",
       "10073  h3                         Rethinking Best Practices \n",
       "10074  h3       High Performance Functional DOM Programming \n",
       "10075  h3             Developing User Interfaces With React \n",
       "10076  h3                             Introduction to React \n",
       "\n",
       "[10077 rows x 2 columns]"
      ]
     },
     "execution_count": 10,
     "metadata": {},
     "output_type": "execute_result"
    }
   ],
   "source": [
    "df"
   ]
  },
  {
   "cell_type": "code",
   "execution_count": 11,
   "id": "162b57c3",
   "metadata": {},
   "outputs": [
    {
     "data": {
      "text/plain": [
       "10077"
      ]
     },
     "execution_count": 11,
     "metadata": {},
     "output_type": "execute_result"
    }
   ],
   "source": [
    "len(df)"
   ]
  },
  {
   "cell_type": "code",
   "execution_count": 12,
   "id": "fb7fddf9",
   "metadata": {},
   "outputs": [],
   "source": [
    "df.to_pickle(\"../data/reactInnerText.pkl\")"
   ]
  }
 ],
 "metadata": {
  "kernelspec": {
   "display_name": "Python 3.8.10 64-bit ('mlp': conda)",
   "language": "python",
   "name": "python3810jvsc74a57bd0ce52bf728390bdc3e82d628f52f7f321bd0929be221c9428aa5f31873b71f1ee"
  },
  "language_info": {
   "codemirror_mode": {
    "name": "ipython",
    "version": 3
   },
   "file_extension": ".py",
   "mimetype": "text/x-python",
   "name": "python",
   "nbconvert_exporter": "python",
   "pygments_lexer": "ipython3",
   "version": "3.8.10"
  }
 },
 "nbformat": 4,
 "nbformat_minor": 5
}
