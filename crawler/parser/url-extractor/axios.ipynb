{
 "cells": [
  {
   "cell_type": "code",
   "execution_count": 1,
   "id": "3636a30d",
   "metadata": {},
   "outputs": [],
   "source": [
    "import requests\n",
    "from bs4 import BeautifulSoup as bs\n",
    "from selenium import webdriver\n",
    "import time"
   ]
  },
  {
   "cell_type": "code",
   "execution_count": 2,
   "id": "b8339c0d",
   "metadata": {},
   "outputs": [],
   "source": [
    "def getHtmlToSoup(url):\n",
    "    webdriverhtml = requests.get(url)\n",
    "    return bs(webdriverhtml.text,'html.parser')"
   ]
  },
  {
   "cell_type": "code",
   "execution_count": 3,
   "id": "14a9a9c6",
   "metadata": {},
   "outputs": [],
   "source": [
    "# homepage 구조가 간단하게 one deps로 구성됨.\n",
    "homeUrl = 'https://axios-http.com/docs/intro'\n",
    "totalUrlArray = []"
   ]
  },
  {
   "cell_type": "code",
   "execution_count": 4,
   "id": "5df913b1",
   "metadata": {},
   "outputs": [],
   "source": [
    "soup = getHtmlToSoup(homeUrl)"
   ]
  },
  {
   "cell_type": "code",
   "execution_count": 5,
   "id": "34bdb811",
   "metadata": {},
   "outputs": [],
   "source": [
    "for element in soup.select('body > aside > div.aside-container > a'):\n",
    "    totalUrlArray += ['https://axios-http.com'+element.attrs['href']]"
   ]
  },
  {
   "cell_type": "code",
   "execution_count": 6,
   "id": "471987ef",
   "metadata": {},
   "outputs": [],
   "source": [
    "#github 주소 제거\n",
    "totalUrlArray = totalUrlArray[:13] + totalUrlArray[16:]"
   ]
  },
  {
   "cell_type": "code",
   "execution_count": 7,
   "id": "f0327e8f",
   "metadata": {},
   "outputs": [
    {
     "name": "stdout",
     "output_type": "stream",
     "text": [
      "https://axios-http.com/docs/intro\n",
      "https://axios-http.com/docs/example\n",
      "https://axios-http.com/docs/post_example\n",
      "https://axios-http.com/docs/api_intro\n",
      "https://axios-http.com/docs/instance\n",
      "https://axios-http.com/docs/req_config\n",
      "https://axios-http.com/docs/res_schema\n",
      "https://axios-http.com/docs/config_defaults\n",
      "https://axios-http.com/docs/interceptors\n",
      "https://axios-http.com/docs/handling_errors\n",
      "...\n",
      "총 14개의 detail url로 구성\n"
     ]
    }
   ],
   "source": [
    "print(*totalUrlArray[:10],sep='\\n')\n",
    "print('...')\n",
    "print('총 {}개의 detail url로 구성'.format(len(totalUrlArray)))"
   ]
  },
  {
   "cell_type": "code",
   "execution_count": 8,
   "id": "45000533",
   "metadata": {},
   "outputs": [],
   "source": [
    "import pickle\n",
    "f = open('axios.pkl','wb')\n",
    "pickle.dump(totalUrlArray, f)\n",
    "f.close()"
   ]
  }
 ],
 "metadata": {
  "kernelspec": {
   "display_name": "Python 3",
   "language": "python",
   "name": "python3"
  },
  "language_info": {
   "codemirror_mode": {
    "name": "ipython",
    "version": 3
   },
   "file_extension": ".py",
   "mimetype": "text/x-python",
   "name": "python",
   "nbconvert_exporter": "python",
   "pygments_lexer": "ipython3",
   "version": "3.8.8"
  }
 },
 "nbformat": 4,
 "nbformat_minor": 5
}
