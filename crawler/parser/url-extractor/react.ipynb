{
 "cells": [
  {
   "cell_type": "code",
   "execution_count": 1,
   "id": "7765be1a",
   "metadata": {},
   "outputs": [],
   "source": [
    "import requests\n",
    "from bs4 import BeautifulSoup as bs\n",
    "from selenium import webdriver\n",
    "import time"
   ]
  },
  {
   "cell_type": "code",
   "execution_count": 2,
   "id": "28bad41b",
   "metadata": {},
   "outputs": [],
   "source": [
    "def getHtmlToSoup(url):\n",
    "    webdriverhtml = requests.get(url)\n",
    "    return bs(webdriverhtml.text,'html.parser')"
   ]
  },
  {
   "cell_type": "code",
   "execution_count": 3,
   "id": "5ae73388",
   "metadata": {},
   "outputs": [],
   "source": [
    "# 접속 후에 다른 url로 변경되는 경우가 있을 때 사용\n",
    "def seleniumGetUrl(url):\n",
    "    driver = webdriver.Chrome('/Users/jeong-youseock/Downloads/chromedriver')\n",
    "    driver.implicitly_wait(3)\n",
    "    driver.get(url)\n",
    "    time.sleep(5)\n",
    "    return getHtmlToSoup(driver.current_url)"
   ]
  },
  {
   "cell_type": "code",
   "execution_count": 4,
   "id": "d3d7764a",
   "metadata": {},
   "outputs": [],
   "source": [
    "def urlExtractor(soup):\n",
    "    urlDetailArr= []\n",
    "    for element in soup.select('a.css-e8rm5m'):\n",
    "        urlDetailArr.append(element.attrs['href'])\n",
    "    urlDetailArr = list(map(lambda detail: homeUrl+detail,urlDetailArr))\n",
    "    if len(urlDetailArr)>10:\n",
    "        print(*urlDetailArr[0:10],sep='\\n')\n",
    "        print('......')\n",
    "    else :\n",
    "        print(*urlDetailArr,sep='\\n')\n",
    "    print('{}개의 세부 url이 존재'.format(len(urlDetailArr)))       \n",
    "    return urlDetailArr"
   ]
  },
  {
   "cell_type": "code",
   "execution_count": 5,
   "id": "d1fb5c77",
   "metadata": {},
   "outputs": [],
   "source": [
    "## react 공식 페이지 구조\n",
    "# 1: homepage/\n",
    "# 2: homepage/* 바로 밑에 달려있는 url \n",
    "# 3: homepage/docs/*          or   homepage/docs/**/*\n",
    "# 4: homepage/tutorial/*      or   homepage/tutorial/**/*\n",
    "# 5: homepage/community/*     or   homepage/community/**/*\n",
    "# 6: homepage/blog/*"
   ]
  },
  {
   "cell_type": "code",
   "execution_count": 6,
   "id": "d4e37d07",
   "metadata": {},
   "outputs": [],
   "source": [
    "totalUrlArray = []\n",
    "rootUrls = []"
   ]
  },
  {
   "cell_type": "code",
   "execution_count": 7,
   "id": "45dfbcc5",
   "metadata": {},
   "outputs": [
    {
     "name": "stdout",
     "output_type": "stream",
     "text": [
      "https://reactjs.org/docs/getting-started.html\n",
      "https://reactjs.org/tutorial/tutorial.html\n",
      "https://reactjs.org/blog/\n",
      "https://reactjs.org/community/support.html\n"
     ]
    }
   ],
   "source": [
    "# 1: homepage/\n",
    "homeUrl = 'https://reactjs.org'\n",
    "totalUrlArray.append(homeUrl)\n",
    "\n",
    "# 2: homepage/* 바로 밑에 달려있는 url \n",
    "soup = getHtmlToSoup(homeUrl)\n",
    "for element in soup.select('nav.css-79txt3 > a'):\n",
    "    rootUrls.append(homeUrl + element.attrs['href'])\n",
    "print(*rootUrls,sep='\\n')\n",
    "totalUrlArray  += rootUrls"
   ]
  },
  {
   "cell_type": "code",
   "execution_count": 8,
   "id": "d4283762",
   "metadata": {},
   "outputs": [
    {
     "name": "stdout",
     "output_type": "stream",
     "text": [
      "----------------------시작----------------------\n",
      "https://reactjs.org/docs/getting-started.html\n",
      "https://reactjs.org/docs/add-react-to-a-website.html\n",
      "https://reactjs.org/docs/create-a-new-react-app.html\n",
      "https://reactjs.org/docs/cdn-links.html\n",
      "https://reactjs.org/docs/release-channels.html\n",
      "https://reactjs.org/docs/hello-world.html\n",
      "https://reactjs.org/docs/introducing-jsx.html\n",
      "https://reactjs.org/docs/rendering-elements.html\n",
      "https://reactjs.org/docs/components-and-props.html\n",
      "https://reactjs.org/docs/state-and-lifecycle.html\n",
      "https://reactjs.org/docs/handling-events.html\n",
      "......\n",
      "72개의 세부 url이 존재\n",
      "----------------------시작----------------------\n",
      "https://reactjs.org/tutorial/tutorial.html\n",
      "https://reactjs.org/tutorial/tutorial.html#before-we-start-the-tutorial\n",
      "https://reactjs.org/tutorial/tutorial.html#what-are-we-building\n",
      "https://reactjs.org/tutorial/tutorial.html#prerequisites\n",
      "https://reactjs.org/tutorial/tutorial.html#setup-for-the-tutorial\n",
      "https://reactjs.org/tutorial/tutorial.html#setup-option-1-write-code-in-the-browser\n",
      "https://reactjs.org/tutorial/tutorial.html#setup-option-2-local-development-environment\n",
      "https://reactjs.org/tutorial/tutorial.html#help-im-stuck\n",
      "https://reactjs.org/tutorial/tutorial.html#overview\n",
      "https://reactjs.org/tutorial/tutorial.html#what-is-react\n",
      "https://reactjs.org/tutorial/tutorial.html#inspecting-the-starter-code\n",
      "......\n",
      "26개의 세부 url이 존재\n",
      "----------------------시작----------------------\n",
      "https://reactjs.org/blog/\n",
      "https://reactjs.org/blog/2022/03/29/react-v18.html\n",
      "https://reactjs.org/blog/2022/03/08/react-18-upgrade-guide.html\n",
      "https://reactjs.org/blog/2021/12/17/react-conf-2021-recap.html\n",
      "https://reactjs.org/blog/2021/06/08/the-plan-for-react-18.html\n",
      "https://reactjs.org/blog/2020/12/21/data-fetching-with-react-server-components.html\n",
      "https://reactjs.org/blog/2020/10/20/react-v17.html\n",
      "https://reactjs.org/blog/2020/09/22/introducing-the-new-jsx-transform.html\n",
      "https://reactjs.org/blog/2020/08/10/react-v17-rc.html\n",
      "https://reactjs.org/blog/2020/02/26/react-v16.13.0.html\n",
      "https://reactjs.org/blog/all.html\n",
      "10개의 세부 url이 존재\n",
      "----------------------시작----------------------\n",
      "https://reactjs.org/community/support.html\n",
      "https://reactjs.org/community/team.html\n",
      "https://reactjs.org/community/courses.html\n",
      "https://reactjs.org/community/examples.html\n",
      "https://reactjs.org/community/meetups.html\n",
      "https://reactjs.org/community/conferences.html\n",
      "https://reactjs.org/community/articles.html\n",
      "https://reactjs.org/community/podcasts.html\n",
      "https://reactjs.org/community/videos.html\n",
      "https://reactjs.org/community/external-resources.html\n",
      "9개의 세부 url이 존재\n"
     ]
    }
   ],
   "source": [
    "# 3: homepage/docs/*          or   homepage/docs/**/*\n",
    "# 4: homepage/tutorial/*      or   homepage/tutorial/**/*\n",
    "# 5: homepage/community/*     or   homepage/community/**/*\n",
    "\n",
    "for rootUrl in rootUrls:\n",
    "    print('----------------------시작----------------------')\n",
    "    print(rootUrl)\n",
    "    soup = seleniumGetUrl(rootUrl)\n",
    "    totalUrlArray+= urlExtractor(soup)\n",
    "    time.sleep(2)"
   ]
  },
  {
   "cell_type": "code",
   "execution_count": 9,
   "id": "edf53006",
   "metadata": {},
   "outputs": [
    {
     "data": {
      "text/plain": [
       "122"
      ]
     },
     "execution_count": 9,
     "metadata": {},
     "output_type": "execute_result"
    }
   ],
   "source": [
    "len(totalUrlArray)"
   ]
  },
  {
   "cell_type": "code",
   "execution_count": 12,
   "id": "626d149b",
   "metadata": {},
   "outputs": [],
   "source": [
    "import pickle\n",
    "f = open('react.pkl','wb')\n",
    "pickle.dump(totalUrlArray, f)\n",
    "f.close()"
   ]
  }
 ],
 "metadata": {
  "kernelspec": {
   "display_name": "Python 3",
   "language": "python",
   "name": "python3"
  },
  "language_info": {
   "codemirror_mode": {
    "name": "ipython",
    "version": 3
   },
   "file_extension": ".py",
   "mimetype": "text/x-python",
   "name": "python",
   "nbconvert_exporter": "python",
   "pygments_lexer": "ipython3",
   "version": "3.8.8"
  }
 },
 "nbformat": 4,
 "nbformat_minor": 5
}
