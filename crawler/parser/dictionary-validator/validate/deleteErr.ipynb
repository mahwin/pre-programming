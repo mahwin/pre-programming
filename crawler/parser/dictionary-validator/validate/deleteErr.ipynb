{
 "cells": [
  {
   "cell_type": "code",
   "execution_count": 2,
   "id": "4ec3d325",
   "metadata": {},
   "outputs": [],
   "source": [
    "import pickle\n",
    "import json\n",
    "import time\n",
    "from tqdm import tqdm"
   ]
  },
  {
   "cell_type": "code",
   "execution_count": 1,
   "id": "c9b545d1",
   "metadata": {},
   "outputs": [],
   "source": [
    "def countingErr(dics):\n",
    "    count = 0\n",
    "    for idx,dic in enumerate(dics):\n",
    "        if dic['mean'] == ['에러 발생']:\n",
    "            count+=1\n",
    "    print('총 {}개의 문제 발생'.format(count))"
   ]
  },
  {
   "cell_type": "markdown",
   "id": "939ca518",
   "metadata": {},
   "source": [
    "\n",
    "### axios, next  에러가 발생한 곳을 직접 수정함."
   ]
  },
  {
   "cell_type": "code",
   "execution_count": 4,
   "id": "3be794ea",
   "metadata": {},
   "outputs": [],
   "source": [
    "f = open('../../../data/complete-dictionarys/1/raw/next.json','rb')\n",
    "nextjs = json.load(f)"
   ]
  },
  {
   "cell_type": "code",
   "execution_count": 5,
   "id": "656a0de7",
   "metadata": {},
   "outputs": [
    {
     "name": "stdout",
     "output_type": "stream",
     "text": [
      "총 0개의 문제 발생\n"
     ]
    }
   ],
   "source": [
    "countingErr(nextjs)"
   ]
  },
  {
   "cell_type": "markdown",
   "id": "1eaa5849",
   "metadata": {},
   "source": [
    "## 수정 중 대부분의 오류는 과거형이나  분사에서 발생하는 것을 확인\n",
    "## axios,next 제외한 나머지 카테고리에서 발생한 에러가 딴 카테고리에서는 에러가 없었는지 확인하고 있었다면 제외 없었다면 그 값으로 대체하기로 결정"
   ]
  },
  {
   "cell_type": "code",
   "execution_count": 6,
   "id": "2ee3ece7",
   "metadata": {},
   "outputs": [],
   "source": [
    "categories = ['react','next','reactRouter','reactHookForm','styledComponents','reactQuery','tailwind','reactRedux','axios','recoil']"
   ]
  },
  {
   "cell_type": "code",
   "execution_count": 7,
   "id": "ab5ce031",
   "metadata": {},
   "outputs": [
    {
     "data": {
      "text/plain": [
       "10"
      ]
     },
     "execution_count": 7,
     "metadata": {},
     "output_type": "execute_result"
    }
   ],
   "source": [
    "len(categories)"
   ]
  },
  {
   "cell_type": "code",
   "execution_count": 9,
   "id": "a2033450",
   "metadata": {},
   "outputs": [],
   "source": [
    "alldic ={}\n",
    "for category in categories:\n",
    "    file_path = '../../../data/complete-dictionarys/1/raw/{}.json'.format(category)\n",
    "    with open(file_path,'r') as f:\n",
    "        dics = json.load(f)\n",
    "        for dic in dics:\n",
    "            if dic['mean'] != [\"에러 발생\"]:\n",
    "                if dic['word'] not in alldic.keys() :\n",
    "                    alldic[dic['word']] = dic['mean']"
   ]
  },
  {
   "cell_type": "markdown",
   "id": "34083dd4",
   "metadata": {},
   "source": [
    "\n",
    "### 유니크하고, 사전에서 제대로 값을 찾은 단어의 수"
   ]
  },
  {
   "cell_type": "code",
   "execution_count": 10,
   "id": "f806a9dd",
   "metadata": {},
   "outputs": [
    {
     "name": "stdout",
     "output_type": "stream",
     "text": [
      "2569\n"
     ]
    }
   ],
   "source": [
    "print(len(alldic))\n",
    "alldicArr = list(alldic.keys())"
   ]
  },
  {
   "cell_type": "code",
   "execution_count": 12,
   "id": "5b3792bf",
   "metadata": {},
   "outputs": [
    {
     "name": "stdout",
     "output_type": "stream",
     "text": [
      "수정 전 react의 에러 수\n",
      "총 494개의 문제 발생\n",
      "수정 후 react의 에러 수\n",
      "총 365개의 문제 발생\n",
      "------------------------------------------------------------------\n",
      "수정 전 next의 에러 수\n",
      "총 0개의 문제 발생\n",
      "수정 후 next의 에러 수\n",
      "총 0개의 문제 발생\n",
      "------------------------------------------------------------------\n",
      "수정 전 reactRouter의 에러 수\n",
      "총 138개의 문제 발생\n",
      "수정 후 reactRouter의 에러 수\n",
      "총 92개의 문제 발생\n",
      "------------------------------------------------------------------\n",
      "수정 전 reactHookForm의 에러 수\n",
      "총 85개의 문제 발생\n",
      "수정 후 reactHookForm의 에러 수\n",
      "총 44개의 문제 발생\n",
      "------------------------------------------------------------------\n",
      "수정 전 styledComponents의 에러 수\n",
      "총 64개의 문제 발생\n",
      "수정 후 styledComponents의 에러 수\n",
      "총 32개의 문제 발생\n",
      "------------------------------------------------------------------\n",
      "수정 전 reactQuery의 에러 수\n",
      "총 51개의 문제 발생\n",
      "수정 후 reactQuery의 에러 수\n",
      "총 25개의 문제 발생\n",
      "------------------------------------------------------------------\n",
      "수정 전 tailwind의 에러 수\n",
      "총 109개의 문제 발생\n",
      "수정 후 tailwind의 에러 수\n",
      "총 60개의 문제 발생\n",
      "------------------------------------------------------------------\n",
      "수정 전 reactRedux의 에러 수\n",
      "총 89개의 문제 발생\n",
      "수정 후 reactRedux의 에러 수\n",
      "총 47개의 문제 발생\n",
      "------------------------------------------------------------------\n",
      "수정 전 axios의 에러 수\n",
      "총 0개의 문제 발생\n",
      "수정 후 axios의 에러 수\n",
      "총 0개의 문제 발생\n",
      "------------------------------------------------------------------\n",
      "수정 전 recoil의 에러 수\n",
      "총 78개의 문제 발생\n",
      "수정 후 recoil의 에러 수\n",
      "총 39개의 문제 발생\n",
      "------------------------------------------------------------------\n"
     ]
    }
   ],
   "source": [
    "for category in categories:\n",
    "    file_path = '../../../data/complete-dictionarys/1/raw/{}.json'.format(category)\n",
    "    with open(file_path,'r') as f:\n",
    "        dics = json.load(f)\n",
    "        print('수정 전 {}의 에러 수'.format(category))\n",
    "        countingErr(dics)\n",
    "        for idx, dic in enumerate(dics):\n",
    "            if dic['mean'] == [\"에러 발생\"]:\n",
    "                problemWord = dic['word'] \n",
    "                if problemWord in alldicArr:\n",
    "                    tmp = {'word':dic['word'], 'mean':alldic[problemWord]}\n",
    "                    dics[idx] = tmp\n",
    "        print('수정 후 {}의 에러 수'.format(category))\n",
    "        countingErr(dics)\n",
    "    print('------------------------------------------------------------------')"
   ]
  },
  {
   "cell_type": "markdown",
   "id": "957f1e57",
   "metadata": {},
   "source": [
    "# 삭제"
   ]
  },
  {
   "cell_type": "code",
   "execution_count": 31,
   "id": "a162e7b5",
   "metadata": {},
   "outputs": [
    {
     "name": "stdout",
     "output_type": "stream",
     "text": [
      "수정 전 react의 에러 수\n",
      "총 494개의 문제 발생\n",
      "수정 후 react의 에러 수\n",
      "총 365개의 문제 발생\n",
      "에러 삭제 후 react의 에러 수\n",
      "총 0개의 문제 발생\n",
      "------------------------------------------------------------------\n",
      "수정 전 next의 에러 수\n",
      "총 0개의 문제 발생\n",
      "수정 후 next의 에러 수\n",
      "총 0개의 문제 발생\n",
      "에러 삭제 후 next의 에러 수\n",
      "총 0개의 문제 발생\n",
      "------------------------------------------------------------------\n",
      "수정 전 reactRouter의 에러 수\n",
      "총 138개의 문제 발생\n",
      "수정 후 reactRouter의 에러 수\n",
      "총 92개의 문제 발생\n",
      "에러 삭제 후 reactRouter의 에러 수\n",
      "총 0개의 문제 발생\n",
      "------------------------------------------------------------------\n",
      "수정 전 reactHookForm의 에러 수\n",
      "총 85개의 문제 발생\n",
      "수정 후 reactHookForm의 에러 수\n",
      "총 44개의 문제 발생\n",
      "에러 삭제 후 reactHookForm의 에러 수\n",
      "총 0개의 문제 발생\n",
      "------------------------------------------------------------------\n",
      "수정 전 styledComponents의 에러 수\n",
      "총 64개의 문제 발생\n",
      "수정 후 styledComponents의 에러 수\n",
      "총 32개의 문제 발생\n",
      "에러 삭제 후 styledComponents의 에러 수\n",
      "총 0개의 문제 발생\n",
      "------------------------------------------------------------------\n",
      "수정 전 reactQuery의 에러 수\n",
      "총 51개의 문제 발생\n",
      "수정 후 reactQuery의 에러 수\n",
      "총 25개의 문제 발생\n",
      "에러 삭제 후 reactQuery의 에러 수\n",
      "총 0개의 문제 발생\n",
      "------------------------------------------------------------------\n",
      "수정 전 tailwind의 에러 수\n",
      "총 109개의 문제 발생\n",
      "수정 후 tailwind의 에러 수\n",
      "총 60개의 문제 발생\n",
      "에러 삭제 후 tailwind의 에러 수\n",
      "총 0개의 문제 발생\n",
      "------------------------------------------------------------------\n",
      "수정 전 reactRedux의 에러 수\n",
      "총 89개의 문제 발생\n",
      "수정 후 reactRedux의 에러 수\n",
      "총 47개의 문제 발생\n",
      "에러 삭제 후 reactRedux의 에러 수\n",
      "총 0개의 문제 발생\n",
      "------------------------------------------------------------------\n",
      "수정 전 axios의 에러 수\n",
      "총 0개의 문제 발생\n",
      "수정 후 axios의 에러 수\n",
      "총 0개의 문제 발생\n",
      "에러 삭제 후 axios의 에러 수\n",
      "총 0개의 문제 발생\n",
      "------------------------------------------------------------------\n",
      "수정 전 recoil의 에러 수\n",
      "총 78개의 문제 발생\n",
      "수정 후 recoil의 에러 수\n",
      "총 39개의 문제 발생\n",
      "에러 삭제 후 recoil의 에러 수\n",
      "총 0개의 문제 발생\n",
      "------------------------------------------------------------------\n"
     ]
    }
   ],
   "source": [
    "for category in categories:\n",
    "    file_path = '../../../data/complete-dictionarys/1/raw/{}.json'.format(category)\n",
    "    with open(file_path,'r') as f:\n",
    "        dics = json.load(f)\n",
    "        print('수정 전 {}의 에러 수'.format(category))\n",
    "        countingErr(dics)\n",
    "        for idx, dic in enumerate(dics):\n",
    "            if dic['mean'] == [\"에러 발생\"]:\n",
    "                problemWord = dic['word'] \n",
    "                if problemWord in alldicArr:\n",
    "                    tmp = {'word':dic['word'], 'mean':alldic[problemWord]}\n",
    "                    dics[idx] = tmp\n",
    "        \n",
    "        print('수정 후 {}의 에러 수'.format(category))\n",
    "        countingErr(dics)\n",
    "        \n",
    "    # 에러 삭제\n",
    "    dics = list(filter(lambda dic : dic['mean']!=['에러 발생'],dics))\n",
    "    print('에러 삭제 후 {}의 에러 수'.format(category))\n",
    "    countingErr(dics)\n",
    "    print('------------------------------------------------------------------')\n",
    "    \n",
    "    #저장 \n",
    "    file_path = '../../../data/complete-dictionarys/1/preprocessing/{}.json'.format(category)\n",
    "    with open(file_path,'w') as f:\n",
    "        json.dump(dics, f, ensure_ascii=False, indent=4)"
   ]
  },
  {
   "cell_type": "markdown",
   "id": "8d7dac7d",
   "metadata": {},
   "source": [
    "\n",
    "# 전처리 후 데이터 확인"
   ]
  },
  {
   "cell_type": "code",
   "execution_count": 35,
   "id": "b759361b",
   "metadata": {},
   "outputs": [
    {
     "name": "stdout",
     "output_type": "stream",
     "text": [
      "1963개의 단어 중\n",
      "총 0개의 문제 발생\n",
      "1284개의 단어 중\n",
      "총 0개의 문제 발생\n",
      "849개의 단어 중\n",
      "총 0개의 문제 발생\n",
      "532개의 단어 중\n",
      "총 0개의 문제 발생\n",
      "423개의 단어 중\n",
      "총 0개의 문제 발생\n",
      "408개의 단어 중\n",
      "총 0개의 문제 발생\n",
      "797개의 단어 중\n",
      "총 0개의 문제 발생\n",
      "583개의 단어 중\n",
      "총 0개의 문제 발생\n",
      "173개의 단어 중\n",
      "총 0개의 문제 발생\n",
      "443개의 단어 중\n",
      "총 0개의 문제 발생\n"
     ]
    }
   ],
   "source": [
    "for category in categories:\n",
    "    file_path = '../../../data/complete-dictionarys/1/preprocessing/{}.json'.format(category)\n",
    "    with open(file_path,'r') as f:\n",
    "        dics = json.load(f)\n",
    "        print('{}개의 단어 중'.format(len(dics)))\n",
    "        countingErr(dics)"
   ]
  },
  {
   "cell_type": "code",
   "execution_count": null,
   "id": "22e757cb",
   "metadata": {},
   "outputs": [],
   "source": []
  }
 ],
 "metadata": {
  "kernelspec": {
   "display_name": "Python 3",
   "language": "python",
   "name": "python3"
  },
  "language_info": {
   "codemirror_mode": {
    "name": "ipython",
    "version": 3
   },
   "file_extension": ".py",
   "mimetype": "text/x-python",
   "name": "python",
   "nbconvert_exporter": "python",
   "pygments_lexer": "ipython3",
   "version": "3.8.8"
  }
 },
 "nbformat": 4,
 "nbformat_minor": 5
}
