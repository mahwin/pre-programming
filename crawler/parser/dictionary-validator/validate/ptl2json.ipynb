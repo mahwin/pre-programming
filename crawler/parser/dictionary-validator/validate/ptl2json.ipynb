{
 "cells": [
  {
   "cell_type": "code",
   "execution_count": 42,
   "id": "8484ab5c",
   "metadata": {},
   "outputs": [],
   "source": [
    "import pickle\n",
    "import json\n",
    "import time\n",
    "from tqdm import tqdm"
   ]
  },
  {
   "cell_type": "code",
   "execution_count": 43,
   "id": "2ba51a59",
   "metadata": {},
   "outputs": [],
   "source": [
    "f = open('../../../data/complete-dictionarys/react.json','rb')\n",
    "react = json.load(f)"
   ]
  },
  {
   "cell_type": "code",
   "execution_count": 96,
   "id": "296ad5cf",
   "metadata": {},
   "outputs": [
    {
     "name": "stdout",
     "output_type": "stream",
     "text": [
      "총 494개의 문제 발생\n"
     ]
    }
   ],
   "source": [
    "countingErr(react)"
   ]
  },
  {
   "cell_type": "markdown",
   "id": "bf907c2e",
   "metadata": {},
   "source": [
    "# json 파일로 바꿈"
   ]
  },
  {
   "cell_type": "code",
   "execution_count": 9,
   "id": "17d2a440",
   "metadata": {},
   "outputs": [],
   "source": [
    "categories = ['react','next','reactRouter','reactHookForm','styledComponents','reactQuery','tailwind','reactRedux','react','recoil']"
   ]
  },
  {
   "cell_type": "code",
   "execution_count": 13,
   "id": "47042e4c",
   "metadata": {},
   "outputs": [
    {
     "name": "stderr",
     "output_type": "stream",
     "text": [
      "100%|██████████| 10/10 [00:20<00:00,  2.04s/it]\n"
     ]
    }
   ],
   "source": [
    "for category in tqdm(categories):\n",
    "    f = open('../../../data/dictionarys/{}.pkl'.format(category),'rb')\n",
    "    pickleData = pickle.load(f)\n",
    "    time.sleep(2)\n",
    "    file_path = '../../../data/complete-dictionarys/1/raws/{}.json'.format(category)\n",
    "    with open(file_path,'w') as f:\n",
    "        json.dump(pickleData, f, ensure_ascii=False, indent=4)"
   ]
  }
 ],
 "metadata": {
  "kernelspec": {
   "display_name": "Python 3",
   "language": "python",
   "name": "python3"
  },
  "language_info": {
   "codemirror_mode": {
    "name": "ipython",
    "version": 3
   },
   "file_extension": ".py",
   "mimetype": "text/x-python",
   "name": "python",
   "nbconvert_exporter": "python",
   "pygments_lexer": "ipython3",
   "version": "3.8.8"
  }
 },
 "nbformat": 4,
 "nbformat_minor": 5
}
