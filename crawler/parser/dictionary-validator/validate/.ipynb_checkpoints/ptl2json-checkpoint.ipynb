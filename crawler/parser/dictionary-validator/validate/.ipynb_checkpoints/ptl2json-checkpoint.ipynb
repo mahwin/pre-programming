{
 "cells": [
  {
   "cell_type": "code",
   "execution_count": 42,
   "id": "7007f4e0",
   "metadata": {},
   "outputs": [],
   "source": [
    "import pickle\n",
    "import json\n",
    "import time\n",
    "from tqdm import tqdm"
   ]
  },
  {
   "cell_type": "code",
   "execution_count": 43,
   "id": "5dac6d49",
   "metadata": {},
   "outputs": [],
   "source": [
    "f = open('../../../data/complete-dictionarys/react.json','rb')\n",
    "react = json.load(f)"
   ]
  },
  {
   "cell_type": "code",
   "execution_count": 95,
   "id": "2e1a11e6",
   "metadata": {},
   "outputs": [],
   "source": [
    "def countingErr(dics):\n",
    "    count = 0\n",
    "    for idx,dic in enumerate(dics):\n",
    "        if dic['mean'] == ['에러 발생']:\n",
    "            count+=1\n",
    "    print('총 {}개의 문제 발생'.format(count))"
   ]
  },
  {
   "cell_type": "code",
   "execution_count": 96,
   "id": "ce2fbc13",
   "metadata": {},
   "outputs": [
    {
     "name": "stdout",
     "output_type": "stream",
     "text": [
      "총 494개의 문제 발생\n"
     ]
    }
   ],
   "source": [
    "countingErr(react)"
   ]
  },
  {
   "cell_type": "markdown",
   "id": "afdb88c6",
   "metadata": {},
   "source": [
    "# json 파일로 바꿈"
   ]
  },
  {
   "cell_type": "code",
   "execution_count": 9,
   "id": "a473b11c",
   "metadata": {},
   "outputs": [],
   "source": [
    "categories = ['react','next','reactRouter','reactHookForm','styledComponents','reactQuery','tailwind','reactRedux','react','recoil']"
   ]
  },
  {
   "cell_type": "code",
   "execution_count": 13,
   "id": "11a47492",
   "metadata": {},
   "outputs": [
    {
     "name": "stderr",
     "output_type": "stream",
     "text": [
      "100%|██████████| 10/10 [00:20<00:00,  2.04s/it]\n"
     ]
    }
   ],
   "source": [
    "for category in tqdm(categories):\n",
    "    f = open('../../../data/dictionarys/{}.pkl'.format(category),'rb')\n",
    "    pickleData = pickle.load(f)\n",
    "    time.sleep(2)\n",
    "    file_path = '../../../data/complete-dictionarys/{}.json'.format(category)\n",
    "    with open(file_path,'w') as f:\n",
    "        json.dump(pickleData, f, ensure_ascii=False, indent=4)"
   ]
  },
  {
   "cell_type": "markdown",
   "id": "f962f32f",
   "metadata": {},
   "source": [
    "## axios, next  에러가 발생한 곳을 수정함."
   ]
  },
  {
   "cell_type": "code",
   "execution_count": 45,
   "id": "b909e127",
   "metadata": {},
   "outputs": [],
   "source": [
    "f = open('../../../data/complete-dictionarys/next.json','rb')\n",
    "nextjs = json.load(f)"
   ]
  },
  {
   "cell_type": "code",
   "execution_count": 97,
   "id": "ec6db4be",
   "metadata": {},
   "outputs": [
    {
     "name": "stdout",
     "output_type": "stream",
     "text": [
      "총 0개의 문제 발생\n"
     ]
    }
   ],
   "source": [
    "countingErr(nextjs)"
   ]
  },
  {
   "cell_type": "markdown",
   "id": "ad268a0f",
   "metadata": {},
   "source": [
    "## 수정 중 대부분의 오류는 과거형이나  분사에서 발생하는 것을 확인\n",
    "## axios,next 제외한 나머지 카테고리에서 발생한 에러가 딴 카테고리에서는 에러가 없었는지 확인하고 있었다면 제외 없었다면 그 값으로 대체하기로 결정"
   ]
  },
  {
   "cell_type": "code",
   "execution_count": 105,
   "id": "5bfbe500",
   "metadata": {},
   "outputs": [],
   "source": [
    "categories = ['react','next','reactRouter','reactHookForm','styledComponents','reactQuery','tailwind','reactRedux','axios','recoil']"
   ]
  },
  {
   "cell_type": "code",
   "execution_count": 106,
   "id": "66ac1384",
   "metadata": {},
   "outputs": [],
   "source": [
    "alldic ={}\n",
    "for category in categories:\n",
    "    file_path = '../../../data/complete-dictionarys/{}.json'.format(category)\n",
    "    with open(file_path,'r') as f:\n",
    "        dics = json.load(f)\n",
    "        for dic in dics:\n",
    "            if dic['mean'] != [\"에러 발생\"]:\n",
    "                if dic['word'] not in alldic.keys() :\n",
    "                    alldic[dic['word']] = dic['mean']"
   ]
  },
  {
   "cell_type": "markdown",
   "id": "da53aea0",
   "metadata": {},
   "source": [
    "\n",
    "### 유니크하고, 사전에서 제대로 값을 찾은 단어의 수"
   ]
  },
  {
   "cell_type": "code",
   "execution_count": 107,
   "id": "6b212dfc",
   "metadata": {},
   "outputs": [
    {
     "name": "stdout",
     "output_type": "stream",
     "text": [
      "2569\n"
     ]
    }
   ],
   "source": [
    "print(len(alldic))\n",
    "alldicArr = list(alldic.keys())"
   ]
  },
  {
   "cell_type": "code",
   "execution_count": 108,
   "id": "f4807d98",
   "metadata": {},
   "outputs": [
    {
     "name": "stdout",
     "output_type": "stream",
     "text": [
      "수정 전 react의 에러 수\n",
      "총 494개의 문제 발생\n",
      "수정 후 react의 에러 수\n",
      "총 365개의 문제 발생\n",
      "------------------------------------------------------------------\n",
      "수정 전 next의 에러 수\n",
      "총 0개의 문제 발생\n",
      "수정 후 next의 에러 수\n",
      "총 0개의 문제 발생\n",
      "------------------------------------------------------------------\n",
      "수정 전 reactRouter의 에러 수\n",
      "총 138개의 문제 발생\n",
      "수정 후 reactRouter의 에러 수\n",
      "총 92개의 문제 발생\n",
      "------------------------------------------------------------------\n",
      "수정 전 reactHookForm의 에러 수\n",
      "총 85개의 문제 발생\n",
      "수정 후 reactHookForm의 에러 수\n",
      "총 44개의 문제 발생\n",
      "------------------------------------------------------------------\n",
      "수정 전 styledComponents의 에러 수\n",
      "총 64개의 문제 발생\n",
      "수정 후 styledComponents의 에러 수\n",
      "총 32개의 문제 발생\n",
      "------------------------------------------------------------------\n",
      "수정 전 reactQuery의 에러 수\n",
      "총 51개의 문제 발생\n",
      "수정 후 reactQuery의 에러 수\n",
      "총 25개의 문제 발생\n",
      "------------------------------------------------------------------\n",
      "수정 전 tailwind의 에러 수\n",
      "총 109개의 문제 발생\n",
      "수정 후 tailwind의 에러 수\n",
      "총 60개의 문제 발생\n",
      "------------------------------------------------------------------\n",
      "수정 전 reactRedux의 에러 수\n",
      "총 89개의 문제 발생\n",
      "수정 후 reactRedux의 에러 수\n",
      "총 47개의 문제 발생\n",
      "------------------------------------------------------------------\n",
      "수정 전 axios의 에러 수\n",
      "총 0개의 문제 발생\n",
      "수정 후 axios의 에러 수\n",
      "총 0개의 문제 발생\n",
      "------------------------------------------------------------------\n",
      "수정 전 recoil의 에러 수\n",
      "총 78개의 문제 발생\n",
      "수정 후 recoil의 에러 수\n",
      "총 39개의 문제 발생\n",
      "------------------------------------------------------------------\n"
     ]
    }
   ],
   "source": [
    "count = 0\n",
    "for category in categories:\n",
    "    changeCount = 0\n",
    "    file_path = '../../../data/complete-dictionarys/1/raws/{}.json'.format(category)\n",
    "    with open(file_path,'r') as f:\n",
    "        dics = json.load(f)\n",
    "        print('수정 전 {}의 에러 수'.format(category))\n",
    "        countingErr(dics)\n",
    "        for idx, dic in enumerate(dics):\n",
    "            if dic['mean'] == [\"에러 발생\"]:\n",
    "                problemWord = dic['word'] \n",
    "                if problemWord in alldicArr:\n",
    "                    tmp = {'word':dic['word'], 'mean':alldic[problemWord]}\n",
    "\n",
    "                    dics[idx] = tmp\n",
    "        print('수정 후 {}의 에러 수'.format(category))\n",
    "        countingErr(dics)\n",
    "        \n",
    "    print('------------------------------------------------------------------')"
   ]
  },
  {
   "cell_type": "code",
   "execution_count": null,
   "id": "35604c92",
   "metadata": {},
   "outputs": [],
   "source": [
    "\n"
   ]
  }
 ],
 "metadata": {
  "kernelspec": {
   "display_name": "Python 3",
   "language": "python",
   "name": "python3"
  },
  "language_info": {
   "codemirror_mode": {
    "name": "ipython",
    "version": 3
   },
   "file_extension": ".py",
   "mimetype": "text/x-python",
   "name": "python",
   "nbconvert_exporter": "python",
   "pygments_lexer": "ipython3",
   "version": "3.8.8"
  }
 },
 "nbformat": 4,
 "nbformat_minor": 5
}
