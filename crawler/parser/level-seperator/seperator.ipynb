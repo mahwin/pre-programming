{
 "cells": [
  {
   "cell_type": "code",
   "execution_count": 38,
   "id": "2c0ff312",
   "metadata": {},
   "outputs": [],
   "source": [
    "import json\n",
    "import math\n",
    "from tqdm import tqdm"
   ]
  },
  {
   "cell_type": "code",
   "execution_count": 41,
   "id": "6df9bf95",
   "metadata": {},
   "outputs": [],
   "source": [
    "categories = ['react','next','reactRouter','reactHookForm','styledComponents','reactQuery','tailwind','reactRedux','axios','recoil']"
   ]
  },
  {
   "cell_type": "code",
   "execution_count": 42,
   "id": "3ddcb918",
   "metadata": {},
   "outputs": [],
   "source": [
    "divederBase ={'300':3,'500':5,'1000':6,'1500':8,'2000':10}"
   ]
  },
  {
   "cell_type": "markdown",
   "id": "17ce17ab",
   "metadata": {},
   "source": [
    " ## level \n",
    " ### 10이하 2이상의 level을 가지도록 분배\n",
    " \n",
    " 1. 단어가 200개 이하  => 나누기   2\n",
    " 2. 단어가 300개 이하  => 나누기   3\n",
    " 3. 단어가 500개 이하  => 나누기   5\n",
    " 4. 단어가 1000개 이하 => 나누기   6\n",
    " 5. 단어가 1500개 이하 => 나누기   8\n",
    " 6. 단어가 2000개 이하 => 나누기  10\n",
    " \n",
    " \n",
    " \n",
    " "
   ]
  },
  {
   "cell_type": "code",
   "execution_count": 43,
   "id": "b136d586",
   "metadata": {
    "scrolled": true
   },
   "outputs": [
    {
     "name": "stderr",
     "output_type": "stream",
     "text": [
      "100%|██████████| 10/10 [00:00<00:00, 143.80it/s]\n"
     ]
    }
   ],
   "source": [
    "for category in tqdm(categories):\n",
    "    f = open('../../data/complete-dictionarys/1/mean-word-frequency/{}.json'.format(category),'rb')\n",
    "    dicObj = json.load(f)\n",
    "    amount = len(dicObj)\n",
    "    if amount <= 200:\n",
    "        divederBase = {'levels':2,'budleUnit':100} # 100개식 두 묶음\n",
    "    elif amount <= 300:\n",
    "        divederBase = {'levels':3,'budleUnit':100} # 100개식 세 묶음\n",
    "    elif amount <=500:\n",
    "        divederBase = {'levels':5,'budleUnit':100}\n",
    "    elif amount <=1000:\n",
    "        divederBase = {'levels':7 ,'budleUnit':150}\n",
    "    elif amount <=1500:\n",
    "        divederBase = {'levels':8 ,'budleUnit':200}\n",
    "    else :\n",
    "        divederBase = {'levels':10 ,'budleUnit':200}\n",
    "    \n",
    "    index = 0\n",
    "    level = 1\n",
    "    while index >= amount -1 :\n",
    "        for i in range(divederBase['budleUnit']):\n",
    "            try:\n",
    "                dicObj[index] = {**dicObj[index],'level': level,skill:category}            \n",
    "                index+=1\n",
    "            except:\n",
    "                pass\n",
    "        level +=1\n",
    "    f = open('../../data/complete-dictionarys/1/mean-word-frequency-level/{}.json'.format(category),'w')\n",
    "    json.dump(dicObj, f, ensure_ascii=False, indent=4)"
   ]
  }
 ],
 "metadata": {
  "kernelspec": {
   "display_name": "Python 3",
   "language": "python",
   "name": "python3"
  },
  "language_info": {
   "codemirror_mode": {
    "name": "ipython",
    "version": 3
   },
   "file_extension": ".py",
   "mimetype": "text/x-python",
   "name": "python",
   "nbconvert_exporter": "python",
   "pygments_lexer": "ipython3",
   "version": "3.8.8"
  }
 },
 "nbformat": 4,
 "nbformat_minor": 5
}
