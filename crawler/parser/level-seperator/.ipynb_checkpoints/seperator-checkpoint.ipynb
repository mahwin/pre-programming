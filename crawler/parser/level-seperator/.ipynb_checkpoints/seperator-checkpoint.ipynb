{
 "cells": [
  {
   "cell_type": "code",
   "execution_count": 5,
   "id": "bf2acff4",
   "metadata": {},
   "outputs": [],
   "source": [
    "import json\n",
    "import math\n",
    "from tqdm import tqdm"
   ]
  },
  {
   "cell_type": "code",
   "execution_count": 6,
   "id": "15eb3b58",
   "metadata": {},
   "outputs": [],
   "source": [
    "categories = ['react','next','reactRouter','reactHookForm','styledComponents','reactQuery','tailwind','reactRedux','axios','recoil']"
   ]
  },
  {
   "cell_type": "markdown",
   "id": "0859c261",
   "metadata": {},
   "source": [
    " ## level \n",
    " ### 10이하 2이상의 level을 가지도록 분배\n",
    " \n",
    " 1. 단어가 200개 이하  => 나누기   2\n",
    " 2. 단어가 300개 이하  => 나누기   3\n",
    " 3. 단어가 500개 이하  => 나누기   5\n",
    " 4. 단어가 1000개 이하 => 나누기   6\n",
    " 5. 단어가 1400개 이하 => 나누기   8\n",
    " 6. 단어가 2000개 이하 => 나누기  10\n",
    " \n",
    " \n",
    " \n",
    " "
   ]
  },
  {
   "cell_type": "code",
   "execution_count": 11,
   "id": "b3173c00",
   "metadata": {
    "scrolled": true
   },
   "outputs": [
    {
     "name": "stderr",
     "output_type": "stream",
     "text": [
      "100%|██████████| 10/10 [00:00<00:00, 401.65it/s]"
     ]
    },
    {
     "name": "stdout",
     "output_type": "stream",
     "text": [
      "1963\n",
      "1284\n",
      "849\n",
      "532\n",
      "423\n",
      "408\n",
      "797\n",
      "583\n",
      "173\n",
      "443\n"
     ]
    },
    {
     "name": "stderr",
     "output_type": "stream",
     "text": [
      "\n"
     ]
    }
   ],
   "source": [
    "for category in tqdm(categories):\n",
    "    f = open('../../data/complete-dictionarys/1/mean-word-frequency-level/{}.json'.format(category),'rb')\n",
    "    dicObj = json.load(f)\n",
    "    amount = len(dicObj)\n",
    "    print(amount)\n",
    "    if amount <= 200:\n",
    "        divederBase = {'levels':2,'budleUnit':100} # 100개식 두 묶음\n",
    "    elif amount <= 300:\n",
    "        divederBase = {'levels':3,'budleUnit':100} # 100개식 세 묶음\n",
    "    elif amount <=500:\n",
    "        divederBase = {'levels':5,'budleUnit':100}\n",
    "    elif amount <=1000:\n",
    "        divederBase = {'levels':7 ,'budleUnit':150}\n",
    "    elif amount <=1400:\n",
    "        divederBase = {'levels':8 ,'budleUnit':180}\n",
    "    elif amount <= 1600:\n",
    "        divederBase = {'levels':8 ,'budleUnit':200}\n",
    "    else :\n",
    "        divederBase = {'levels':10 ,'budleUnit':200}\n",
    "    index = 0\n",
    "    level = 1\n",
    "    while index < amount -1 :\n",
    "        for i in range(divederBase['budleUnit']):\n",
    "            try:\n",
    "                dicObj[index] = {'word':dicObj[index]['word'],'mean':str(dicObj[index]['mean']),'frequency':str(dicObj[index]['frequency']) ,'level': level, 'category': category}   \n",
    "                index+=1\n",
    "            except:\n",
    "                index+=1\n",
    "        level +=1\n",
    "    f = open('../../data/complete-dictionarys/1/mean-word-frequency-level/1{}.json'.format(category),'w')\n",
    "    json.dump(dicObj, f, ensure_ascii=False, indent=4)"
   ]
  },
  {
   "cell_type": "code",
   "execution_count": 8,
   "id": "3c97c90b",
   "metadata": {},
   "outputs": [
    {
     "data": {
      "text/plain": [
       "187.5"
      ]
     },
     "execution_count": 8,
     "metadata": {},
     "output_type": "execute_result"
    }
   ],
   "source": [
    "1500/8"
   ]
  },
  {
   "cell_type": "code",
   "execution_count": 9,
   "id": "61e5325d",
   "metadata": {},
   "outputs": [
    {
     "data": {
      "text/plain": [
       "1440"
      ]
     },
     "execution_count": 9,
     "metadata": {},
     "output_type": "execute_result"
    }
   ],
   "source": [
    "180*8"
   ]
  },
  {
   "cell_type": "code",
   "execution_count": null,
   "id": "0c9ea969",
   "metadata": {},
   "outputs": [],
   "source": [
    "200개씩 10개\n"
   ]
  }
 ],
 "metadata": {
  "kernelspec": {
   "display_name": "Python 3",
   "language": "python",
   "name": "python3"
  },
  "language_info": {
   "codemirror_mode": {
    "name": "ipython",
    "version": 3
   },
   "file_extension": ".py",
   "mimetype": "text/x-python",
   "name": "python",
   "nbconvert_exporter": "python",
   "pygments_lexer": "ipython3",
   "version": "3.8.8"
  }
 },
 "nbformat": 4,
 "nbformat_minor": 5
}
