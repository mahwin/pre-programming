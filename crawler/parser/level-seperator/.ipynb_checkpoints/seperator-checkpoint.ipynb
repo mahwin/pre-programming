{
 "cells": [
  {
   "cell_type": "code",
   "execution_count": 14,
   "id": "8feb7c34",
   "metadata": {},
   "outputs": [],
   "source": [
    "import json\n",
    "import math"
   ]
  },
  {
   "cell_type": "code",
   "execution_count": 7,
   "id": "b208347b",
   "metadata": {},
   "outputs": [],
   "source": [
    "categories = ['react','next','reactRouter','reactHookForm','styledComponents','reactQuery','tailwind','reactRedux','axios','recoil']"
   ]
  },
  {
   "cell_type": "code",
   "execution_count": 11,
   "id": "b99ca654",
   "metadata": {},
   "outputs": [],
   "source": [
    "divederBase ={'300':3,'500':5,'1000':6,'1500':8,'2000':10}"
   ]
  },
  {
   "cell_type": "markdown",
   "id": "6d31b704",
   "metadata": {},
   "source": [
    " ## level \n",
    " ### 10이하 2이상의 level을 가지도록 분배\n",
    " \n",
    " 1. 단어가 200개 이하  => 나누기   2\n",
    " 2. 단어가 300개 이하  => 나누기   3\n",
    " 3. 단어가 500개 이하  => 나누기   5\n",
    " 4. 단어가 1000개 이하 => 나누기   6\n",
    " 5. 단어가 1500개 이하 => 나누기   8\n",
    " 6. 단어가 2000개 이하 => 나누기  10\n",
    " \n",
    " \n",
    " \n",
    " "
   ]
  },
  {
   "cell_type": "code",
   "execution_count": 10,
   "id": "f76a86b4",
   "metadata": {},
   "outputs": [
    {
     "data": {
      "text/plain": [
       "1963"
      ]
     },
     "execution_count": 10,
     "metadata": {},
     "output_type": "execute_result"
    }
   ],
   "source": []
  },
  {
   "cell_type": "code",
   "execution_count": null,
   "id": "a4ee3b34",
   "metadata": {},
   "outputs": [],
   "source": [
    "# mean-word-frequency-level\n"
   ]
  },
  {
   "cell_type": "code",
   "execution_count": 22,
   "id": "96fcb34c",
   "metadata": {
    "scrolled": true
   },
   "outputs": [
    {
     "name": "stdout",
     "output_type": "stream",
     "text": [
      "{'levels': 10, 'budleUnit': 200}\n",
      "{'levels': 8, 'budleUnit': 200}\n",
      "{'levels': 7, 'budleUnit': 150}\n",
      "{'levels': 7, 'budleUnit': 150}\n",
      "{'levels': 5, 'budleUnit': 100}\n",
      "{'levels': 5, 'budleUnit': 100}\n",
      "{'levels': 7, 'budleUnit': 150}\n",
      "{'levels': 7, 'budleUnit': 150}\n",
      "{'levels': 2, 'budleUnit': 100}\n",
      "{'levels': 5, 'budleUnit': 100}\n"
     ]
    }
   ],
   "source": [
    "for category in categories:\n",
    "    f = open('../../data/complete-dictionarys/1/mean-word-frequency/{}.json'.format(category),'rb')\n",
    "    dicObj = json.load(f)\n",
    "    amount = len(dicObj)\n",
    "    if amount <= 200:\n",
    "        divederBase = {'levels':2,'budleUnit':100} # 100개식 두 묶음\n",
    "    elif amount <= 300:\n",
    "        divederBase = {'levels':3,'budleUnit':100} # 100개식 세 묶음\n",
    "    elif amount <=500:\n",
    "        divederBase = {'levels':5,'budleUnit':100}\n",
    "    elif amount <=1000:\n",
    "        divederBase = {'levels':7 ,'budleUnit':150}\n",
    "    elif amount <=1500:\n",
    "        divederBase = {'levels':8 ,'budleUnit':200}\n",
    "    else :\n",
    "        divederBase = {'levels':10 ,'budleUnit':200}\n",
    "    \n",
    "    index = 0\n",
    "    level = 1\n",
    "    while index != amount:\n",
    "        for i in range(divederBase['budleUnit']):\n",
    "            index+=1\n",
    "            dicObj[index] = {**dicObj[index],'level': level}            \n",
    "        level +=1\n",
    "        \n",
    "    \n",
    "    \n",
    "    "
   ]
  },
  {
   "cell_type": "code",
   "execution_count": 16,
   "id": "c4c11005",
   "metadata": {},
   "outputs": [
    {
     "data": {
      "text/plain": [
       "89"
      ]
     },
     "execution_count": 16,
     "metadata": {},
     "output_type": "execute_result"
    }
   ],
   "source": [
    "math.ceil(len(dicObj)/offset)"
   ]
  },
  {
   "cell_type": "code",
   "execution_count": 17,
   "id": "06aa1ac7",
   "metadata": {},
   "outputs": [
    {
     "data": {
      "text/plain": [
       "445"
      ]
     },
     "execution_count": 17,
     "metadata": {},
     "output_type": "execute_result"
    }
   ],
   "source": [
    "89*5"
   ]
  },
  {
   "cell_type": "code",
   "execution_count": 18,
   "id": "63b52bfc",
   "metadata": {},
   "outputs": [
    {
     "data": {
      "text/plain": [
       "197"
      ]
     },
     "execution_count": 18,
     "metadata": {},
     "output_type": "execute_result"
    }
   ],
   "source": [
    "math.ceil(1963/10)"
   ]
  },
  {
   "cell_type": "code",
   "execution_count": 19,
   "id": "28b4f131",
   "metadata": {},
   "outputs": [
    {
     "data": {
      "text/plain": [
       "166.66666666666666"
      ]
     },
     "execution_count": 19,
     "metadata": {},
     "output_type": "execute_result"
    }
   ],
   "source": [
    "180"
   ]
  },
  {
   "cell_type": "code",
   "execution_count": 20,
   "id": "614753a4",
   "metadata": {},
   "outputs": [
    {
     "data": {
      "text/plain": [
       "187.5"
      ]
     },
     "execution_count": 20,
     "metadata": {},
     "output_type": "execute_result"
    }
   ],
   "source": [
    "1500/8"
   ]
  },
  {
   "cell_type": "code",
   "execution_count": null,
   "id": "dfae7a2f",
   "metadata": {},
   "outputs": [],
   "source": []
  }
 ],
 "metadata": {
  "kernelspec": {
   "display_name": "Python 3",
   "language": "python",
   "name": "python3"
  },
  "language_info": {
   "codemirror_mode": {
    "name": "ipython",
    "version": 3
   },
   "file_extension": ".py",
   "mimetype": "text/x-python",
   "name": "python",
   "nbconvert_exporter": "python",
   "pygments_lexer": "ipython3",
   "version": "3.8.8"
  }
 },
 "nbformat": 4,
 "nbformat_minor": 5
}
