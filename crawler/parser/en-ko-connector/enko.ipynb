{
 "cells": [
  {
   "cell_type": "code",
   "execution_count": 1,
   "id": "ef0b0005",
   "metadata": {},
   "outputs": [],
   "source": [
    "import pickle\n",
    "import requests\n",
    "from bs4 import BeautifulSoup as bs\n",
    "import time\n",
    "from tqdm import tqdm\n",
    "from selenium import webdriver\n",
    "import re"
   ]
  },
  {
   "cell_type": "code",
   "execution_count": 2,
   "id": "a1925a9f",
   "metadata": {},
   "outputs": [],
   "source": [
    "Reg = '[\\\\n]+'\n",
    "RegNum ='[0-9]+[.]'"
   ]
  },
  {
   "cell_type": "code",
   "execution_count": 3,
   "id": "d1a82da6",
   "metadata": {},
   "outputs": [],
   "source": [
    "def genUrl(hashUrl):\n",
    "    return 'https://en.dict.naver.com/{}'.format(hashUrl)"
   ]
  },
  {
   "cell_type": "code",
   "execution_count": 4,
   "id": "e589936f",
   "metadata": {},
   "outputs": [],
   "source": [
    "#selenium 이용\n",
    "def getKoWithSelenium(driver,url):\n",
    "    driver.get(url)\n",
    "    time.sleep(1)\n",
    "    pageSource = driver.page_source\n",
    "    soup = bs(pageSource,'html.parser')\n",
    "    data = soup.select('div.entry_mean_list')[0].text\n",
    "    return data"
   ]
  },
  {
   "cell_type": "code",
   "execution_count": 5,
   "id": "c026e022",
   "metadata": {},
   "outputs": [],
   "source": [
    "def meanParser(data):\n",
    "    data =re.sub(Reg,'',data)\n",
    "    meanArray = re.split(RegNum,data)\n",
    "    for idx,mean in enumerate(meanArray):\n",
    "        meanArray[idx] =  '{}. {}'.format(idx,mean)\n",
    "    return meanArray[1:]"
   ]
  },
  {
   "cell_type": "code",
   "execution_count": 15,
   "id": "4effa276",
   "metadata": {},
   "outputs": [],
   "source": [
    "driver = webdriver.Chrome('/Users/jeong-youseock/Downloads/chromedriver')\n",
    "driver.implicitly_wait(3)"
   ]
  },
  {
   "cell_type": "markdown",
   "id": "f95d2b66",
   "metadata": {},
   "source": [
    "#   axios,  next,  react-query\n",
    "#   react-hook-form,  styled-component,  recoil\n",
    "#   tailwind,  react,  reactRedux\n",
    "\n",
    "## ** react의 경우 홈페이지가 담고 있는 내용이 너무 많아서 따로 진행"
   ]
  },
  {
   "cell_type": "code",
   "execution_count": 9,
   "id": "e854bf4e",
   "metadata": {},
   "outputs": [],
   "source": [
    "categories = ['axios','next','reactQuery','reactHookForm','styledComponents','recoil','tailwind','reactRouter','reactRedux']\n"
   ]
  },
  {
   "cell_type": "code",
   "execution_count": 10,
   "id": "1a242cf2",
   "metadata": {},
   "outputs": [
    {
     "name": "stderr",
     "output_type": "stream",
     "text": [
      " 20%|██        | 1/5 [09:45<39:01, 585.26s/it]"
     ]
    },
    {
     "name": "stdout",
     "output_type": "stream",
     "text": [
      "category : styledComponents\n",
      "총 455개 저장 완료\n"
     ]
    },
    {
     "name": "stderr",
     "output_type": "stream",
     "text": [
      "\r\n",
      " 40%|████      | 2/5 [19:43<29:38, 592.75s/it]"
     ]
    },
    {
     "name": "stdout",
     "output_type": "stream",
     "text": [
      "category : recoil\n",
      "총 482개 저장 완료\n"
     ]
    },
    {
     "name": "stderr",
     "output_type": "stream",
     "text": [
      "\r\n",
      " 60%|██████    | 3/5 [38:20<27:44, 832.40s/it]"
     ]
    },
    {
     "name": "stdout",
     "output_type": "stream",
     "text": [
      "category : tailwind\n",
      "총 857개 저장 완료\n"
     ]
    },
    {
     "name": "stderr",
     "output_type": "stream",
     "text": [
      "\r\n",
      " 80%|████████  | 4/5 [1:26:50<27:32, 1652.37s/it]"
     ]
    },
    {
     "name": "stdout",
     "output_type": "stream",
     "text": [
      "category : reactRouter\n",
      "총 2328개 저장 완료\n"
     ]
    },
    {
     "name": "stderr",
     "output_type": "stream",
     "text": [
      "100%|██████████| 5/5 [1:39:56<00:00, 1199.40s/it]"
     ]
    },
    {
     "name": "stdout",
     "output_type": "stream",
     "text": [
      "category : reactRedux\n",
      "총 630개 저장 완료\n"
     ]
    },
    {
     "name": "stderr",
     "output_type": "stream",
     "text": [
      "\n"
     ]
    }
   ],
   "source": [
    "for category in tqdm(categories):\n",
    "    en_ko_array = []\n",
    "    f = open('../../data/hashUrl/{}.pkl'.format(category),'rb')\n",
    "    hashdic = pickle.load(f)\n",
    "    for word,hashUrl in hashdic.items():\n",
    "        url = genUrl(hashUrl)\n",
    "        try:\n",
    "            data = getKoWithSelenium(driver,url)\n",
    "            meanArray =  meanParser(data)\n",
    "            tmp = {'word':word, 'mean':meanArray}\n",
    "        except:\n",
    "            tmp = {'word':word, 'mean':['에러 발생']}\n",
    "        en_ko_array.append(tmp)\n",
    "        \n",
    "    f = open('../../data/dictionarys/{}.pkl'.format(category),'wb')\n",
    "    pickle.dump(en_ko_array, f)\n",
    "    f.close()\n",
    "    \n",
    "    print('category : {}'.format(category))\n",
    "    print('총 {}개 저장 완료'.format(len(en_ko_array)))"
   ]
  },
  {
   "cell_type": "markdown",
   "id": "321e8cb2",
   "metadata": {},
   "source": [
    "\n",
    "# react-router 빠진 부분 "
   ]
  },
  {
   "cell_type": "code",
   "execution_count": 16,
   "id": "d171c207",
   "metadata": {},
   "outputs": [
    {
     "name": "stdout",
     "output_type": "stream",
     "text": [
      "category : reactRouter\n",
      "총 941개 저장 완료\n"
     ]
    }
   ],
   "source": [
    "category='reactRouter'\n",
    "en_ko_array = []\n",
    "f = open('../../data/hashUrl/{}.pkl'.format(category),'rb')\n",
    "hashdic = pickle.load(f)\n",
    "for word,hashUrl in hashdic.items():\n",
    "    url = genUrl(hashUrl)\n",
    "    try:\n",
    "        data = getKoWithSelenium(driver,url)\n",
    "        meanArray =  meanParser(data)\n",
    "        tmp = {'word':word, 'mean':meanArray}\n",
    "    except:\n",
    "        tmp = {'word':word, 'mean':['에러 발생']}\n",
    "    en_ko_array.append(tmp)\n",
    "\n",
    "f = open('../../data/dictionarys/{}.pkl'.format(category),'wb')\n",
    "pickle.dump(en_ko_array, f)\n",
    "f.close()\n",
    "\n",
    "print('category : {}'.format(category))\n",
    "print('총 {}개 저장 완료'.format(len(en_ko_array)))"
   ]
  }
 ],
 "metadata": {
  "kernelspec": {
   "display_name": "Python 3.8.10 64-bit ('mlp': conda)",
   "language": "python",
   "name": "python3810jvsc74a57bd0ce52bf728390bdc3e82d628f52f7f321bd0929be221c9428aa5f31873b71f1ee"
  },
  "language_info": {
   "codemirror_mode": {
    "name": "ipython",
    "version": 3
   },
   "file_extension": ".py",
   "mimetype": "text/x-python",
   "name": "python",
   "nbconvert_exporter": "python",
   "pygments_lexer": "ipython3",
   "version": "3.8.10"
  }
 },
 "nbformat": 4,
 "nbformat_minor": 5
}
