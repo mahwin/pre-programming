{
 "cells": [
  {
   "cell_type": "code",
   "execution_count": 7,
   "id": "de9b93af",
   "metadata": {},
   "outputs": [],
   "source": [
    "import pandas as pd\n",
    "import requests\n",
    "import pickle\n",
    "import time\n",
    "from bs4 import BeautifulSoup as bs\n",
    "from tqdm import tqdm"
   ]
  },
  {
   "cell_type": "code",
   "execution_count": 8,
   "id": "f4ce2df1",
   "metadata": {},
   "outputs": [],
   "source": [
    "def getHtmlToSoup(url):\n",
    "    webdriverhtml = requests.get(url)\n",
    "    return bs(webdriverhtml.text,'html.parser')"
   ]
  },
  {
   "cell_type": "code",
   "execution_count": 11,
   "id": "b70af244",
   "metadata": {},
   "outputs": [
    {
     "name": "stdout",
     "output_type": "stream",
     "text": [
      "https://recoiljs.org/docs/introduction/motivation\n",
      "https://recoiljs.org/docs/introduction/core-concepts\n",
      "https://recoiljs.org/docs/introduction/installation\n",
      "https://recoiljs.org/docs/introduction/getting-started\n",
      "https://recoiljs.org/docs/basic-tutorial/intro\n",
      "...\n"
     ]
    }
   ],
   "source": [
    "#찾을 urls\n",
    "f = open('../data/urls/recoil.pkl','rb')\n",
    "urls = pickle.load(f)\n",
    "print(*urls[:5], sep='\\n')\n",
    "print('...')"
   ]
  },
  {
   "cell_type": "code",
   "execution_count": 14,
   "id": "e11637fc",
   "metadata": {},
   "outputs": [],
   "source": [
    "def textParser(url,tags):\n",
    "    bsObj = getHtmlToSoup(url)\n",
    "    for tag in tags:\n",
    "        nameList = bsObj.find_all(tag)\n",
    "        nameList = [i.text for i in nameList]\n",
    "        tagInterText[tag] += nameList\n",
    "    return tagInterText"
   ]
  },
  {
   "cell_type": "code",
   "execution_count": 15,
   "id": "ec1fff54",
   "metadata": {},
   "outputs": [],
   "source": [
    "def dataToTable(data):\n",
    "    tmp = []\n",
    "    for key, texts in data.items():\n",
    "        for text in texts:\n",
    "            tmp.append([key,text])\n",
    "    df = pd.DataFrame(data=tmp,columns=['tag','text'])\n",
    "    return df"
   ]
  },
  {
   "cell_type": "code",
   "execution_count": null,
   "id": "75ac6f2b",
   "metadata": {},
   "outputs": [
    {
     "name": "stderr",
     "output_type": "stream",
     "text": [
      " 87%|████████▋ | 13/15 [00:28<00:04,  2.09s/it]"
     ]
    }
   ],
   "source": [
    "tagInterText = {'p':[],'h1':[],'h2':[],'h3':[]}\n",
    "tags = ['p','h1','h2','h3']\n",
    "for url in tqdm(urls[:15]):\n",
    "    df = dataToTable(textParser(url,tags))\n",
    "    time.sleep(1)"
   ]
  },
  {
   "cell_type": "code",
   "execution_count": null,
   "id": "dba87bc2",
   "metadata": {},
   "outputs": [],
   "source": [
    "df"
   ]
  },
  {
   "cell_type": "code",
   "execution_count": null,
   "id": "cddf3a0a",
   "metadata": {},
   "outputs": [],
   "source": []
  }
 ],
 "metadata": {
  "kernelspec": {
   "display_name": "Python 3.8.10 64-bit ('mlp': conda)",
   "language": "python",
   "name": "python3810jvsc74a57bd0ce52bf728390bdc3e82d628f52f7f321bd0929be221c9428aa5f31873b71f1ee"
  },
  "language_info": {
   "codemirror_mode": {
    "name": "ipython",
    "version": 3
   },
   "file_extension": ".py",
   "mimetype": "text/x-python",
   "name": "python",
   "nbconvert_exporter": "python",
   "pygments_lexer": "ipython3",
   "version": "3.8.10"
  }
 },
 "nbformat": 4,
 "nbformat_minor": 5
}
