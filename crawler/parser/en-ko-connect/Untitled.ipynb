{
 "cells": [
  {
   "cell_type": "code",
   "execution_count": 262,
   "id": "ef0b0005",
   "metadata": {},
   "outputs": [],
   "source": [
    "import pickle\n",
    "import requests\n",
    "from bs4 import BeautifulSoup as bs\n",
    "import time\n",
    "from selenium import webdriver\n",
    "import re"
   ]
  },
  {
   "cell_type": "code",
   "execution_count": 263,
   "id": "d1a82da6",
   "metadata": {},
   "outputs": [],
   "source": [
    "def makeNaverDicUrl(word):\n",
    "    return 'https://en.dict.naver.com/#/search?query={}'.format(word)"
   ]
  },
  {
   "cell_type": "code",
   "execution_count": 277,
   "id": "e589936f",
   "metadata": {},
   "outputs": [],
   "source": [
    "#페이지가 로드된 후에 html이 그려져서 selenium없이는 아무것도 크롤링 x\n",
    "def getSoupWithSelenium(driver,url):\n",
    "    driver.get(url)\n",
    "    time.sleep(2)\n",
    "    pageSource = driver.page_source\n",
    "    bsObj =  bs(pageSource,'html.parser')\n",
    "    aTag = bsObj.select('#searchPage_entry > div > div:nth-child(1) > div.origin > a')\n",
    "    hashValue = aTag[0].attrs['href']\n",
    "    return hashValue"
   ]
  },
  {
   "cell_type": "code",
   "execution_count": 295,
   "id": "a156111a",
   "metadata": {},
   "outputs": [],
   "source": [
    "def presetationDic(dic):\n",
    "    keys = list(dic.keys())\n",
    "    for key in keys[:10]:\n",
    "        print(dic[key])\n",
    "    print('...')\n",
    "    print('총 {}개의 hash url'.format(len(keys)))"
   ]
  },
  {
   "cell_type": "markdown",
   "id": "8116a8c4",
   "metadata": {},
   "source": [
    "\n",
    "# axios hash url"
   ]
  },
  {
   "cell_type": "code",
   "execution_count": 278,
   "id": "c4b9ea76",
   "metadata": {},
   "outputs": [],
   "source": [
    "f = open('../../data/words/axios.pkl','rb')\n",
    "words = pickle.load(f)"
   ]
  },
  {
   "cell_type": "code",
   "execution_count": 279,
   "id": "4daa7c3f",
   "metadata": {},
   "outputs": [],
   "source": [
    "driver = webdriver.Chrome('/Users/jeong-youseock/Downloads/chromedriver')\n",
    "driver.implicitly_wait(3)\n",
    "hashDic = {}\n",
    "for word in words:\n",
    "    time.sleep(1)\n",
    "    url = makeNaverDicUrl(word)\n",
    "    hashValue = getSoupWithSelenium(driver,url)\n",
    "    hashDic[word] = hashValue"
   ]
  },
  {
   "cell_type": "code",
   "execution_count": 296,
   "id": "448f053f",
   "metadata": {},
   "outputs": [
    {
     "name": "stdout",
     "output_type": "stream",
     "text": [
      "#/entry/enko/33b07f989b7d4536b575afd4b7302291\n",
      "#/entry/enko/7b06e94f9d324e738ee2d0e3d3e6ca97\n",
      "#/entry/enko/1db4a7511a414601bb7fc0f239c7c16d\n",
      "#/entry/enko/66816ff96e034c9e8c729d68ad1691b4\n",
      "#/entry/enko/b97133d6dc6140a597a86066c4cbb391\n",
      "#/entry/enko/f8d1d583432b42189254a16bc586ec7b\n",
      "#/entry/enko/2b85bc891f354dc09767149bb16a0633\n",
      "#/entry/enko/4abd45fbde944c61ae17e03671d49974\n",
      "#/entry/enko/d68af7093da44397ad5ee4e9eb135715\n",
      "#/entry/enko/cc4b44f5fe8a4bc7a792f94028211b66\n",
      "...\n",
      "총 175개의 hash url\n"
     ]
    }
   ],
   "source": [
    "presetationDic(hashDic)"
   ]
  },
  {
   "cell_type": "code",
   "execution_count": 297,
   "id": "12ddf2d8",
   "metadata": {},
   "outputs": [],
   "source": [
    "f = open('../../data/hashUrl/axios.pkl','wb')\n",
    "pickle.dump(hashDic, f)\n",
    "f.close()"
   ]
  },
  {
   "cell_type": "markdown",
   "id": "9737b2b8",
   "metadata": {},
   "source": []
  }
 ],
 "metadata": {
  "kernelspec": {
   "display_name": "Python 3.8.10 64-bit ('mlp': conda)",
   "language": "python",
   "name": "python3810jvsc74a57bd0ce52bf728390bdc3e82d628f52f7f321bd0929be221c9428aa5f31873b71f1ee"
  },
  "language_info": {
   "codemirror_mode": {
    "name": "ipython",
    "version": 3
   },
   "file_extension": ".py",
   "mimetype": "text/x-python",
   "name": "python",
   "nbconvert_exporter": "python",
   "pygments_lexer": "ipython3",
   "version": "3.8.10"
  }
 },
 "nbformat": 4,
 "nbformat_minor": 5
}
