{
 "cells": [
  {
   "cell_type": "code",
   "execution_count": 322,
   "id": "ef0b0005",
   "metadata": {},
   "outputs": [],
   "source": [
    "import pickle\n",
    "import requests\n",
    "from bs4 import BeautifulSoup as bs\n",
    "import time\n",
    "from tqdm import tqdm\n",
    "import re"
   ]
  },
  {
   "cell_type": "code",
   "execution_count": 326,
   "id": "d1a82da6",
   "metadata": {},
   "outputs": [],
   "source": [
    "def genUrl(hashUrl):\n",
    "    return 'https://en.dict.naver.com/{}'.format(hashUrl)"
   ]
  },
  {
   "cell_type": "code",
   "execution_count": 407,
   "id": "e589936f",
   "metadata": {},
   "outputs": [],
   "source": [
    "#selenium 이용\n",
    "def getSoupWithSelenium(driver,url):\n",
    "    driver.get(url)\n",
    "    time.sleep(10)\n",
    "    pageSource = driver.page_source\n",
    "    bsObj =  bs(pageSource,'html.parser')\n",
    "    return hashValue"
   ]
  },
  {
   "cell_type": "code",
   "execution_count": 375,
   "id": "a156111a",
   "metadata": {},
   "outputs": [],
   "source": [
    "def presetationDic(dic):\n",
    "    keys = list(dic.keys())\n",
    "    for key in keys[:10]:\n",
    "        print(dic[key])\n",
    "    print('...')\n",
    "    print('총 {}개의 hash url'.format(len(keys)))"
   ]
  },
  {
   "cell_type": "code",
   "execution_count": 376,
   "id": "0f943189",
   "metadata": {},
   "outputs": [],
   "source": [
    "f = open('../../data/hashUrl/axios.pkl','rb')\n",
    "hashdic = pickle.load(f)"
   ]
  },
  {
   "cell_type": "code",
   "execution_count": 408,
   "id": "4effa276",
   "metadata": {},
   "outputs": [],
   "source": [
    "driver = webdriver.Chrome('/Users/jeong-youseock/Downloads/chromedriver')\n",
    "driver.implicitly_wait(3)\n",
    "for word,hashUrl in hashdic.items():\n",
    "    url = genUrl(hashUrl)\n",
    "    soup = getSoupWithSelenium(driver,url)\n",
    "    break"
   ]
  },
  {
   "cell_type": "code",
   "execution_count": 311,
   "id": "e854bf4e",
   "metadata": {},
   "outputs": [],
   "source": [
    "categcategoriesorys = ['axios','next','reactQuery','reactHookForm','styledComponent','recoil','tailwind','reactRouter','reactRedux','react']"
   ]
  },
  {
   "cell_type": "code",
   "execution_count": 312,
   "id": "1a242cf2",
   "metadata": {},
   "outputs": [
    {
     "data": {
      "text/plain": [
       "10"
      ]
     },
     "execution_count": 312,
     "metadata": {},
     "output_type": "execute_result"
    }
   ],
   "source": [
    "for category in categories:\n",
    "    f = open('../../data/hashUrl/{}.pkl','rb'.format(category))\n",
    "    hashdic = pickle.load(f)\n",
    "    for word,hashUrl in hashdic.items():\n",
    "        url = makeNaverDicUrl(hashUrl)\n",
    "        soup = htmlTosoup(url)\n",
    "        break\n"
   ]
  },
  {
   "cell_type": "code",
   "execution_count": 333,
   "id": "aac86993",
   "metadata": {},
   "outputs": [
    {
     "data": {
      "text/plain": [
       "[<body class=\"is-scrollmode\"></body>]"
      ]
     },
     "execution_count": 333,
     "metadata": {},
     "output_type": "execute_result"
    }
   ],
   "source": [
    "soup.select('body')"
   ]
  },
  {
   "cell_type": "code",
   "execution_count": 351,
   "id": "0302727d",
   "metadata": {},
   "outputs": [
    {
     "data": {
      "text/plain": [
       "'other'"
      ]
     },
     "execution_count": 351,
     "metadata": {},
     "output_type": "execute_result"
    }
   ],
   "source": [
    "word"
   ]
  },
  {
   "cell_type": "code",
   "execution_count": 416,
   "id": "5b56f1b4",
   "metadata": {},
   "outputs": [
    {
     "data": {
      "text/plain": [
       "[<p class=\"gnb_account\"><span class=\"gnb_name\" id=\"gnb_name2\"><a class=\"gnb_nick\" href=\"https://nid.naver.com/user2/api/naverProfile?m=checkIdType\">_</a>님</span><a class=\"gnb_btn_login\" href=\"https://nid.naver.com/nidlogin.logout?returl=https%3A%2F%2Fen.dict.naver.com%2F%23%2Fsearch%3Fquery%3Dinstance%26range%3Dall\" id=\"gnb_logout_button\"><span class=\"gnb_bg\"></span><span class=\"gnb_bdr\"></span><span class=\"gnb_txt\">로그아웃</span></a></p>,\n",
       " <p class=\"gnb_membership\" id=\"gnb_membership\" style=\"display: none;\"><a class=\"gnb_my_membership\" href=\"https://nid.naver.com/membership/my\"><i class=\"blind\">네이버 멤버쉽</i></a></p>,\n",
       " <p class=\"gnb_msg\"><strong>알림을 모두 삭제하시겠습니까?</strong></p>,\n",
       " <p class=\"Ntit\">인기</p>,\n",
       " <p class=\"Ntit\">아시아/아프리카</p>,\n",
       " <p class=\"Ntit\">유럽/아메리카</p>,\n",
       " <p class=\"Ntit\">영어-외국어</p>,\n",
       " <p class=\"Ntit\">학습/번역 서비스</p>,\n",
       " <p class=\"Ntit\">이용자 참여 서비스</p>,\n",
       " <p class=\"Ntit Nblind\">바로가기</p>,\n",
       " <p class=\"desc\">Oxford3000<sup>TM</sup> 중요 어휘 목록에 속하는 단어입니다.</p>,\n",
       " <p class=\"mean\" lang=\"ko\">\n",
       " <span class=\"word_class\">명사 </span>\n",
       " \t\t\t\t\t\t\t\t\t\t\t\t\t\t사례, 경우 \n",
       " \t\t\t\t\t\t\t\t\t\t\t\t\t</p>,\n",
       " <p class=\"mean\" lang=\"ko\">\n",
       " <span class=\"word_class\">동사 </span>\n",
       " <span class=\"mark\">격식 </span>\n",
       " \t\t\t\t\t\t\t\t\t\t\t\t\t\t…을 예로 들다 \n",
       " \t\t\t\t\t\t\t\t\t\t\t\t\t</p>,\n",
       " <p class=\"_sensitiveWord\"></p>,\n",
       " <p class=\"mean\" lang=\"ko\">\n",
       " \t\t\t\t\t\t\t\t\t\t\t\t\t\t예를 들어 \n",
       " \t\t\t\t\t\t\t\t\t\t\t\t\t</p>,\n",
       " <p class=\"_sensitiveWord\"></p>,\n",
       " <p class=\"mean\" lang=\"ko\">\n",
       " \t\t\t\t\t\t\t\t\t\t\t\t\t\t우선 먼저 \n",
       " \t\t\t\t\t\t\t\t\t\t\t\t\t</p>,\n",
       " <p class=\"_sensitiveWord\"></p>,\n",
       " <p class=\"mean\" lang=\"ko\">\n",
       " \t\t\t\t\t\t\t\t\t\t\t\t\t\t제1심 법원 \n",
       " \t\t\t\t\t\t\t\t\t\t\t\t\t</p>,\n",
       " <p class=\"_sensitiveWord\"></p>,\n",
       " <p class=\"mean\" lang=\"ko\">\n",
       " \t\t\t\t\t\t\t\t\t\t\t\t\t\t마땅한 예 \n",
       " \t\t\t\t\t\t\t\t\t\t\t\t\t</p>,\n",
       " <p class=\"_sensitiveWord\"></p>,\n",
       " <p class=\"mean\" lang=\"en\">\n",
       " \t\t\t\t\t\t\t\t\t\t\t\t\t\t\tillustration example, <strong class=\"highlight\">instance</strong>, case, \n",
       " \t\t\t\t\t\t\t\t\t\t\t\t\t\t</p>,\n",
       " <p class=\"mean\" lang=\"en\">\n",
       " \t\t\t\t\t\t\t\t\t\t\t\t\t\t\texample, <strong class=\"highlight\">instance</strong>, case; (전례, 선례) precedent \n",
       " \t\t\t\t\t\t\t\t\t\t\t\t\t\t</p>,\n",
       " <p class=\"mean\" lang=\"en\">\n",
       " \t\t\t\t\t\t\t\t\t\t\t\t\t\t\texample (of), <strong class=\"highlight\">instance</strong> (of), a case in point \n",
       " \t\t\t\t\t\t\t\t\t\t\t\t\t\t</p>,\n",
       " <p class=\"mean\" lang=\"en\">\n",
       " <span class=\"mark\">전력 </span>\n",
       " <strong class=\"highlight\">instance</strong>\n",
       " </p>,\n",
       " <p class=\"source\">KEPIC(전력산업기술기준) 용어집 </p>,\n",
       " <p class=\"desc\">\n",
       " \t\t\t\t\t\t\t\t\t\t\t\t\t\t웹 페이지에서 수집한 단어로 정확하지 않은 정보가 포함되어 있을 수 있습니다.\n",
       " \t\t\t\t\t\t\t\t\t\t\t\t\t</p>,\n",
       " <p class=\"mean\" lang=\"en\">\n",
       " <strong class=\"highlight\">instance</strong>\n",
       " </p>,\n",
       " <p class=\"source\">한국정보화진흥원(NIA), 한국전자통신연구원(ETRI) </p>,\n",
       " <p class=\"desc\">\n",
       " <em class=\"tips\"></em>\n",
       " \t\t\t\t\t\t\t\t\t\t\t이용자들이 직접 등록한 단어로 일부 정확하지 않은 정보가 포함될 수 있습니다.\n",
       " \t\t\t\t\t\t\t\t\t\t</p>,\n",
       " <p class=\"mean\" lang=\"ko\">\n",
       " \t\t\t\t\t\t\t\t\t\t\t\t\t\t~을 예로 들어보자 \n",
       " \t\t\t\t\t\t\t\t\t\t\t\t\t</p>,\n",
       " <p class=\"_sensitiveWord\"></p>,\n",
       " <p class=\"mean\" lang=\"ko\">\n",
       " \t\t\t\t\t\t\t\t\t\t\t\t\t\t1심 \n",
       " \t\t\t\t\t\t\t\t\t\t\t\t\t</p>,\n",
       " <p class=\"mean\" lang=\"ko\">\n",
       " \t\t\t\t\t\t\t\t\t\t\t\t\t\tGoldberg(1995)에 제시된 구문 사이의 상속 연결 가운데 한 개념. \n",
       " \t\t\t\t\t\t\t\t\t\t\t\t\t</p>,\n",
       " <p class=\"mean\" lang=\"ko\">\n",
       " \t\t\t\t\t\t\t\t\t\t\t\t\t\t각기 다른 경우, 별개의 사례 \n",
       " \t\t\t\t\t\t\t\t\t\t\t\t\t</p>,\n",
       " <p class=\"_sensitiveWord\"></p>,\n",
       " <p class=\"p_result_limit _openproEntryPaginateTip\" style=\"display:none;\">\n",
       " \t\t\t\t\t결과는 2,000건까지만 제공하고 있습니다. <br/>\n",
       " \t\t\t\t\t원하시는 단어가 없으시면 <strong>검색 기능</strong>으로 찾아보세요.\n",
       " \t\t\t\t</p>,\n",
       " <p class=\"title\">예문 발음듣기 설정하기</p>,\n",
       " <p class=\"desc\">\n",
       " \t\t\t\t\t\t\t\t\t\t\t\t나에게 맞는 TTS 발음 속도, 횟수, 목소리를 설정해 보세요.\n",
       " \t\t\t\t\t\t\t\t            </p>,\n",
       " <p class=\"text\" lang=\"ko\">\n",
       " \t\t\t\t\t\t\t\t\t\t이런 일이 있었던 사례를 하나 들어 볼 수 있어요?\n",
       " \t\t\t\t\t\t\t\t\t\t\n",
       " \t\t\t\t\t\t\t\t\t</p>,\n",
       " <p class=\"text\" lang=\"ko\">\n",
       " \t\t\t\t\t\t\t\t\t\t보통의 경우라면 내가 일을 쉬는 시간을 가지라고 제안하겠지만 이 경우에는 그것이 무슨 도움이 될지 모르겠다.\n",
       " \t\t\t\t\t\t\t\t\t\t\n",
       " \t\t\t\t\t\t\t\t\t</p>,\n",
       " <p class=\"text\" lang=\"ko\">\n",
       " \t\t\t\t\t\t\t\t\t\t예를 들어 직원 중 한 명이 도둑질을 하는 것을 발견하게 되면 어떻게 하시겠어요?\n",
       " \t\t\t\t\t\t\t\t\t\t\n",
       " \t\t\t\t\t\t\t\t\t</p>,\n",
       " <p class=\"text\" lang=\"ko\">\n",
       " \t\t\t\t\t\t\t\t\t\t우선 먼저, 경찰에 알리고 당신의[당신이 보험을 든] 보험사에 연락을 하라.\n",
       " \t\t\t\t\t\t\t\t\t\t\n",
       " \t\t\t\t\t\t\t\t\t</p>,\n",
       " <p class=\"text\" lang=\"ko\">\n",
       " \t\t\t\t\t\t\t\t\t\t예를 들면, 우리는 이번 금요일까지 과제를 마무리해야 합니다.\n",
       " \t\t\t\t\t\t\t\t\t\t\n",
       " \t\t\t\t\t\t\t\t\t</p>,\n",
       " <p class=\"origin\" lang=\"ko\">\n",
       " <span class=\"text\" lang=\"ko\">뭐라고, 예를 들어봐 뭐 있는데?</span>\n",
       " </p>,\n",
       " <p class=\"translate is-audible\" lang=\"en\">\n",
       " <span class=\"text\" lang=\"en\">What? For <strong class=\"highlight\">instance</strong>?</span>\n",
       " <span class=\"unit_listen my_old_pron_area\" style=\"display: none;\">\n",
       " <button audioid=\"tts\" class=\"btn_listen tts ico_pron _double_play\" encode=\"What%3F+For+instance%3F\" nclk=\"vli.tts\" title=\"TTS\" tts=\"nvoice\" type=\"button\" vcode=\"296907\">발음듣기</button>\n",
       " <button aria-label=\"tts듣기\" audioid=\"tts\" class=\"btn_repeat _repeat_play\" data-page=\"search\" encode=\"What%3F+For+instance%3F\" tts=\"nvoice\" type=\"button\" vcode=\"296907\">반복듣기</button>\n",
       " </span>\n",
       " </p>,\n",
       " <p class=\"subject\"><em class=\"channel\">TWICE</em> : 안녕 원스  </p>,\n",
       " <p class=\"origin\" lang=\"ko\">\n",
       " <span class=\"text\" lang=\"ko\">이렇게 하고 찍는다든가.</span>\n",
       " </p>,\n",
       " <p class=\"translate is-audible\" lang=\"en\">\n",
       " <span class=\"text\" lang=\"en\">Like this, for <strong class=\"highlight\">instance</strong>.</span>\n",
       " <span class=\"unit_listen my_old_pron_area\" style=\"display: none;\">\n",
       " <button audioid=\"tts\" class=\"btn_listen tts ico_pron _double_play\" encode=\"Like+this%2C+for+instance.\" nclk=\"vli.tts\" title=\"TTS\" tts=\"nvoice\" type=\"button\" vcode=\"191622\">발음듣기</button>\n",
       " <button aria-label=\"tts듣기\" audioid=\"tts\" class=\"btn_repeat _repeat_play\" data-page=\"search\" encode=\"Like+this%2C+for+instance.\" tts=\"nvoice\" type=\"button\" vcode=\"191622\">반복듣기</button>\n",
       " </span>\n",
       " </p>,\n",
       " <p class=\"subject\"><em class=\"channel\">V MOVIE</em> : &lt;국가대표2&gt; 스팟라이브  </p>,\n",
       " <p class=\"origin\" lang=\"ko\">\n",
       " <span class=\"text\" lang=\"ko\">예를 들어 요리?</span>\n",
       " </p>,\n",
       " <p class=\"translate is-audible\" lang=\"en\">\n",
       " <span class=\"text\" lang=\"en\">For <strong class=\"highlight\">instance</strong>, cooking.</span>\n",
       " <span class=\"unit_listen my_old_pron_area\" style=\"display: none;\">\n",
       " <button audioid=\"tts\" class=\"btn_listen tts ico_pron _double_play\" encode=\"For+instance%2C+cooking.\" nclk=\"vli.tts\" title=\"TTS\" tts=\"nvoice\" type=\"button\" vcode=\"645849\">발음듣기</button>\n",
       " <button aria-label=\"tts듣기\" audioid=\"tts\" class=\"btn_repeat _repeat_play\" data-page=\"search\" encode=\"For+instance%2C+cooking.\" tts=\"nvoice\" type=\"button\" vcode=\"645849\">반복듣기</button>\n",
       " </span>\n",
       " </p>,\n",
       " <p class=\"subject\"><em class=\"channel\">OSEN</em> : TWICE 트와이스 'Star Road' EP.19 다현 인터뷰  </p>,\n",
       " <p class=\"origin\" lang=\"ko\">\n",
       " <span class=\"text\" lang=\"ko\">예를 들면...   - 댄스타임!</span>\n",
       " </p>,\n",
       " <p class=\"translate is-audible\" lang=\"en\">\n",
       " <span class=\"text\" lang=\"en\">For <strong class=\"highlight\">instance</strong>. - Dance time!</span>\n",
       " <span class=\"unit_listen my_old_pron_area\" style=\"display: none;\">\n",
       " <button audioid=\"tts\" class=\"btn_listen tts ico_pron _double_play\" encode=\"For+instance.+-+Dance+time%21\" nclk=\"vli.tts\" title=\"TTS\" tts=\"nvoice\" type=\"button\" vcode=\"614807\">발음듣기</button>\n",
       " <button aria-label=\"tts듣기\" audioid=\"tts\" class=\"btn_repeat _repeat_play\" data-page=\"search\" encode=\"For+instance.+-+Dance+time%21\" tts=\"nvoice\" type=\"button\" vcode=\"614807\">반복듣기</button>\n",
       " </span>\n",
       " </p>,\n",
       " <p class=\"subject\"><em class=\"channel\">GOT7</em> : [FULL] Mnet '갓세븐의 하드캐리2' 5화 (GOT7 'HARD CARRY 2' ep.5)  </p>,\n",
       " <p class=\"origin\" lang=\"ko\">\n",
       " <span class=\"text\" lang=\"ko\">예를 들면 그런 것도 있잖아요.</span>\n",
       " </p>,\n",
       " <p class=\"translate is-audible\" lang=\"en\">\n",
       " <span class=\"text\" lang=\"en\">but for <strong class=\"highlight\">instance</strong>, there's this.</span>\n",
       " <span class=\"unit_listen my_old_pron_area\" style=\"display: none;\">\n",
       " <button audioid=\"tts\" class=\"btn_listen tts ico_pron _double_play\" encode=\"but+for+instance%2C+there%27s+this.\" nclk=\"vli.tts\" title=\"TTS\" tts=\"nvoice\" type=\"button\" vcode=\"909874\">발음듣기</button>\n",
       " <button aria-label=\"tts듣기\" audioid=\"tts\" class=\"btn_repeat _repeat_play\" data-page=\"search\" encode=\"but+for+instance%2C+there%27s+this.\" tts=\"nvoice\" type=\"button\" vcode=\"909874\">반복듣기</button>\n",
       " </span>\n",
       " </p>,\n",
       " <p class=\"subject\"><em class=\"channel\">JBJ95</em> : [#지금하95] 켄타켄타켄타켄타켄타켄타  </p>,\n",
       " <p class=\"mean\" lang=\"ko\">\n",
       " \t\t\t\t\t\t\t\t\t\t\t\t명명하다, …에 이름을 붙이다 \n",
       " \t\t\t\t\t\t\t\t\t\t\t</p>,\n",
       " <p class=\"mean\" lang=\"ko\">\n",
       " \t\t\t\t\t\t\t\t\t\t\t\tthere was not a single instance of religious persecution. \n",
       " \t\t\t\t\t\t\t\t\t\t\t</p>,\n",
       " <p class=\"mean\" lang=\"ko\">\n",
       " \t\t\t\t\t\t\t\t\t\t\t\tcriminal investigations are conducted by the police in the first instance. \n",
       " \t\t\t\t\t\t\t\t\t\t\t</p>,\n",
       " <p class=\"spi_dsc\">Keep에 저장되었습니다.</p>,\n",
       " <p class=\"spi_dsc\">이미 Keep에 저장되었습니다.<br/>목록에서 확인하시겠습니까?<br/> <a class=\"_ly_keep_lnk spi_impact\" href=\"#\" onclick=\"return false;\">Keep 목록 가기</a> </p>,\n",
       " <p class=\"spi_dsc\">서버 접속이 원활하지 않습니다.<br/> 잠시 후 다시 시도해 주십시오.</p>,\n",
       " <p class=\"spi_dsc\">북마크 서비스 점검 중으로,<br/>현재 북마크 읽기만 가능하오니<br/>이용에 참고해 주시기 바랍니다.</p>,\n",
       " <p class=\"_ly_pop spi_dsc\">이 __feed_info__ 마음에 드셨다면<br/><a class=\"_ly_pop_lnk _ly_pop spi_impact\" href=\"http://me.naver.com/\" target=\"_blank\">네이버 MY구독</a>에서 편하게 받아보세요.</p>,\n",
       " <p class=\"non_keyword\" style=\"display:none;\">내가 찾은 단어가 없습니다</p>,\n",
       " <p class=\"txt\">\n",
       " \t\t\t\t\t\t\t\t한 폴더에 단어를 최대 10,000개까지 저장할 수 있습니다. 그 이상 저장할 경우 오래된 단어부터 자동으로 삭제됩니다.\n",
       " \t\t\t\t\t\t\t</p>,\n",
       " <p></p>,\n",
       " <p class=\"desc\">단어장 이용약관에 동의하신 후 이용이 가능합니다.</p>,\n",
       " <p class=\"notice\">\n",
       " \t\t\t\t\t\t\t단어가 저장되었습니다.\n",
       " \t\t\t\t\t\t</p>,\n",
       " <p>특정 대상을 차별/비하하는 의미가 포함되어 있을 수 있습니다.</p>]"
      ]
     },
     "execution_count": 416,
     "metadata": {},
     "output_type": "execute_result"
    }
   ],
   "source": [
    "bsObj.select('p')\n",
    "# a.head >h3:nth-child(1) > span')"
   ]
  },
  {
   "cell_type": "code",
   "execution_count": 406,
   "id": "72be4de1",
   "metadata": {},
   "outputs": [
    {
     "data": {
      "text/plain": [
       "'https://en.dict.naver.com/#/entry/enko/33b07f989b7d4536b575afd4b7302291'"
      ]
     },
     "execution_count": 406,
     "metadata": {},
     "output_type": "execute_result"
    }
   ],
   "source": [
    "url"
   ]
  },
  {
   "cell_type": "code",
   "execution_count": null,
   "id": "d318dc17",
   "metadata": {},
   "outputs": [],
   "source": [
    "#content > div.section.section_entry._section_entry > div > div.entry_mean"
   ]
  }
 ],
 "metadata": {
  "kernelspec": {
   "display_name": "Python 3.8.10 64-bit ('mlp': conda)",
   "language": "python",
   "name": "python3810jvsc74a57bd0ce52bf728390bdc3e82d628f52f7f321bd0929be221c9428aa5f31873b71f1ee"
  },
  "language_info": {
   "codemirror_mode": {
    "name": "ipython",
    "version": 3
   },
   "file_extension": ".py",
   "mimetype": "text/x-python",
   "name": "python",
   "nbconvert_exporter": "python",
   "pygments_lexer": "ipython3",
   "version": "3.8.10"
  }
 },
 "nbformat": 4,
 "nbformat_minor": 5
}
