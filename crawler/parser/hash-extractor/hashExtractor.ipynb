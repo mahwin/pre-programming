{
 "cells": [
  {
   "cell_type": "code",
   "execution_count": 1,
   "id": "49409ed4",
   "metadata": {},
   "outputs": [],
   "source": [
    "import pickle\n",
    "import requests\n",
    "from bs4 import BeautifulSoup as bs\n",
    "import time\n",
    "from selenium import webdriver\n",
    "from tqdm import tqdm\n",
    "import re"
   ]
  },
  {
   "cell_type": "code",
   "execution_count": 2,
   "id": "3a72b9f6",
   "metadata": {},
   "outputs": [],
   "source": [
    "def makeNaverDicUrl(word):\n",
    "    return 'https://en.dict.naver.com/#/search?query={}'.format(word)"
   ]
  },
  {
   "cell_type": "code",
   "execution_count": 34,
   "id": "4bda456c",
   "metadata": {},
   "outputs": [],
   "source": [
    "#페이지가 로드된 후에 html이 그려져서 selenium없이는 아무것도 크롤링 x\n",
    "def getSoupWithSelenium(driver,url):\n",
    "    driver.get(url)\n",
    "    time.sleep(1)\n",
    "    pageSource = driver.page_source\n",
    "    bsObj =  bs(pageSource,'html.parser')\n",
    "    try:\n",
    "        aTag = bsObj.select('#searchPage_entry > div > div:nth-child(1) > div.origin > a')\n",
    "        hashValue = aTag[0].attrs['href']\n",
    "    except:\n",
    "        currentUrl = driver.current_url\n",
    "        hashValue = currentUrl.split('.com/')[-1]\n",
    "    return hashValue"
   ]
  },
  {
   "cell_type": "code",
   "execution_count": 4,
   "id": "4925e641",
   "metadata": {},
   "outputs": [],
   "source": [
    "def presentationDic(dic):\n",
    "    keys = list(dic.keys())\n",
    "    for key in keys[:10]:\n",
    "        print(dic[key])\n",
    "    print('...')\n",
    "    print('총 {}개의 hash url'.format(len(keys)))"
   ]
  },
  {
   "cell_type": "markdown",
   "id": "0155ea19",
   "metadata": {},
   "source": [
    "\n",
    "# axios hash url"
   ]
  },
  {
   "cell_type": "code",
   "execution_count": 5,
   "id": "469b6198",
   "metadata": {},
   "outputs": [],
   "source": [
    "f = open('../../data/words/axios.pkl','rb')\n",
    "words = pickle.load(f)"
   ]
  },
  {
   "cell_type": "code",
   "execution_count": 6,
   "id": "ed4e222a",
   "metadata": {},
   "outputs": [
    {
     "name": "stderr",
     "output_type": "stream",
     "text": [
      "100%|██████████| 175/175 [09:30<00:00,  3.26s/it]\n"
     ]
    }
   ],
   "source": [
    "driver = webdriver.Chrome('/Users/jeong-youseock/Downloads/chromedriver')\n",
    "driver.implicitly_wait(3)\n",
    "hashDic = {}\n",
    "for word in tqdm(words):\n",
    "    time.sleep(1)\n",
    "    url = makeNaverDicUrl(word)\n",
    "    hashValue = getSoupWithSelenium(driver,url)\n",
    "    hashDic[word] = hashValue"
   ]
  },
  {
   "cell_type": "code",
   "execution_count": 7,
   "id": "c9399664",
   "metadata": {},
   "outputs": [
    {
     "name": "stdout",
     "output_type": "stream",
     "text": [
      "#/entry/enko/33b07f989b7d4536b575afd4b7302291\n",
      "#/entry/enko/7b06e94f9d324e738ee2d0e3d3e6ca97\n",
      "#/entry/enko/1db4a7511a414601bb7fc0f239c7c16d\n",
      "#/entry/enko/66816ff96e034c9e8c729d68ad1691b4\n",
      "#/entry/enko/b97133d6dc6140a597a86066c4cbb391\n",
      "#/entry/enko/f8d1d583432b42189254a16bc586ec7b\n",
      "#/entry/enko/2b85bc891f354dc09767149bb16a0633\n",
      "#/entry/enko/4abd45fbde944c61ae17e03671d49974\n",
      "#/entry/enko/d68af7093da44397ad5ee4e9eb135715\n",
      "#/entry/enko/cc4b44f5fe8a4bc7a792f94028211b66\n",
      "...\n",
      "총 175개의 hash url\n"
     ]
    }
   ],
   "source": [
    "presentationDic(hashDic)"
   ]
  },
  {
   "cell_type": "code",
   "execution_count": 8,
   "id": "9c9380a1",
   "metadata": {},
   "outputs": [],
   "source": [
    "f = open('../../data/hashUrl/axios.pkl','wb')\n",
    "pickle.dump(hashDic, f)\n",
    "f.close()"
   ]
  },
  {
   "cell_type": "markdown",
   "id": "324b1757",
   "metadata": {},
   "source": [
    "\n",
    "# next hash url"
   ]
  },
  {
   "cell_type": "code",
   "execution_count": 9,
   "id": "9dbc7745",
   "metadata": {},
   "outputs": [],
   "source": [
    "f = open('../../data/words/next.pkl','rb')\n",
    "words = pickle.load(f)"
   ]
  },
  {
   "cell_type": "code",
   "execution_count": 35,
   "id": "617b7c64",
   "metadata": {},
   "outputs": [
    {
     "name": "stderr",
     "output_type": "stream",
     "text": [
      "100%|██████████| 1331/1331 [37:15<00:00,  1.68s/it]\n"
     ]
    }
   ],
   "source": [
    "driver = webdriver.Chrome('/Users/jeong-youseock/Downloads/chromedriver')\n",
    "driver.implicitly_wait(3)\n",
    "hashDic = {}\n",
    "for word in tqdm(words):\n",
    "    url = makeNaverDicUrl(word)\n",
    "    hashValue = getSoupWithSelenium(driver,url)\n",
    "    hashDic[word] = hashValue"
   ]
  },
  {
   "cell_type": "code",
   "execution_count": 37,
   "id": "d23c25e8",
   "metadata": {},
   "outputs": [
    {
     "name": "stdout",
     "output_type": "stream",
     "text": [
      "#/entry/enko/81693d2bcdae41debdb91a0a17626b82\n",
      "#/entry/enko/bd49ea080cac450191b2fd9bbe07b1bb\n",
      "#/entry/enko/8f29bf0d5b1b41e1bdbd0590f30a2bb1\n",
      "#/entry/enko/29a0927d93fa4f71b3873a3339ab8725\n",
      "#/entry/enko/a56f26b1d04f46d49bb119de4f406861\n",
      "#/entry/enko/f57003c67f9f4dec8df9e56718349315\n",
      "#/entry/enko/5ff73075e6974c3d8294788bf490eea6\n",
      "#/entry/enko/e0034163c9164200b9b3d4f928c61b99\n",
      "#/entry/enko/c2fd87c4493c4910b4486dbd6a998e50\n",
      "#/entry/enko/6c0a8dc10ae34270a7df9d7e57188b9b\n",
      "...\n",
      "총 1331개의 hash url\n"
     ]
    }
   ],
   "source": [
    "presentationDic(hashDic)"
   ]
  },
  {
   "cell_type": "code",
   "execution_count": 38,
   "id": "43aed16d",
   "metadata": {},
   "outputs": [],
   "source": [
    "f = open('../../data/hashUrl/next.pkl','wb')\n",
    "pickle.dump(hashDic, f)\n",
    "f.close()"
   ]
  },
  {
   "cell_type": "markdown",
   "id": "8d49acf4",
   "metadata": {},
   "source": [
    "\n",
    "# react-redux hash url"
   ]
  },
  {
   "cell_type": "code",
   "execution_count": 41,
   "id": "1f8ff264",
   "metadata": {},
   "outputs": [],
   "source": [
    "f = open('../../data/words/reactRedux.pkl','rb')\n",
    "words = pickle.load(f)"
   ]
  },
  {
   "cell_type": "code",
   "execution_count": 42,
   "id": "974b2e58",
   "metadata": {},
   "outputs": [
    {
     "name": "stderr",
     "output_type": "stream",
     "text": [
      "100%|██████████| 630/630 [13:21<00:00,  1.27s/it]\n"
     ]
    }
   ],
   "source": [
    "driver = webdriver.Chrome('/Users/jeong-youseock/Downloads/chromedriver')\n",
    "driver.implicitly_wait(3)\n",
    "hashDic = {}\n",
    "for word in tqdm(words):\n",
    "    url = makeNaverDicUrl(word)\n",
    "    hashValue = getSoupWithSelenium(driver,url)\n",
    "    hashDic[word] = hashValue"
   ]
  },
  {
   "cell_type": "code",
   "execution_count": 43,
   "id": "7f37bf53",
   "metadata": {},
   "outputs": [
    {
     "name": "stdout",
     "output_type": "stream",
     "text": [
      "#/entry/enko/460e2b6db43b4b73b56544a3134fd31d\n",
      "#/entry/enko/29a0927d93fa4f71b3873a3339ab8725\n",
      "#/entry/enko/f51b4f3fc5e248b896872912e54dd5a1\n",
      "#/entry/enko/8403b074936c41ec985f44a1bd8121d5\n",
      "#/entry/enko/0ecfe3bfb5424d5d85ad48209dd83a8f\n",
      "#/entry/enko/5ca23050ab4145a182bebdbc9e9ec293\n",
      "#/entry/enko/3561b7886cb748ba8aca3b0c563c1a94\n",
      "#/entry/enko/049abc5d79c24f9aa5e953999c5257d4\n",
      "#/entry/enko/66816ff96e034c9e8c729d68ad1691b4\n",
      "#/entry/enko/d6736fd96a464ed2a57ddf31709daee2\n",
      "...\n",
      "총 630개의 hash url\n"
     ]
    }
   ],
   "source": [
    "presentationDic(hashDic)"
   ]
  },
  {
   "cell_type": "code",
   "execution_count": 44,
   "id": "97e10a87",
   "metadata": {},
   "outputs": [],
   "source": [
    "f = open('../../data/hashUrl/reactRedux.pkl','wb')\n",
    "pickle.dump(hashDic, f)\n",
    "f.close()"
   ]
  },
  {
   "cell_type": "markdown",
   "id": "55b70d1a",
   "metadata": {},
   "source": [
    "\n",
    "# react-hook-form hash url"
   ]
  },
  {
   "cell_type": "code",
   "execution_count": 47,
   "id": "3af53052",
   "metadata": {},
   "outputs": [],
   "source": [
    "f = open('../../data/words/reactHookForm.pkl','rb')\n",
    "words = pickle.load(f)"
   ]
  },
  {
   "cell_type": "code",
   "execution_count": 48,
   "id": "094f58f1",
   "metadata": {},
   "outputs": [
    {
     "name": "stderr",
     "output_type": "stream",
     "text": [
      "100%|██████████| 576/576 [12:07<00:00,  1.26s/it]\n"
     ]
    }
   ],
   "source": [
    "driver = webdriver.Chrome('/Users/jeong-youseock/Downloads/chromedriver')\n",
    "driver.implicitly_wait(3)\n",
    "hashDic = {}\n",
    "for word in tqdm(words):\n",
    "    url = makeNaverDicUrl(word)\n",
    "    hashValue = getSoupWithSelenium(driver,url)\n",
    "    hashDic[word] = hashValue"
   ]
  },
  {
   "cell_type": "code",
   "execution_count": 49,
   "id": "aff3df7b",
   "metadata": {},
   "outputs": [
    {
     "name": "stdout",
     "output_type": "stream",
     "text": [
      "#/entry/enko/db418777d0bd45abb2bc909c460c31d5\n",
      "#/entry/enko/29a0927d93fa4f71b3873a3339ab8725\n",
      "#/entry/enko/e084d2f18bf84984b67e73f05d61a725\n",
      "#/entry/enko/a22dd4afbfac45f289c063ec28d2a609\n",
      "#/entry/enko/afa9825aeeb045c28aca9126b6b5be84\n",
      "#/entry/enko/5ca23050ab4145a182bebdbc9e9ec293\n",
      "#/entry/enko/8403b074936c41ec985f44a1bd8121d5\n",
      "#/entry/enko/33ee7449ce9c4b9bb2c0ba6c7fbb9cf0\n",
      "#/entry/enko/780b282789a6457990f36ace03831cbb\n",
      "#/entry/enko/9e59063851cf491a826a964135b674ab\n",
      "...\n",
      "총 576개의 hash url\n"
     ]
    }
   ],
   "source": [
    "presentationDic(hashDic)"
   ]
  },
  {
   "cell_type": "code",
   "execution_count": 50,
   "id": "e6757be7",
   "metadata": {},
   "outputs": [],
   "source": [
    "f = open('../../data/hashUrl/reactHookForm.pkl','wb')\n",
    "pickle.dump(hashDic, f)\n",
    "f.close()"
   ]
  },
  {
   "cell_type": "markdown",
   "id": "cefc9390",
   "metadata": {},
   "source": [
    "\n",
    "# styled-components hash url"
   ]
  },
  {
   "cell_type": "code",
   "execution_count": 53,
   "id": "7dfad406",
   "metadata": {},
   "outputs": [],
   "source": [
    "f = open('../../data/words/styledComponents.pkl','rb')\n",
    "words = pickle.load(f)"
   ]
  },
  {
   "cell_type": "code",
   "execution_count": 54,
   "id": "d988cba7",
   "metadata": {},
   "outputs": [
    {
     "name": "stderr",
     "output_type": "stream",
     "text": [
      "100%|██████████| 455/455 [09:24<00:00,  1.24s/it]\n"
     ]
    }
   ],
   "source": [
    "driver = webdriver.Chrome('/Users/jeong-youseock/Downloads/chromedriver')\n",
    "driver.implicitly_wait(3)\n",
    "hashDic = {}\n",
    "for word in tqdm(words):\n",
    "    url = makeNaverDicUrl(word)\n",
    "    hashValue = getSoupWithSelenium(driver,url)\n",
    "    hashDic[word] = hashValue"
   ]
  },
  {
   "cell_type": "code",
   "execution_count": 55,
   "id": "2219b62f",
   "metadata": {},
   "outputs": [
    {
     "name": "stdout",
     "output_type": "stream",
     "text": [
      "#/entry/enko/8403b074936c41ec985f44a1bd8121d5\n",
      "#/entry/enko/29a0927d93fa4f71b3873a3339ab8725\n",
      "#/entry/enko/66816ff96e034c9e8c729d68ad1691b4\n",
      "#/entry/enko/871f8d83d70149269c4cdfd8d1048ab4\n",
      "#/entry/enko/3891379d789b4315ade9474d2043b196\n",
      "#/entry/enko/2b85bc891f354dc09767149bb16a0633\n",
      "#/entry/enko/7d07a57cc6d640e697c00bef6cea78af\n",
      "#/entry/enko/786337ec09f34f87be1473820fcef0cd\n",
      "#/entry/enko/a4d1eba3aa8e4f7b9feaddf6230833d6\n",
      "#/entry/enko/ec544e63a41040c88730ab76b884e00e\n",
      "...\n",
      "총 455개의 hash url\n"
     ]
    }
   ],
   "source": [
    "presentationDic(hashDic)"
   ]
  },
  {
   "cell_type": "code",
   "execution_count": 56,
   "id": "287a2d55",
   "metadata": {},
   "outputs": [],
   "source": [
    "f = open('../../data/hashUrl/styledComponents.pkl','wb')\n",
    "pickle.dump(hashDic, f)\n",
    "f.close()"
   ]
  },
  {
   "cell_type": "markdown",
   "id": "f58e9409",
   "metadata": {},
   "source": [
    "\n",
    "# tailwind hash url"
   ]
  },
  {
   "cell_type": "code",
   "execution_count": 57,
   "id": "39779e8c",
   "metadata": {},
   "outputs": [],
   "source": [
    "f = open('../../data/words/tailwind.pkl','rb')\n",
    "words = pickle.load(f)"
   ]
  },
  {
   "cell_type": "code",
   "execution_count": 58,
   "id": "96b5b276",
   "metadata": {},
   "outputs": [
    {
     "name": "stderr",
     "output_type": "stream",
     "text": [
      "100%|██████████| 857/857 [19:19<00:00,  1.35s/it]\n"
     ]
    }
   ],
   "source": [
    "driver = webdriver.Chrome('/Users/jeong-youseock/Downloads/chromedriver')\n",
    "driver.implicitly_wait(3)\n",
    "hashDic = {}\n",
    "for word in tqdm(words):\n",
    "    url = makeNaverDicUrl(word)\n",
    "    hashValue = getSoupWithSelenium(driver,url)\n",
    "    hashDic[word] = hashValue"
   ]
  },
  {
   "cell_type": "code",
   "execution_count": 59,
   "id": "deddd71d",
   "metadata": {},
   "outputs": [
    {
     "name": "stdout",
     "output_type": "stream",
     "text": [
      "#/entry/enko/66816ff96e034c9e8c729d68ad1691b4\n",
      "#/entry/enko/e08b306318b9486f912f795ee3401fc3\n",
      "#/entry/enko/bd49ea080cac450191b2fd9bbe07b1bb\n",
      "#/entry/enko/4f32addfd4c644eab7dc9ff34717b670\n",
      "#/entry/enko/ade6f03075184e538b49f12b639f8fad\n",
      "#/entry/enko/3891379d789b4315ade9474d2043b196\n",
      "#/entry/enko/9e95fe8dccb74484be0f67cf5e3b4f93\n",
      "#/entry/enko/2b85bc891f354dc09767149bb16a0633\n",
      "#/entry/enko/84585be228234822bc832f2b71d63df2\n",
      "#/entry/enko/9299c68376054c7daa93ab171c3bfede\n",
      "...\n",
      "총 857개의 hash url\n"
     ]
    }
   ],
   "source": [
    "presentationDic(hashDic)"
   ]
  },
  {
   "cell_type": "code",
   "execution_count": 60,
   "id": "8e09c322",
   "metadata": {},
   "outputs": [],
   "source": [
    "f = open('../../data/hashUrl/tailwind.pkl','wb')\n",
    "pickle.dump(hashDic, f)\n",
    "f.close()"
   ]
  },
  {
   "cell_type": "markdown",
   "id": "1f8fde28",
   "metadata": {},
   "source": [
    "\n",
    "# recoil hash url"
   ]
  },
  {
   "cell_type": "code",
   "execution_count": 61,
   "id": "ee1ea14a",
   "metadata": {},
   "outputs": [],
   "source": [
    "f = open('../../data/words/recoil.pkl','rb')\n",
    "words = pickle.load(f)"
   ]
  },
  {
   "cell_type": "code",
   "execution_count": 62,
   "id": "6f61383d",
   "metadata": {},
   "outputs": [
    {
     "name": "stderr",
     "output_type": "stream",
     "text": [
      "100%|██████████| 482/482 [10:00<00:00,  1.25s/it]\n"
     ]
    }
   ],
   "source": [
    "driver = webdriver.Chrome('/Users/jeong-youseock/Downloads/chromedriver')\n",
    "driver.implicitly_wait(3)\n",
    "hashDic = {}\n",
    "for word in tqdm(words):\n",
    "\n",
    "    url = makeNaverDicUrl(word)\n",
    "    hashValue = getSoupWithSelenium(driver,url)\n",
    "    hashDic[word] = hashValue"
   ]
  },
  {
   "cell_type": "code",
   "execution_count": 63,
   "id": "63459b0b",
   "metadata": {},
   "outputs": [
    {
     "name": "stdout",
     "output_type": "stream",
     "text": [
      "#/entry/enko/5ca23050ab4145a182bebdbc9e9ec293\n",
      "#/entry/enko/8fc4c3cd34f24a8491e1182f962b356e\n",
      "#/entry/enko/19cd2988ea8049bf99f9952e34cf19eb\n",
      "#/entry/enko/33ee7449ce9c4b9bb2c0ba6c7fbb9cf0\n",
      "#/entry/enko/5f501f61ed124a59902653c8dc5b5fb6\n",
      "#/entry/enko/29a0927d93fa4f71b3873a3339ab8725\n",
      "#/entry/enko/66816ff96e034c9e8c729d68ad1691b4\n",
      "#/entry/enko/8403b074936c41ec985f44a1bd8121d5\n",
      "#/entry/enko/2b85bc891f354dc09767149bb16a0633\n",
      "#/entry/enko/0ecfe3bfb5424d5d85ad48209dd83a8f\n",
      "...\n",
      "총 482개의 hash url\n"
     ]
    }
   ],
   "source": [
    "presentationDic(hashDic)"
   ]
  },
  {
   "cell_type": "code",
   "execution_count": 64,
   "id": "7ea7aa00",
   "metadata": {},
   "outputs": [],
   "source": [
    "f = open('../../data/hashUrl/recoil.pkl','wb')\n",
    "pickle.dump(hashDic, f)\n",
    "f.close()"
   ]
  },
  {
   "cell_type": "markdown",
   "id": "ed6d7465",
   "metadata": {},
   "source": [
    "\n",
    "# react-query hash url"
   ]
  },
  {
   "cell_type": "code",
   "execution_count": 65,
   "id": "81c3c605",
   "metadata": {},
   "outputs": [],
   "source": [
    "f = open('../../data/words/reactQuery.pkl','rb')\n",
    "words = pickle.load(f)"
   ]
  },
  {
   "cell_type": "code",
   "execution_count": 66,
   "id": "0df08269",
   "metadata": {},
   "outputs": [
    {
     "name": "stderr",
     "output_type": "stream",
     "text": [
      "100%|██████████| 433/433 [08:55<00:00,  1.24s/it]\n"
     ]
    }
   ],
   "source": [
    "driver = webdriver.Chrome('/Users/jeong-youseock/Downloads/chromedriver')\n",
    "driver.implicitly_wait(3)\n",
    "hashDic = {}\n",
    "for word in tqdm(words):\n",
    "    url = makeNaverDicUrl(word)\n",
    "    hashValue = getSoupWithSelenium(driver,url)\n",
    "    hashDic[word] = hashValue"
   ]
  },
  {
   "cell_type": "code",
   "execution_count": 67,
   "id": "6bf1bb2b",
   "metadata": {},
   "outputs": [
    {
     "name": "stdout",
     "output_type": "stream",
     "text": [
      "#/entry/enko/faba5ed8829a4f14b2a2ded17f17a0f4\n",
      "#/entry/enko/29a0927d93fa4f71b3873a3339ab8725\n",
      "#/entry/enko/5ca23050ab4145a182bebdbc9e9ec293\n",
      "#/entry/enko/393d580598a34097addb5a561c2c0f95\n",
      "#/entry/enko/124cb9042aa642a9a90cccfc436328f4\n",
      "#/entry/enko/5ff73075e6974c3d8294788bf490eea6\n",
      "#/entry/enko/a78afd9aa4fd498a80fe6c812ca9b4b8\n",
      "#/entry/enko/4b50fbad6d8c4f73a4620cde5ebe7883\n",
      "#/entry/enko/f1fd1ab4550f44839755e76acc11012e\n",
      "#/entry/enko/0ecfe3bfb5424d5d85ad48209dd83a8f\n",
      "...\n",
      "총 433개의 hash url\n"
     ]
    }
   ],
   "source": [
    "presentationDic(hashDic)"
   ]
  },
  {
   "cell_type": "code",
   "execution_count": 68,
   "id": "6fcb19a2",
   "metadata": {},
   "outputs": [],
   "source": [
    "f = open('../../data/hashUrl/reactQuery.pkl','wb')\n",
    "pickle.dump(hashDic, f)\n",
    "f.close()"
   ]
  },
  {
   "cell_type": "markdown",
   "id": "c5b0e948",
   "metadata": {},
   "source": [
    "\n",
    "# react-router hash url"
   ]
  },
  {
   "cell_type": "code",
   "execution_count": 71,
   "id": "8d52bfe9",
   "metadata": {},
   "outputs": [],
   "source": [
    "f = open('../../data/words/reactRouter.pkl','rb')\n",
    "words = pickle.load(f)"
   ]
  },
  {
   "cell_type": "code",
   "execution_count": 72,
   "id": "71530469",
   "metadata": {},
   "outputs": [
    {
     "name": "stderr",
     "output_type": "stream",
     "text": [
      "100%|██████████| 941/941 [22:08<00:00,  1.41s/it]\n"
     ]
    }
   ],
   "source": [
    "driver = webdriver.Chrome('/Users/jeong-youseock/Downloads/chromedriver')\n",
    "driver.implicitly_wait(3)\n",
    "hashDic = {}\n",
    "for word in tqdm(words):\n",
    "    url = makeNaverDicUrl(word)\n",
    "    hashValue = getSoupWithSelenium(driver,url)\n",
    "    hashDic[word] = hashValue"
   ]
  },
  {
   "cell_type": "code",
   "execution_count": 73,
   "id": "fef7f143",
   "metadata": {},
   "outputs": [
    {
     "name": "stdout",
     "output_type": "stream",
     "text": [
      "#/entry/enko/9a2a2aa82c5b412dbaadfb4968a02a86\n",
      "#/entry/enko/85f2cc6d5d214683aefe08ca692e5e81\n",
      "#/entry/enko/29a0927d93fa4f71b3873a3339ab8725\n",
      "#/entry/enko/8403b074936c41ec985f44a1bd8121d5\n",
      "#/entry/enko/0d52204e03514a3f8a85ff07a03f5d2f\n",
      "#/entry/enko/562d400c45984b9d90b38bd24ead9637\n",
      "#/entry/enko/db418777d0bd45abb2bc909c460c31d5\n",
      "#/entry/enko/999a10ab70a24d1bb9f5b51be5a85b2b\n",
      "#/entry/enko/66816ff96e034c9e8c729d68ad1691b4\n",
      "#/entry/enko/b5b334d8cd8747148f3889936f6d1790\n",
      "...\n",
      "총 941개의 hash url\n"
     ]
    }
   ],
   "source": [
    "presentationDic(hashDic)"
   ]
  },
  {
   "cell_type": "code",
   "execution_count": 74,
   "id": "4d450f50",
   "metadata": {},
   "outputs": [],
   "source": [
    "f = open('../../data/hashUrl/reactRouter.pkl','wb')\n",
    "pickle.dump(hashDic, f)\n",
    "f.close()"
   ]
  },
  {
   "cell_type": "markdown",
   "id": "271e53bc",
   "metadata": {},
   "source": [
    "# react hash url"
   ]
  },
  {
   "cell_type": "code",
   "execution_count": 79,
   "id": "f0c958de",
   "metadata": {},
   "outputs": [],
   "source": [
    "f = open('../../data/words/react.pkl','rb')\n",
    "words = pickle.load(f)"
   ]
  },
  {
   "cell_type": "code",
   "execution_count": 80,
   "id": "83a0d9b2",
   "metadata": {},
   "outputs": [
    {
     "name": "stderr",
     "output_type": "stream",
     "text": [
      "100%|██████████| 2328/2328 [2:04:36<00:00,  3.21s/it]  \n"
     ]
    }
   ],
   "source": [
    "driver = webdriver.Chrome('/Users/jeong-youseock/Downloads/chromedriver')\n",
    "driver.implicitly_wait(3)\n",
    "hashDic = {}\n",
    "for word in tqdm(words):\n",
    "    url = makeNaverDicUrl(word)\n",
    "    hashValue = getSoupWithSelenium(driver,url)\n",
    "    hashDic[word] = hashValue"
   ]
  },
  {
   "cell_type": "code",
   "execution_count": 81,
   "id": "8144dd71",
   "metadata": {},
   "outputs": [
    {
     "name": "stdout",
     "output_type": "stream",
     "text": [
      "#/entry/enko/29a0927d93fa4f71b3873a3339ab8725\n",
      "#/entry/enko/8403b074936c41ec985f44a1bd8121d5\n",
      "#/entry/enko/5ca23050ab4145a182bebdbc9e9ec293\n",
      "#/entry/enko/331dc47f03ca4f1da39d8312d52d41f2\n",
      "#/entry/enko/b712b797794641ac8f2d5fc9bfac9deb\n",
      "#/entry/enko/27b9b8a09a774373bda09093a9f6cef0\n",
      "#/entry/enko/7d8d52316fc146fbadac340a36cddd97\n",
      "#/entry/enko/0d52204e03514a3f8a85ff07a03f5d2f\n",
      "#/entry/enko/e8942b7716324e95a01d1dbf47cb075a\n",
      "#/entry/enko/0ecfe3bfb5424d5d85ad48209dd83a8f\n",
      "...\n",
      "총 2328개의 hash url\n"
     ]
    }
   ],
   "source": [
    "presentationDic(hashDic)"
   ]
  },
  {
   "cell_type": "code",
   "execution_count": 82,
   "id": "05182516",
   "metadata": {},
   "outputs": [],
   "source": [
    "f = open('../../data/hashUrl/reactRouter.pkl','wb')\n",
    "pickle.dump(hashDic, f)\n",
    "f.close()"
   ]
  }
 ],
 "metadata": {
  "kernelspec": {
   "display_name": "Python 3.8.10 64-bit ('mlp': conda)",
   "language": "python",
   "name": "python3810jvsc74a57bd0ce52bf728390bdc3e82d628f52f7f321bd0929be221c9428aa5f31873b71f1ee"
  },
  "language_info": {
   "codemirror_mode": {
    "name": "ipython",
    "version": 3
   },
   "file_extension": ".py",
   "mimetype": "text/x-python",
   "name": "python",
   "nbconvert_exporter": "python",
   "pygments_lexer": "ipython3",
   "version": "3.8.10"
  }
 },
 "nbformat": 4,
 "nbformat_minor": 5
}
