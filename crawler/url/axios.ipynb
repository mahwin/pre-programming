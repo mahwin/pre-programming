{
 "cells": [
  {
   "cell_type": "code",
   "execution_count": 28,
   "id": "19f77b46",
   "metadata": {},
   "outputs": [],
   "source": [
    "import requests\n",
    "from bs4 import BeautifulSoup as bs\n",
    "from selenium import webdriver\n",
    "import time"
   ]
  },
  {
   "cell_type": "code",
   "execution_count": 29,
   "id": "28d441bd",
   "metadata": {},
   "outputs": [],
   "source": [
    "def getHtmlToSoup(url):\n",
    "    webdriverhtml = requests.get(url)\n",
    "    return bs(webdriverhtml.text,'html.parser')"
   ]
  },
  {
   "cell_type": "code",
   "execution_count": 30,
   "id": "4883190d",
   "metadata": {},
   "outputs": [],
   "source": [
    "# homepage 구조가 간단하게 one deps로 구성됨.\n",
    "homeUrl = 'https://axios-http.com/docs/intro'\n",
    "totalUrlArray = []"
   ]
  },
  {
   "cell_type": "code",
   "execution_count": 31,
   "id": "b4aa56cd",
   "metadata": {},
   "outputs": [],
   "source": [
    "soup = getHtmlToSoup(homeUrl)"
   ]
  },
  {
   "cell_type": "code",
   "execution_count": 32,
   "id": "2e54c1d2",
   "metadata": {},
   "outputs": [],
   "source": [
    "for element in soup.select('body > aside > div.aside-container > a'):\n",
    "    totalUrlArray += ['https://axios-http.com'+element.attrs['href']]"
   ]
  },
  {
   "cell_type": "code",
   "execution_count": 33,
   "id": "3924d8ee",
   "metadata": {},
   "outputs": [
    {
     "name": "stdout",
     "output_type": "stream",
     "text": [
      "https://axios-http.com/docs/intro\n",
      "https://axios-http.com/docs/example\n",
      "https://axios-http.com/docs/post_example\n",
      "https://axios-http.com/docs/api_intro\n",
      "https://axios-http.com/docs/instance\n",
      "https://axios-http.com/docs/req_config\n",
      "https://axios-http.com/docs/res_schema\n",
      "https://axios-http.com/docs/config_defaults\n",
      "https://axios-http.com/docs/interceptors\n",
      "https://axios-http.com/docs/handling_errors\n",
      "...\n",
      "총 17개의 detail url로 구성\n"
     ]
    }
   ],
   "source": [
    "print(*totalUrlArray[:10],sep='\\n')\n",
    "print('...')\n",
    "print('총 {}개의 detail url로 구성'.format(len(totalUrlArray)))"
   ]
  },
  {
   "cell_type": "code",
   "execution_count": null,
   "id": "da0df46e",
   "metadata": {},
   "outputs": [],
   "source": []
  }
 ],
 "metadata": {
  "kernelspec": {
   "display_name": "Python 3",
   "language": "python",
   "name": "python3"
  },
  "language_info": {
   "codemirror_mode": {
    "name": "ipython",
    "version": 3
   },
   "file_extension": ".py",
   "mimetype": "text/x-python",
   "name": "python",
   "nbconvert_exporter": "python",
   "pygments_lexer": "ipython3",
   "version": "3.8.8"
  }
 },
 "nbformat": 4,
 "nbformat_minor": 5
}
