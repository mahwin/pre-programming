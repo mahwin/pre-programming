{
 "cells": [
  {
   "cell_type": "code",
   "execution_count": 1,
   "id": "3c249c93",
   "metadata": {},
   "outputs": [],
   "source": [
    "import requests\n",
    "from bs4 import BeautifulSoup as bs\n",
    "import time"
   ]
  },
  {
   "cell_type": "code",
   "execution_count": 2,
   "id": "a9dcbb5b",
   "metadata": {},
   "outputs": [],
   "source": [
    "def getHtmlToSoup(url):\n",
    "    webdriverhtml = requests.get(url)\n",
    "    return bs(webdriverhtml.text,'html.parser')"
   ]
  },
  {
   "cell_type": "code",
   "execution_count": 3,
   "id": "b374965b",
   "metadata": {},
   "outputs": [],
   "source": [
    "homeUrl = 'https://reactrouter.com'\n",
    "totalUrlArray = [homeUrl]"
   ]
  },
  {
   "cell_type": "code",
   "execution_count": 4,
   "id": "7f0bfc20",
   "metadata": {},
   "outputs": [],
   "source": [
    "soup = getHtmlToSoup(homeUrl)\n",
    "for element in soup.select('nav ul')[0]:\n",
    "    for detailElement in (element.select('a')):\n",
    "         totalUrlArray += ['{}{}'.format(homeUrl,detailElement.attrs['href'])]"
   ]
  },
  {
   "cell_type": "code",
   "execution_count": 5,
   "id": "7cb57360",
   "metadata": {},
   "outputs": [
    {
     "name": "stdout",
     "output_type": "stream",
     "text": [
      "https://reactrouter.com\n",
      "https://reactrouter.com/en/main/start/overview\n",
      "https://reactrouter.com/en/main/start/tutorial\n",
      "https://reactrouter.com/en/main/start/examples\n",
      "https://reactrouter.com/en/main/start/faq\n",
      "https://reactrouter.com/en/main/start/concepts\n",
      "https://reactrouter.com/en/main/upgrading/v5\n",
      "https://reactrouter.com/en/main/upgrading/reach\n",
      "https://reactrouter.com/en/main/routers/picking-a-router\n",
      "https://reactrouter.com/en/main/routers/create-browser-router\n",
      "...\n",
      "81개의 세부 url\n"
     ]
    }
   ],
   "source": [
    "print(*totalUrlArray[:10],sep='\\n')\n",
    "print('...')\n",
    "print('{}개의 세부 url'.format(len(totalUrlArray)))"
   ]
  }
 ],
 "metadata": {
  "kernelspec": {
   "display_name": "Python 3",
   "language": "python",
   "name": "python3"
  },
  "language_info": {
   "codemirror_mode": {
    "name": "ipython",
    "version": 3
   },
   "file_extension": ".py",
   "mimetype": "text/x-python",
   "name": "python",
   "nbconvert_exporter": "python",
   "pygments_lexer": "ipython3",
   "version": "3.8.8"
  }
 },
 "nbformat": 4,
 "nbformat_minor": 5
}
