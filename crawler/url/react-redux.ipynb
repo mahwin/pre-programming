{
 "cells": [
  {
   "cell_type": "code",
   "execution_count": 1,
   "id": "ce732452",
   "metadata": {},
   "outputs": [],
   "source": [
    "import requests\n",
    "from bs4 import BeautifulSoup as bs\n",
    "from selenium import webdriver\n",
    "import time"
   ]
  },
  {
   "cell_type": "code",
   "execution_count": 2,
   "id": "869ae0d9",
   "metadata": {},
   "outputs": [],
   "source": [
    "def getHtmlToSoup(url):\n",
    "    webdriverhtml = requests.get(url)\n",
    "    return bs(webdriverhtml.text,'html.parser')"
   ]
  },
  {
   "cell_type": "code",
   "execution_count": 3,
   "id": "cb8cbcaa",
   "metadata": {},
   "outputs": [],
   "source": [
    "def clickAndGetHtmlToSoup(url):\n",
    "    driver = webdriver.Chrome('/Users/jeong-youseock/Downloads/chromedriver')\n",
    "    driver.implicitly_wait(3)\n",
    "    driver.get(url)\n",
    "    time.sleep(2)\n",
    "    driver.find_element_by_xpath('/html/body/div/div[2]/div/aside/div/nav/ul/li[4]/a').click()\n",
    "    time.sleep(2)\n",
    "    driver.find_element_by_xpath('/html/body/div/div[2]/div/aside/div/nav/ul/li[5]/a').click()\n",
    "    return bs(driver.page_source,'html.parser')"
   ]
  },
  {
   "cell_type": "code",
   "execution_count": 4,
   "id": "a5a6663c",
   "metadata": {},
   "outputs": [],
   "source": [
    "#홈페이지 내용은 없고 https://react-redux.js.org/introduction/getting-started 페이지에서 전체 nav 접근 가능"
   ]
  },
  {
   "cell_type": "code",
   "execution_count": 5,
   "id": "3f9369a1",
   "metadata": {},
   "outputs": [],
   "source": [
    "homeUrl = 'https://react-redux.js.org/introduction/getting-started'\n",
    "totalUrlArray=[]"
   ]
  },
  {
   "cell_type": "code",
   "execution_count": 6,
   "id": "725eb446",
   "metadata": {},
   "outputs": [],
   "source": [
    "soup = clickAndGetHtmlToSoup(homeUrl)\n",
    "#클릭해서 열어야 생기는 a tag가 있어서 selenium 사용\n",
    "for element in soup.select('nav')[1].select('a'):\n",
    "    detail = element.attrs['href']\n",
    "    if detail !='#':\n",
    "        totalUrlArray += ['https://react-redux.js.org'+ detail]"
   ]
  },
  {
   "cell_type": "code",
   "execution_count": 7,
   "id": "e0018ada",
   "metadata": {},
   "outputs": [
    {
     "name": "stdout",
     "output_type": "stream",
     "text": [
      "https://react-redux.js.org/introduction/getting-started\n",
      "https://react-redux.js.org/introduction/why-use-react-redux\n",
      "https://react-redux.js.org/tutorials/quick-start\n",
      "https://react-redux.js.org/tutorials/typescript-quick-start\n",
      "https://react-redux.js.org/tutorials/connect\n",
      "https://react-redux.js.org/using-react-redux/usage-with-typescript\n",
      "https://react-redux.js.org/using-react-redux/connect-mapstate\n",
      "https://react-redux.js.org/using-react-redux/connect-mapdispatch\n",
      "https://react-redux.js.org/using-react-redux/accessing-store\n",
      "https://react-redux.js.org/api/provider\n",
      "https://react-redux.js.org/api/hooks\n",
      "https://react-redux.js.org/api/connect\n",
      "https://react-redux.js.org/api/batch\n",
      "https://react-redux.js.org/troubleshooting\n",
      "14 개의 detail url로 구성\n"
     ]
    }
   ],
   "source": [
    "print(*totalUrlArray,sep='\\n')\n",
    "print(len(totalUrlArray),'개의 detail url로 구성')"
   ]
  }
 ],
 "metadata": {
  "kernelspec": {
   "display_name": "Python 3",
   "language": "python",
   "name": "python3"
  },
  "language_info": {
   "codemirror_mode": {
    "name": "ipython",
    "version": 3
   },
   "file_extension": ".py",
   "mimetype": "text/x-python",
   "name": "python",
   "nbconvert_exporter": "python",
   "pygments_lexer": "ipython3",
   "version": "3.8.8"
  }
 },
 "nbformat": 4,
 "nbformat_minor": 5
}
