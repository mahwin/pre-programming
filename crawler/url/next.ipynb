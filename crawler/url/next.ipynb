{
 "cells": [
  {
   "cell_type": "code",
   "execution_count": 2,
   "id": "53258481",
   "metadata": {},
   "outputs": [],
   "source": [
    "import requests\n",
    "from bs4 import BeautifulSoup as bs\n",
    "from selenium import webdriver\n",
    "import time"
   ]
  },
  {
   "cell_type": "code",
   "execution_count": 3,
   "id": "cb8cf734",
   "metadata": {},
   "outputs": [],
   "source": [
    "def getHtmlToSoup(url):\n",
    "    webdriverhtml = requests.get(url)\n",
    "    return bs(webdriverhtml.text,'html.parser')"
   ]
  },
  {
   "cell_type": "code",
   "execution_count": 24,
   "id": "5222c38d",
   "metadata": {},
   "outputs": [],
   "source": [
    "# homepage에 docs에 대부분의 학습내용이 있어서 docs만 크롤링함. 나머지는 템플릿, 사용처, 사용자 경험 수치 등임."
   ]
  },
  {
   "cell_type": "code",
   "execution_count": 31,
   "id": "0f88d660",
   "metadata": {},
   "outputs": [],
   "source": [
    "homeUrl='https://nextjs.org/docs'\n",
    "totalUrlArray=[]"
   ]
  },
  {
   "cell_type": "code",
   "execution_count": 32,
   "id": "96558d62",
   "metadata": {},
   "outputs": [],
   "source": [
    "soup = getHtmlToSoup(homeUrl)\n",
    "for element in soup.select('nav')[1].select('div')[0].select('a'):\n",
    "    totalUrlArray += [ 'https://nextjs.org'+element.attrs['href']]"
   ]
  },
  {
   "cell_type": "code",
   "execution_count": 33,
   "id": "bbfe69a1",
   "metadata": {},
   "outputs": [
    {
     "data": {
      "text/plain": [
       "['https://nextjs.org/docs/getting-started',\n",
       " 'https://nextjs.org/docs/basic-features/pages',\n",
       " 'https://nextjs.org/docs/basic-features/data-fetching/overview',\n",
       " 'https://nextjs.org/docs/basic-features/data-fetching/get-server-side-props',\n",
       " 'https://nextjs.org/docs/basic-features/data-fetching/get-static-paths',\n",
       " 'https://nextjs.org/docs/basic-features/data-fetching/get-static-props',\n",
       " 'https://nextjs.org/docs/basic-features/data-fetching/incremental-static-regeneration',\n",
       " 'https://nextjs.org/docs/basic-features/data-fetching/client-side',\n",
       " 'https://nextjs.org/docs/basic-features/built-in-css-support',\n",
       " 'https://nextjs.org/docs/basic-features/layouts',\n",
       " 'https://nextjs.org/docs/basic-features/image-optimization',\n",
       " 'https://nextjs.org/docs/basic-features/font-optimization',\n",
       " 'https://nextjs.org/docs/basic-features/static-file-serving',\n",
       " 'https://nextjs.org/docs/basic-features/fast-refresh',\n",
       " 'https://nextjs.org/docs/basic-features/eslint',\n",
       " 'https://nextjs.org/docs/basic-features/typescript',\n",
       " 'https://nextjs.org/docs/basic-features/environment-variables',\n",
       " 'https://nextjs.org/docs/basic-features/supported-browsers-features',\n",
       " 'https://nextjs.org/docs/basic-features/script',\n",
       " 'https://nextjs.org/docs/routing/introduction',\n",
       " 'https://nextjs.org/docs/routing/dynamic-routes',\n",
       " 'https://nextjs.org/docs/routing/imperatively',\n",
       " 'https://nextjs.org/docs/routing/shallow-routing',\n",
       " 'https://nextjs.org/docs/api-routes/introduction',\n",
       " 'https://nextjs.org/docs/api-routes/dynamic-api-routes',\n",
       " 'https://nextjs.org/docs/api-routes/request-helpers',\n",
       " 'https://nextjs.org/docs/api-routes/response-helpers',\n",
       " 'https://nextjs.org/docs/api-routes/edge-api-routes',\n",
       " 'https://nextjs.org/docs/going-to-production',\n",
       " 'https://nextjs.org/docs/deployment',\n",
       " 'https://nextjs.org/docs/authentication',\n",
       " 'https://nextjs.org/docs/testing',\n",
       " 'https://nextjs.org/docs/accessibility',\n",
       " 'https://nextjs.org/docs/guides/building-forms',\n",
       " 'https://nextjs.org/docs/advanced-features/compiler',\n",
       " 'https://nextjs.org/docs/advanced-features/preview-mode',\n",
       " 'https://nextjs.org/docs/advanced-features/dynamic-import',\n",
       " 'https://nextjs.org/docs/advanced-features/automatic-static-optimization',\n",
       " 'https://nextjs.org/docs/advanced-features/static-html-export',\n",
       " 'https://nextjs.org/docs/advanced-features/module-path-aliases',\n",
       " 'https://nextjs.org/docs/advanced-features/using-mdx',\n",
       " 'https://nextjs.org/docs/advanced-features/amp-support/introduction',\n",
       " 'https://nextjs.org/docs/advanced-features/amp-support/adding-amp-components',\n",
       " 'https://nextjs.org/docs/advanced-features/amp-support/amp-validation',\n",
       " 'https://nextjs.org/docs/advanced-features/amp-support/amp-in-static-html-export',\n",
       " 'https://nextjs.org/docs/advanced-features/amp-support/typescript',\n",
       " 'https://nextjs.org/docs/advanced-features/customizing-babel-config',\n",
       " 'https://nextjs.org/docs/advanced-features/customizing-postcss-config',\n",
       " 'https://nextjs.org/docs/advanced-features/custom-server',\n",
       " 'https://nextjs.org/docs/advanced-features/custom-app',\n",
       " 'https://nextjs.org/docs/advanced-features/custom-document',\n",
       " 'https://nextjs.org/docs/advanced-features/custom-error-page',\n",
       " 'https://nextjs.org/docs/advanced-features/src-directory',\n",
       " 'https://nextjs.org/docs/advanced-features/ci-build-caching',\n",
       " 'https://nextjs.org/docs/advanced-features/multi-zones',\n",
       " 'https://nextjs.org/docs/advanced-features/measuring-performance',\n",
       " 'https://nextjs.org/docs/advanced-features/middleware',\n",
       " 'https://nextjs.org/docs/advanced-features/debugging',\n",
       " 'https://nextjs.org/docs/advanced-features/error-handling',\n",
       " 'https://nextjs.org/docs/advanced-features/source-maps',\n",
       " 'https://nextjs.org/docs/advanced-features/codemods',\n",
       " 'https://nextjs.org/docs/advanced-features/i18n-routing',\n",
       " 'https://nextjs.org/docs/advanced-features/output-file-tracing',\n",
       " 'https://nextjs.org/docs/advanced-features/security-headers',\n",
       " 'https://nextjs.org/docs/advanced-features/react-18/overview',\n",
       " 'https://nextjs.org/docs/advanced-features/react-18/streaming',\n",
       " 'https://nextjs.org/docs/advanced-features/react-18/server-components',\n",
       " 'https://nextjs.org/docs/advanced-features/react-18/switchable-runtime',\n",
       " 'https://nextjs.org/docs/upgrading',\n",
       " 'https://nextjs.org/docs/migrating/incremental-adoption',\n",
       " 'https://nextjs.org/docs/migrating/from-gatsby',\n",
       " 'https://nextjs.org/docs/migrating/from-create-react-app',\n",
       " 'https://nextjs.org/docs/migrating/from-react-router',\n",
       " 'https://nextjs.org/docs/faq']"
      ]
     },
     "execution_count": 33,
     "metadata": {},
     "output_type": "execute_result"
    }
   ],
   "source": [
    "print(*totalUrlArray[:10], sep='\\n')\n",
    "print('...')\n",
    "print('{}개로 구성된 detail'.format(len(totalUrlArray)))"
   ]
  },
  {
   "cell_type": "code",
   "execution_count": null,
   "id": "645ad9a2",
   "metadata": {},
   "outputs": [],
   "source": []
  }
 ],
 "metadata": {
  "kernelspec": {
   "display_name": "Python 3",
   "language": "python",
   "name": "python3"
  },
  "language_info": {
   "codemirror_mode": {
    "name": "ipython",
    "version": 3
   },
   "file_extension": ".py",
   "mimetype": "text/x-python",
   "name": "python",
   "nbconvert_exporter": "python",
   "pygments_lexer": "ipython3",
   "version": "3.8.8"
  }
 },
 "nbformat": 4,
 "nbformat_minor": 5
}
