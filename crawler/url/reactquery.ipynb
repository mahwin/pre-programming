{
 "cells": [
  {
   "cell_type": "code",
   "execution_count": 88,
   "id": "330130ee",
   "metadata": {},
   "outputs": [],
   "source": [
    "import requests\n",
    "from bs4 import BeautifulSoup as bs\n",
    "import time"
   ]
  },
  {
   "cell_type": "code",
   "execution_count": 89,
   "id": "6248abef",
   "metadata": {},
   "outputs": [],
   "source": [
    "def getHtmlToSoup(url):\n",
    "    webdriverhtml = requests.get(url)\n",
    "    return bs(webdriverhtml.text,'html.parser')"
   ]
  },
  {
   "cell_type": "code",
   "execution_count": 90,
   "id": "c48f3e51",
   "metadata": {},
   "outputs": [],
   "source": [
    "# react, solid, vue를 한 웹에서 다루고 있고, 또 부차적인 내용도 많이 담고 있어 필터해서 갖고 오기로 결정. \n",
    "# 8개의 큰 url로 구성\n",
    "\n",
    "# menu                => 무시  0\n",
    "# Getting started     => 필요  1\n",
    "# adaters             => 무시  2\n",
    "# GUIDES & CONCEPTS   => 필요  3\n",
    "# COMMUNITY RESOURCES => 무시  4\n",
    "# EXAMPLES            => 필요  5 \n",
    "# PLUGINS             => 무시  6\n",
    "# API REFERENCE       => 필요  7\n",
    "# [1,3,5,7] 필요"
   ]
  },
  {
   "cell_type": "code",
   "execution_count": 157,
   "id": "866b6f04",
   "metadata": {},
   "outputs": [],
   "source": [
    "homeUrl = 'https://tanstack.com/query/v4/docs'\n",
    "totalUrlArray = [homeUrl]"
   ]
  },
  {
   "cell_type": "code",
   "execution_count": 158,
   "id": "3111d8f4",
   "metadata": {},
   "outputs": [
    {
     "name": "stdout",
     "output_type": "stream",
     "text": [
      "/query/v4/docs/overview\n",
      "/query/v4/docs/installation\n",
      "/query/v4/docs/quick-start\n",
      "/query/v4/docs/devtools\n",
      "/query/v4/docs/videos\n",
      "/query/v4/docs/comparison\n",
      "/query/v4/docs/typescript\n",
      "/query/v4/docs/graphql\n",
      "/query/v4/docs/react-native\n",
      "/query/v4/docs/guides/important-defaults\n",
      "/query/v4/docs/guides/queries\n",
      "/query/v4/docs/guides/query-keys\n",
      "/query/v4/docs/guides/query-functions\n",
      "/query/v4/docs/guides/network-mode\n",
      "/query/v4/docs/guides/parallel-queries\n",
      "/query/v4/docs/guides/dependent-queries\n",
      "/query/v4/docs/guides/background-fetching-indicators\n",
      "/query/v4/docs/guides/window-focus-refetching\n",
      "/query/v4/docs/guides/disabling-queries\n",
      "/query/v4/docs/guides/query-retries\n",
      "/query/v4/docs/guides/paginated-queries\n",
      "/query/v4/docs/guides/infinite-queries\n",
      "/query/v4/docs/guides/placeholder-query-data\n",
      "/query/v4/docs/guides/initial-query-data\n",
      "/query/v4/docs/guides/prefetching\n",
      "/query/v4/docs/guides/mutations\n",
      "/query/v4/docs/guides/query-invalidation\n",
      "/query/v4/docs/guides/invalidations-from-mutations\n",
      "/query/v4/docs/guides/updates-from-mutation-responses\n",
      "/query/v4/docs/guides/optimistic-updates\n",
      "/query/v4/docs/guides/query-cancellation\n",
      "/query/v4/docs/guides/scroll-restoration\n",
      "/query/v4/docs/guides/filters\n",
      "/query/v4/docs/guides/ssr\n",
      "/query/v4/docs/guides/caching\n",
      "/query/v4/docs/guides/default-query-function\n",
      "/query/v4/docs/guides/suspense\n",
      "/query/v4/docs/guides/custom-logger\n",
      "/query/v4/docs/guides/testing\n",
      "/query/v4/docs/guides/does-this-replace-client-state\n",
      "/query/v4/docs/guides/migrating-to-react-query-3\n",
      "/query/v4/docs/guides/migrating-to-react-query-4\n",
      "/query/v4/docs/examples/react/simple\n",
      "/query/v4/docs/examples/react/basic\n",
      "/query/v4/docs/examples/react/basic-graphql-request\n",
      "/query/v4/docs/examples/react/auto-refetching\n",
      "/query/v4/docs/examples/react/optimistic-updates-typescript\n",
      "/query/v4/docs/examples/react/pagination\n",
      "/query/v4/docs/examples/react/load-more-infinite-scroll\n",
      "/query/v4/docs/examples/react/suspense\n",
      "/query/v4/docs/examples/react/default-query-function\n",
      "/query/v4/docs/examples/react/playground\n",
      "/query/v4/docs/examples/react/prefetching\n",
      "/query/v4/docs/examples/react/star-wars\n",
      "/query/v4/docs/examples/react/rick-morty\n",
      "/query/v4/docs/examples/react/nextjs\n",
      "/query/v4/docs/examples/react/react-native\n",
      "/query/v4/docs/examples/react/react-router\n",
      "/query/v4/docs/examples/react/offline\n",
      "/query/v4/docs/reference/useQuery\n",
      "/query/v4/docs/reference/useQueries\n",
      "/query/v4/docs/reference/useInfiniteQuery\n",
      "/query/v4/docs/reference/useMutation\n",
      "/query/v4/docs/reference/useIsFetching\n",
      "/query/v4/docs/reference/useIsMutating\n",
      "/query/v4/docs/reference/QueryClient\n",
      "/query/v4/docs/reference/QueryClientProvider\n",
      "/query/v4/docs/reference/useQueryClient\n",
      "/query/v4/docs/reference/QueryCache\n",
      "/query/v4/docs/reference/MutationCache\n",
      "/query/v4/docs/reference/QueryObserver\n",
      "/query/v4/docs/reference/InfiniteQueryObserver\n",
      "/query/v4/docs/reference/QueriesObserver\n",
      "/query/v4/docs/reference/QueryErrorResetBoundary\n",
      "/query/v4/docs/reference/useQueryErrorResetBoundary\n",
      "/query/v4/docs/reference/focusManager\n",
      "/query/v4/docs/reference/onlineManager\n",
      "/query/v4/docs/reference/hydration\n"
     ]
    }
   ],
   "source": [
    "soup = getHtmlToSoup(homeUrl)\n",
    "\n",
    "idx = 0\n",
    "for element in soup.select('#docs-details > div')[0]:\n",
    "    if idx % 2== 1:\n",
    "        for detail in element.select('a'):\n",
    "            totalUrlArray += [ 'https://tanstack.com' + detail.attrs['href']]\n",
    "    idx += 1 "
   ]
  },
  {
   "cell_type": "code",
   "execution_count": 159,
   "id": "ba0a46b0",
   "metadata": {},
   "outputs": [
    {
     "name": "stdout",
     "output_type": "stream",
     "text": [
      "['https://tanstack.com/query/v4/docs', 'https://tanstack.com/query/v4/docs/overview', 'https://tanstack.com/query/v4/docs/installation', 'https://tanstack.com/query/v4/docs/quick-start', 'https://tanstack.com/query/v4/docs/devtools', 'https://tanstack.com/query/v4/docs/videos', 'https://tanstack.com/query/v4/docs/comparison', 'https://tanstack.com/query/v4/docs/typescript', 'https://tanstack.com/query/v4/docs/graphql', 'https://tanstack.com/query/v4/docs/react-native', 'https://tanstack.com/query/v4/docs/guides/important-defaults', 'https://tanstack.com/query/v4/docs/guides/queries', 'https://tanstack.com/query/v4/docs/guides/query-keys', 'https://tanstack.com/query/v4/docs/guides/query-functions', 'https://tanstack.com/query/v4/docs/guides/network-mode', 'https://tanstack.com/query/v4/docs/guides/parallel-queries', 'https://tanstack.com/query/v4/docs/guides/dependent-queries', 'https://tanstack.com/query/v4/docs/guides/background-fetching-indicators', 'https://tanstack.com/query/v4/docs/guides/window-focus-refetching', 'https://tanstack.com/query/v4/docs/guides/disabling-queries', 'https://tanstack.com/query/v4/docs/guides/query-retries', 'https://tanstack.com/query/v4/docs/guides/paginated-queries', 'https://tanstack.com/query/v4/docs/guides/infinite-queries', 'https://tanstack.com/query/v4/docs/guides/placeholder-query-data', 'https://tanstack.com/query/v4/docs/guides/initial-query-data', 'https://tanstack.com/query/v4/docs/guides/prefetching', 'https://tanstack.com/query/v4/docs/guides/mutations', 'https://tanstack.com/query/v4/docs/guides/query-invalidation', 'https://tanstack.com/query/v4/docs/guides/invalidations-from-mutations', 'https://tanstack.com/query/v4/docs/guides/updates-from-mutation-responses', 'https://tanstack.com/query/v4/docs/guides/optimistic-updates', 'https://tanstack.com/query/v4/docs/guides/query-cancellation', 'https://tanstack.com/query/v4/docs/guides/scroll-restoration', 'https://tanstack.com/query/v4/docs/guides/filters', 'https://tanstack.com/query/v4/docs/guides/ssr', 'https://tanstack.com/query/v4/docs/guides/caching', 'https://tanstack.com/query/v4/docs/guides/default-query-function', 'https://tanstack.com/query/v4/docs/guides/suspense', 'https://tanstack.com/query/v4/docs/guides/custom-logger', 'https://tanstack.com/query/v4/docs/guides/testing', 'https://tanstack.com/query/v4/docs/guides/does-this-replace-client-state', 'https://tanstack.com/query/v4/docs/guides/migrating-to-react-query-3', 'https://tanstack.com/query/v4/docs/guides/migrating-to-react-query-4', 'https://tanstack.com/query/v4/docs/examples/react/simple', 'https://tanstack.com/query/v4/docs/examples/react/basic', 'https://tanstack.com/query/v4/docs/examples/react/basic-graphql-request', 'https://tanstack.com/query/v4/docs/examples/react/auto-refetching', 'https://tanstack.com/query/v4/docs/examples/react/optimistic-updates-typescript', 'https://tanstack.com/query/v4/docs/examples/react/pagination', 'https://tanstack.com/query/v4/docs/examples/react/load-more-infinite-scroll', 'https://tanstack.com/query/v4/docs/examples/react/suspense', 'https://tanstack.com/query/v4/docs/examples/react/default-query-function', 'https://tanstack.com/query/v4/docs/examples/react/playground', 'https://tanstack.com/query/v4/docs/examples/react/prefetching', 'https://tanstack.com/query/v4/docs/examples/react/star-wars', 'https://tanstack.com/query/v4/docs/examples/react/rick-morty', 'https://tanstack.com/query/v4/docs/examples/react/nextjs', 'https://tanstack.com/query/v4/docs/examples/react/react-native', 'https://tanstack.com/query/v4/docs/examples/react/react-router', 'https://tanstack.com/query/v4/docs/examples/react/offline', 'https://tanstack.com/query/v4/docs/reference/useQuery', 'https://tanstack.com/query/v4/docs/reference/useQueries', 'https://tanstack.com/query/v4/docs/reference/useInfiniteQuery', 'https://tanstack.com/query/v4/docs/reference/useMutation', 'https://tanstack.com/query/v4/docs/reference/useIsFetching', 'https://tanstack.com/query/v4/docs/reference/useIsMutating', 'https://tanstack.com/query/v4/docs/reference/QueryClient', 'https://tanstack.com/query/v4/docs/reference/QueryClientProvider', 'https://tanstack.com/query/v4/docs/reference/useQueryClient', 'https://tanstack.com/query/v4/docs/reference/QueryCache', 'https://tanstack.com/query/v4/docs/reference/MutationCache', 'https://tanstack.com/query/v4/docs/reference/QueryObserver', 'https://tanstack.com/query/v4/docs/reference/InfiniteQueryObserver', 'https://tanstack.com/query/v4/docs/reference/QueriesObserver', 'https://tanstack.com/query/v4/docs/reference/QueryErrorResetBoundary', 'https://tanstack.com/query/v4/docs/reference/useQueryErrorResetBoundary', 'https://tanstack.com/query/v4/docs/reference/focusManager', 'https://tanstack.com/query/v4/docs/reference/onlineManager', 'https://tanstack.com/query/v4/docs/reference/hydration']\n"
     ]
    }
   ],
   "source": []
  },
  {
   "cell_type": "code",
   "execution_count": 84,
   "id": "4225ea9a",
   "metadata": {},
   "outputs": [
    {
     "data": {
      "text/plain": [
       "8"
      ]
     },
     "execution_count": 84,
     "metadata": {},
     "output_type": "execute_result"
    }
   ],
   "source": []
  },
  {
   "cell_type": "code",
   "execution_count": null,
   "id": "bec8b8be",
   "metadata": {},
   "outputs": [],
   "source": []
  }
 ],
 "metadata": {
  "kernelspec": {
   "display_name": "Python 3",
   "language": "python",
   "name": "python3"
  },
  "language_info": {
   "codemirror_mode": {
    "name": "ipython",
    "version": 3
   },
   "file_extension": ".py",
   "mimetype": "text/x-python",
   "name": "python",
   "nbconvert_exporter": "python",
   "pygments_lexer": "ipython3",
   "version": "3.8.8"
  }
 },
 "nbformat": 4,
 "nbformat_minor": 5
}
