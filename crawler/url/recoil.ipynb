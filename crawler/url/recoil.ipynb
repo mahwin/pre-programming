{
 "cells": [
  {
   "cell_type": "code",
   "execution_count": 1,
   "id": "2274f590",
   "metadata": {},
   "outputs": [],
   "source": [
    "import requests\n",
    "from bs4 import BeautifulSoup as bs\n",
    "from selenium import webdriver\n",
    "import time"
   ]
  },
  {
   "cell_type": "code",
   "execution_count": 2,
   "id": "20acb908",
   "metadata": {},
   "outputs": [],
   "source": [
    "def getHtmlToSoup(url):\n",
    "    webdriverhtml = requests.get(url)\n",
    "    return bs(webdriverhtml.text,'html.parser')"
   ]
  },
  {
   "cell_type": "code",
   "execution_count": 3,
   "id": "4d90e376",
   "metadata": {},
   "outputs": [],
   "source": [
    "#  nav list 중 html 분석이 필요한 곳 docs blog recoild sync refine\n",
    "homeUrl = 'https://recoiljs.org'\n",
    "rootUrl = []\n",
    "totalUrlArray =[]"
   ]
  },
  {
   "cell_type": "code",
   "execution_count": 4,
   "id": "54de4f4f",
   "metadata": {},
   "outputs": [
    {
     "name": "stdout",
     "output_type": "stream",
     "text": [
      "https://recoiljs.org/docs/introduction/installation\n",
      "https://recoiljs.org/blog\n",
      "https://recoiljs.org/docs/recoil-sync/introduction\n",
      "https://recoiljs.org/docs/refine/Introduction\n"
     ]
    }
   ],
   "source": [
    "soup =getHtmlToSoup(homeUrl)\n",
    "for element in soup.select('a')[3:7]:\n",
    "    rootUrl += [homeUrl+element.attrs['href']]\n",
    "print(*rootUrl,sep='\\n')"
   ]
  },
  {
   "cell_type": "code",
   "execution_count": 5,
   "id": "b445ae60",
   "metadata": {},
   "outputs": [
    {
     "data": {
      "text/plain": [
       "'https://recoiljs.org/docs/introduction/installation'"
      ]
     },
     "execution_count": 5,
     "metadata": {},
     "output_type": "execute_result"
    }
   ],
   "source": [
    "rootUrl[0]\n",
    "#페이지의 deps가 3개 이상인 곳도 있어서 직접 클릭해서 펼친 html source를 복사해서 갖고 오기로 함."
   ]
  },
  {
   "cell_type": "code",
   "execution_count": 6,
   "id": "e7d45c0e",
   "metadata": {},
   "outputs": [],
   "source": [
    "html = \"\"\"<div class=\"navbar-sidebar__item menu\"><button type=\"button\" class=\"clean-btn navbar-sidebar__back\">← Back to main menu</button><ul class=\"theme-doc-sidebar-menu menu__list\"><li class=\"theme-doc-sidebar-item-category theme-doc-sidebar-item-category-level-1 menu__list-item\"><div class=\"menu__list-item-collapsible\"><a href=\"#\" class=\"menu__link menu__link--sublist\">Introduction</a></div><ul class=\"menu__list\" style=\"display: block; overflow: visible; height: auto; will-change: height; transition: height 258ms ease-in-out 0s;\"><li class=\"theme-doc-sidebar-item-link theme-doc-sidebar-item-link-level-2 menu__list-item\"><a class=\"menu__link\" tabindex=\"0\" href=\"/docs/introduction/motivation\">Motivation</a></li><li class=\"theme-doc-sidebar-item-link theme-doc-sidebar-item-link-level-2 menu__list-item\"><a class=\"menu__link\" tabindex=\"0\" href=\"/docs/introduction/core-concepts\">Core Concepts</a></li><li class=\"theme-doc-sidebar-item-link theme-doc-sidebar-item-link-level-2 menu__list-item\"><a class=\"menu__link\" tabindex=\"0\" href=\"/docs/introduction/installation\">Installation</a></li><li class=\"theme-doc-sidebar-item-link theme-doc-sidebar-item-link-level-2 menu__list-item\"><a class=\"menu__link\" tabindex=\"0\" href=\"/docs/introduction/getting-started\">Getting Started</a></li></ul></li><li class=\"theme-doc-sidebar-item-category theme-doc-sidebar-item-category-level-1 menu__list-item\"><div class=\"menu__list-item-collapsible\"><a href=\"#\" class=\"menu__link menu__link--sublist menu__link--active\">Basic Tutorial</a></div><ul class=\"menu__list\" style=\"display: block; overflow: visible; height: auto;\"><li class=\"theme-doc-sidebar-item-link theme-doc-sidebar-item-link-level-2 menu__list-item\"><a class=\"menu__link menu__link--active\" aria-current=\"page\" tabindex=\"0\" href=\"/docs/basic-tutorial/intro\">Intro</a></li><li class=\"theme-doc-sidebar-item-link theme-doc-sidebar-item-link-level-2 menu__list-item\"><a class=\"menu__link\" tabindex=\"0\" href=\"/docs/basic-tutorial/atoms\">Atoms</a></li><li class=\"theme-doc-sidebar-item-link theme-doc-sidebar-item-link-level-2 menu__list-item\"><a class=\"menu__link\" tabindex=\"0\" href=\"/docs/basic-tutorial/selectors\">Selectors</a></li></ul></li><li class=\"theme-doc-sidebar-item-category theme-doc-sidebar-item-category-level-1 menu__list-item\"><div class=\"menu__list-item-collapsible\"><a href=\"#\" class=\"menu__link menu__link--sublist\">Guides</a></div><ul class=\"menu__list\" style=\"display: block; overflow: visible; height: auto; will-change: height; transition: height 273ms ease-in-out 0s;\"><li class=\"theme-doc-sidebar-item-link theme-doc-sidebar-item-link-level-2 menu__list-item\"><a class=\"menu__link\" tabindex=\"0\" href=\"/docs/guides/asynchronous-data-queries\">Asynchronous Data Queries</a></li><li class=\"theme-doc-sidebar-item-link theme-doc-sidebar-item-link-level-2 menu__list-item\"><a class=\"menu__link\" tabindex=\"0\" href=\"/docs/guides/atom-effects\">Atom Effects</a></li><li class=\"theme-doc-sidebar-item-link theme-doc-sidebar-item-link-level-2 menu__list-item\"><a class=\"menu__link\" tabindex=\"0\" href=\"/docs/guides/testing\">Testing</a></li><li class=\"theme-doc-sidebar-item-link theme-doc-sidebar-item-link-level-2 menu__list-item\"><a class=\"menu__link\" tabindex=\"0\" href=\"/docs/guides/transitions\">Transitions</a></li><li class=\"theme-doc-sidebar-item-link theme-doc-sidebar-item-link-level-2 menu__list-item\"><a class=\"menu__link\" tabindex=\"0\" href=\"/docs/guides/dev-tools\">Dev Tools</a></li></ul></li><li class=\"theme-doc-sidebar-item-category theme-doc-sidebar-item-category-level-1 menu__list-item\"><div class=\"menu__list-item-collapsible\"><a href=\"#\" class=\"menu__link menu__link--sublist\">API Reference</a></div><ul class=\"menu__list\" style=\"display: block; overflow: visible; height: auto; will-change: height; transition: height 307ms ease-in-out 0s;\"><li class=\"theme-doc-sidebar-item-link theme-doc-sidebar-item-link-level-2 menu__list-item\"><a class=\"menu__link\" tabindex=\"0\" href=\"/docs/api-reference/core/RecoilRoot\">&lt;RecoilRoot&gt;</a></li><li class=\"theme-doc-sidebar-item-category theme-doc-sidebar-item-category-level-2 menu__list-item\"><div class=\"menu__list-item-collapsible\"><a href=\"#\" class=\"menu__link menu__link--sublist\" tabindex=\"0\">State</a></div><ul class=\"menu__list\" style=\"display: block; overflow: visible; height: auto; will-change: height; transition: height 342ms ease-in-out 0s;\"><li class=\"theme-doc-sidebar-item-link theme-doc-sidebar-item-link-level-3 menu__list-item\"><a class=\"menu__link\" tabindex=\"0\" href=\"/docs/api-reference/core/atom\">atom()</a></li><li class=\"theme-doc-sidebar-item-link theme-doc-sidebar-item-link-level-3 menu__list-item\"><a class=\"menu__link\" tabindex=\"0\" href=\"/docs/api-reference/core/selector\">selector()</a></li><li class=\"theme-doc-sidebar-item-link theme-doc-sidebar-item-link-level-3 menu__list-item\"><a class=\"menu__link\" tabindex=\"0\" href=\"/docs/api-reference/core/Loadable\">Loadable</a></li><li class=\"theme-doc-sidebar-item-link theme-doc-sidebar-item-link-level-3 menu__list-item\"><a class=\"menu__link\" tabindex=\"0\" href=\"/docs/api-reference/core/useRecoilState\">useRecoilState()</a></li><li class=\"theme-doc-sidebar-item-link theme-doc-sidebar-item-link-level-3 menu__list-item\"><a class=\"menu__link\" tabindex=\"0\" href=\"/docs/api-reference/core/useRecoilValue\">useRecoilValue()</a></li><li class=\"theme-doc-sidebar-item-link theme-doc-sidebar-item-link-level-3 menu__list-item\"><a class=\"menu__link\" tabindex=\"0\" href=\"/docs/api-reference/core/useSetRecoilState\">useSetRecoilState()</a></li><li class=\"theme-doc-sidebar-item-link theme-doc-sidebar-item-link-level-3 menu__list-item\"><a class=\"menu__link\" tabindex=\"0\" href=\"/docs/api-reference/core/useResetRecoilState\">useResetRecoilState()</a></li><li class=\"theme-doc-sidebar-item-link theme-doc-sidebar-item-link-level-3 menu__list-item\"><a class=\"menu__link\" tabindex=\"0\" href=\"/docs/api-reference/core/useRecoilStateLoadable\">useRecoilStateLoadable()</a></li><li class=\"theme-doc-sidebar-item-link theme-doc-sidebar-item-link-level-3 menu__list-item\"><a class=\"menu__link\" tabindex=\"0\" href=\"/docs/api-reference/core/useRecoilValueLoadable\">useRecoilValueLoadable()</a></li><li class=\"theme-doc-sidebar-item-link theme-doc-sidebar-item-link-level-3 menu__list-item\"><a class=\"menu__link\" tabindex=\"0\" href=\"/docs/api-reference/core/useGetRecoilValueInfo\">useGetRecoilValueInfo()</a></li><li class=\"theme-doc-sidebar-item-link theme-doc-sidebar-item-link-level-3 menu__list-item\"><a class=\"menu__link\" tabindex=\"0\" href=\"/docs/api-reference/core/useRecoilRefresher\">useRecoilRefresher()</a></li><li class=\"theme-doc-sidebar-item-link theme-doc-sidebar-item-link-level-3 menu__list-item\"><a class=\"menu__link\" tabindex=\"0\" href=\"/docs/api-reference/core/isRecoilValue\">isRecoilValue()</a></li></ul></li><li class=\"theme-doc-sidebar-item-category theme-doc-sidebar-item-category-level-2 menu__list-item\"><div class=\"menu__list-item-collapsible\"><a href=\"#\" class=\"menu__link menu__link--sublist\" tabindex=\"0\">Utils</a></div><ul class=\"menu__list\" style=\"display: block; overflow: visible; height: auto; will-change: height; transition: height 317ms ease-in-out 0s;\"><li class=\"theme-doc-sidebar-item-link theme-doc-sidebar-item-link-level-3 menu__list-item\"><a class=\"menu__link\" tabindex=\"0\" href=\"/docs/api-reference/utils/atomFamily\">atomFamily()</a></li><li class=\"theme-doc-sidebar-item-link theme-doc-sidebar-item-link-level-3 menu__list-item\"><a class=\"menu__link\" tabindex=\"0\" href=\"/docs/api-reference/utils/selectorFamily\">selectorFamily()</a></li><li class=\"theme-doc-sidebar-item-link theme-doc-sidebar-item-link-level-3 menu__list-item\"><a class=\"menu__link\" tabindex=\"0\" href=\"/docs/api-reference/utils/constSelector\">constSelector()</a></li><li class=\"theme-doc-sidebar-item-link theme-doc-sidebar-item-link-level-3 menu__list-item\"><a class=\"menu__link\" tabindex=\"0\" href=\"/docs/api-reference/utils/errorSelector\">errorSelector()</a></li><li class=\"theme-doc-sidebar-item-link theme-doc-sidebar-item-link-level-3 menu__list-item\"><a class=\"menu__link\" tabindex=\"0\" href=\"/docs/api-reference/utils/noWait\">noWait()</a></li><li class=\"theme-doc-sidebar-item-link theme-doc-sidebar-item-link-level-3 menu__list-item\"><a class=\"menu__link\" tabindex=\"0\" href=\"/docs/api-reference/utils/waitForAll\">waitForAll()</a></li><li class=\"theme-doc-sidebar-item-link theme-doc-sidebar-item-link-level-3 menu__list-item\"><a class=\"menu__link\" tabindex=\"0\" href=\"/docs/api-reference/utils/waitForAllSettled\">waitForAllSettled()</a></li><li class=\"theme-doc-sidebar-item-link theme-doc-sidebar-item-link-level-3 menu__list-item\"><a class=\"menu__link\" tabindex=\"0\" href=\"/docs/api-reference/utils/waitForNone\">waitForNone()</a></li><li class=\"theme-doc-sidebar-item-link theme-doc-sidebar-item-link-level-3 menu__list-item\"><a class=\"menu__link\" tabindex=\"0\" href=\"/docs/api-reference/utils/waitForAny\">waitForAny()</a></li></ul></li><li class=\"theme-doc-sidebar-item-link theme-doc-sidebar-item-link-level-2 menu__list-item\"><a class=\"menu__link\" tabindex=\"0\" href=\"/docs/api-reference/core/useRecoilTransaction\">useRecoilTransaction()</a></li><li class=\"theme-doc-sidebar-item-link theme-doc-sidebar-item-link-level-2 menu__list-item\"><a class=\"menu__link\" tabindex=\"0\" href=\"/docs/api-reference/core/useRecoilCallback\">useRecoilCallback()</a></li><li class=\"theme-doc-sidebar-item-category theme-doc-sidebar-item-category-level-2 menu__list-item\"><div class=\"menu__list-item-collapsible\"><a href=\"#\" class=\"menu__link menu__link--sublist\" tabindex=\"0\">Snapshots</a></div><ul class=\"menu__list\" style=\"display: block; overflow: visible; height: auto; will-change: height; transition: height 258ms ease-in-out 0s;\"><li class=\"theme-doc-sidebar-item-link theme-doc-sidebar-item-link-level-3 menu__list-item\"><a class=\"menu__link\" tabindex=\"0\" href=\"/docs/api-reference/core/Snapshot\">Snapshot</a></li><li class=\"theme-doc-sidebar-item-link theme-doc-sidebar-item-link-level-3 menu__list-item\"><a class=\"menu__link\" tabindex=\"0\" href=\"/docs/api-reference/core/useRecoilTransactionObserver\">useRecoilTransactionObserver()</a></li><li class=\"theme-doc-sidebar-item-link theme-doc-sidebar-item-link-level-3 menu__list-item\"><a class=\"menu__link\" tabindex=\"0\" href=\"/docs/api-reference/core/useRecoilSnapshot\">useRecoilSnapshot()</a></li><li class=\"theme-doc-sidebar-item-link theme-doc-sidebar-item-link-level-3 menu__list-item\"><a class=\"menu__link\" tabindex=\"0\" href=\"/docs/api-reference/core/useGotoRecoilSnapshot\">useGotoRecoilSnapshot()</a></li></ul></li><li class=\"theme-doc-sidebar-item-category theme-doc-sidebar-item-category-level-2 menu__list-item\"><div class=\"menu__list-item-collapsible\"><a href=\"#\" class=\"menu__link menu__link--sublist\" tabindex=\"0\">Misc</a></div><ul class=\"menu__list\" style=\"display: block; overflow: visible; height: auto; will-change: height; transition: height 220ms ease-in-out 0s;\"><li class=\"theme-doc-sidebar-item-link theme-doc-sidebar-item-link-level-3 menu__list-item\"><a class=\"menu__link\" tabindex=\"0\" href=\"/docs/api-reference/core/useRecoilStoreID\">useRecoilStoreID()</a></li><li class=\"theme-doc-sidebar-item-link theme-doc-sidebar-item-link-level-3 menu__list-item\"><a class=\"menu__link\" tabindex=\"0\" href=\"/docs/api-reference/core/useRecoilBridgeAcrossReactRoots\">useRecoilBridgeAcrossReactRoots()</a></li></ul></li><li class=\"theme-doc-sidebar-item-link theme-doc-sidebar-item-link-level-2 menu__list-item\"><a class=\"menu__link\" tabindex=\"0\" href=\"/docs/api-reference/core/RecoilEnv\">RecoilEnv</a></li></ul></li></ul></div>\"\"\""
   ]
  },
  {
   "cell_type": "code",
   "execution_count": 7,
   "id": "6e3f61fa",
   "metadata": {},
   "outputs": [],
   "source": [
    "soup = bs(html,'html.parser')"
   ]
  },
  {
   "cell_type": "code",
   "execution_count": 8,
   "id": "cfad7392",
   "metadata": {},
   "outputs": [],
   "source": [
    "for element in soup.select('a'):\n",
    "    detail = element.attrs['href']\n",
    "    if detail != '#':\n",
    "        totalUrlArray += ['https://recoiljs.org'+detail]"
   ]
  },
  {
   "cell_type": "code",
   "execution_count": 9,
   "id": "7797a146",
   "metadata": {},
   "outputs": [],
   "source": [
    "#나머지 rootUrl[1], rootUrl[2], rootUrl[3]은 deps가 하나로 구성되어있어서 requests 이용해서 html 가져옴."
   ]
  },
  {
   "cell_type": "code",
   "execution_count": 10,
   "id": "00a4020c",
   "metadata": {},
   "outputs": [],
   "source": [
    "for i in [1,2,3]:\n",
    "    soup = getHtmlToSoup(rootUrl[i])\n",
    "    for element in soup.select('nav')[1].select('a'):\n",
    "        detail = element.attrs['href']\n",
    "        totalUrlArray += ['https://recoiljs.org'+detail]\n",
    "    time.sleep(3)"
   ]
  },
  {
   "cell_type": "code",
   "execution_count": null,
   "id": "cae550d9",
   "metadata": {},
   "outputs": [],
   "source": []
  }
 ],
 "metadata": {
  "kernelspec": {
   "display_name": "Python 3",
   "language": "python",
   "name": "python3"
  },
  "language_info": {
   "codemirror_mode": {
    "name": "ipython",
    "version": 3
   },
   "file_extension": ".py",
   "mimetype": "text/x-python",
   "name": "python",
   "nbconvert_exporter": "python",
   "pygments_lexer": "ipython3",
   "version": "3.8.8"
  }
 },
 "nbformat": 4,
 "nbformat_minor": 5
}
