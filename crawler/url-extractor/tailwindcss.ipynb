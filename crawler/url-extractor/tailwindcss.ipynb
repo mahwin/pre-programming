{
 "cells": [
  {
   "cell_type": "code",
   "execution_count": 1,
   "id": "b3778e54",
   "metadata": {},
   "outputs": [],
   "source": [
    "import requests\n",
    "from bs4 import BeautifulSoup as bs\n",
    "from selenium import webdriver\n",
    "import time"
   ]
  },
  {
   "cell_type": "code",
   "execution_count": 2,
   "id": "ac97c9de",
   "metadata": {},
   "outputs": [],
   "source": [
    "def getHtmlToSoup(url):\n",
    "    webdriverhtml = requests.get(url)\n",
    "    return bs(webdriverhtml.text,'html.parser')"
   ]
  },
  {
   "cell_type": "code",
   "execution_count": 3,
   "id": "376ef93c",
   "metadata": {},
   "outputs": [],
   "source": [
    "# css 프레임워크라 예제가 많아서 docs부분만 크롤링하기로 함.\n",
    "homeUrl='https://tailwindcss.com/docs'\n",
    "totalUrlArray = [] "
   ]
  },
  {
   "cell_type": "code",
   "execution_count": 4,
   "id": "c9ee6d2e",
   "metadata": {},
   "outputs": [],
   "source": [
    "soup = getHtmlToSoup(homeUrl)"
   ]
  },
  {
   "cell_type": "code",
   "execution_count": 5,
   "id": "7cb17f77",
   "metadata": {},
   "outputs": [],
   "source": [
    "for element in soup.select('li.mt-12'):\n",
    "    for detail in element.select('a'):\n",
    "        totalUrlArray += ['https://tailwindcss.com/'+ detail.attrs['href']]\n",
    "        "
   ]
  },
  {
   "cell_type": "code",
   "execution_count": 6,
   "id": "2cd3303a",
   "metadata": {},
   "outputs": [],
   "source": [
    "#마지막 3개의 url이 git 허브 주소라서 제외\n",
    "totalUrlArray = totalUrlArray[:-3]"
   ]
  },
  {
   "cell_type": "code",
   "execution_count": null,
   "id": "7b613915",
   "metadata": {},
   "outputs": [
    {
     "name": "stdout",
     "output_type": "stream",
     "text": [
      "https://tailwindcss.com//docs/installation\n",
      "https://tailwindcss.com//docs/editor-setup\n",
      "https://tailwindcss.com//docs/using-with-preprocessors\n",
      "https://tailwindcss.com//docs/optimizing-for-production\n",
      "https://tailwindcss.com//docs/browser-support\n",
      "https://tailwindcss.com//docs/upgrade-guide\n",
      "https://tailwindcss.com//docs/utility-first\n",
      "https://tailwindcss.com//docs/hover-focus-and-other-states\n",
      "https://tailwindcss.com//docs/responsive-design\n",
      "https://tailwindcss.com//docs/dark-mode\n",
      "...\n",
      "179개의 detail url로 구성\n"
     ]
    }
   ],
   "source": [
    "print(*totalUrlArray[:10],sep='\\n')\n",
    "print('...')\n",
    "print('{}개의 detail url로 구성'.format(len(totalUrlArray)))"
   ]
  },
  {
   "cell_type": "code",
   "execution_count": null,
   "id": "a8b47b25",
   "metadata": {},
   "outputs": [],
   "source": [
    "import pickle\n",
    "f = open('tailwind.pkl','wb')\n",
    "pickle.dump(totalUrlArray, f)\n",
    "f.close()"
   ]
  }
 ],
 "metadata": {
  "kernelspec": {
   "display_name": "Python 3",
   "language": "python",
   "name": "python3"
  },
  "language_info": {
   "codemirror_mode": {
    "name": "ipython",
    "version": 3
   },
   "file_extension": ".py",
   "mimetype": "text/x-python",
   "name": "python",
   "nbconvert_exporter": "python",
   "pygments_lexer": "ipython3",
   "version": "3.8.8"
  }
 },
 "nbformat": 4,
 "nbformat_minor": 5
}
