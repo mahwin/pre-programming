{
 "cells": [
  {
   "cell_type": "code",
   "execution_count": 1,
   "id": "0d4e4cd2",
   "metadata": {},
   "outputs": [],
   "source": [
    "import requests\n",
    "from bs4 import BeautifulSoup as bs\n",
    "from selenium import webdriver\n",
    "import time"
   ]
  },
  {
   "cell_type": "code",
   "execution_count": 2,
   "id": "117e886f",
   "metadata": {},
   "outputs": [],
   "source": [
    "def getHtmlToSoup(url):\n",
    "    webdriverhtml = requests.get(url)\n",
    "    return bs(webdriverhtml.text,'html.parser')"
   ]
  },
  {
   "cell_type": "code",
   "execution_count": 3,
   "id": "08b0253a",
   "metadata": {},
   "outputs": [],
   "source": [
    "#homepage 밑의 첫 deps에서 필요한 url은 home, Get Started API Advanced FAQs임\n",
    "\n",
    "#    Home                     => 필요 0\n",
    "#    Get Started              => 필요 1\n",
    "#    API                      => 필요 2  => deps 하나 더 들어가야함.\n",
    "#    TS                       => 무시 \n",
    "#    Advanced                 => 필요 4\n",
    "#    FAQs                     => 필요 5\n",
    "#    Tools                    => 무시\n",
    "#    DevTools                 => 무시\n",
    "#    Form Builder             => 무시\n",
    "#    Resources                => 무시\n",
    "#    Releases                 => 무시\n",
    "\n",
    "# [0,1,2,4,5]\n",
    "homeUrl = 'https://react-hook-form.com'\n",
    "totalUrlArray = []"
   ]
  },
  {
   "cell_type": "code",
   "execution_count": 4,
   "id": "dacd9e0a",
   "metadata": {},
   "outputs": [],
   "source": [
    "soup = getHtmlToSoup(homeUrl)\n",
    "for idx, element in enumerate(soup.select('nav >a')):\n",
    "    if idx in [0,1,2,4,5]:\n",
    "        totalUrlArray += [ homeUrl +element.attrs['href']]"
   ]
  },
  {
   "cell_type": "code",
   "execution_count": 5,
   "id": "fdfeb2b1",
   "metadata": {},
   "outputs": [],
   "source": [
    "# api 위치 조정\n",
    "MoredrillUrl =totalUrlArray.pop(2)\n",
    "soup = getHtmlToSoup(MoredrillUrl)\n",
    "totalUrlArray.append(MoredrillUrl)\n",
    "# api/* url 추가\n",
    "for element in soup.select('main')[0].select('a'):\n",
    "    totalUrlArray += [homeUrl + element.attrs['href']]"
   ]
  },
  {
   "cell_type": "code",
   "execution_count": 7,
   "id": "a9f115fa",
   "metadata": {},
   "outputs": [
    {
     "name": "stdout",
     "output_type": "stream",
     "text": [
      "https://react-hook-form.com/\n",
      "https://react-hook-form.com/get-started\n",
      "https://react-hook-form.com/advanced-usage\n",
      "https://react-hook-form.com/faqs\n",
      "https://react-hook-form.com/api\n",
      "https://react-hook-form.com/api/useform\n",
      "https://react-hook-form.com/api/usecontroller\n",
      "https://react-hook-form.com/api/useformcontext\n",
      "https://react-hook-form.com/api/usewatch\n",
      "https://react-hook-form.com/api/useformstate\n",
      "https://react-hook-form.com/api/usefieldarray\n",
      "...\n",
      "총 11개의 detail url\n"
     ]
    }
   ],
   "source": [
    "print(*totalUrlArray, sep='\\n')\n",
    "print('...')\n",
    "print('총 {}개의 detail url'.format(len(totalUrlArray)))"
   ]
  },
  {
   "cell_type": "code",
   "execution_count": 8,
   "id": "4f8bd2d2",
   "metadata": {},
   "outputs": [],
   "source": [
    "import pickle\n",
    "f = open('react-hook-form.pkl','wb')\n",
    "pickle.dump(totalUrlArray, f)\n",
    "f.close()"
   ]
  }
 ],
 "metadata": {
  "kernelspec": {
   "display_name": "Python 3",
   "language": "python",
   "name": "python3"
  },
  "language_info": {
   "codemirror_mode": {
    "name": "ipython",
    "version": 3
   },
   "file_extension": ".py",
   "mimetype": "text/x-python",
   "name": "python",
   "nbconvert_exporter": "python",
   "pygments_lexer": "ipython3",
   "version": "3.8.8"
  }
 },
 "nbformat": 4,
 "nbformat_minor": 5
}
